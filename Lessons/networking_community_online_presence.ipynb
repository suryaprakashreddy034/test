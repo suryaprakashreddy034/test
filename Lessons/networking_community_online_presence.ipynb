{
 "cells": [
  {
   "cell_type": "markdown",
   "metadata": {
    "toc": true
   },
   "source": [
    "<h1>Table of Contents<span class=\"tocSkip\"></span></h1>\n",
    "<div class=\"toc\"><ul class=\"toc-item\"><li><span><a href=\"#Preface\" data-toc-modified-id=\"Preface-1\"><span class=\"toc-item-num\">1&nbsp;&nbsp;</span>Preface</a></span></li><li><span><a href=\"#Step-0:-Practice-Your-Skills\" data-toc-modified-id=\"Step-0:-Practice-Your-Skills-2\"><span class=\"toc-item-num\">2&nbsp;&nbsp;</span>Step 0: Practice Your Skills</a></span></li><li><span><a href=\"#Networking---The-Most-Intimidating-(For-the-Socially-Anxious)\" data-toc-modified-id=\"Networking---The-Most-Intimidating-(For-the-Socially-Anxious)-3\"><span class=\"toc-item-num\">3&nbsp;&nbsp;</span>Networking - The Most Intimidating (For the Socially Anxious)</a></span><ul class=\"toc-item\"><li><span><a href=\"#What-Is-It?\" data-toc-modified-id=\"What-Is-It?-3.1\"><span class=\"toc-item-num\">3.1&nbsp;&nbsp;</span>What Is It?</a></span></li><li><span><a href=\"#Why?\" data-toc-modified-id=\"Why?-3.2\"><span class=\"toc-item-num\">3.2&nbsp;&nbsp;</span>Why?</a></span></li><li><span><a href=\"#But-How?!\" data-toc-modified-id=\"But-How?!-3.3\"><span class=\"toc-item-num\">3.3&nbsp;&nbsp;</span>But How?!</a></span><ul class=\"toc-item\"><li><span><a href=\"#Reaching-Out\" data-toc-modified-id=\"Reaching-Out-3.3.1\"><span class=\"toc-item-num\">3.3.1&nbsp;&nbsp;</span>Reaching Out</a></span></li></ul></li></ul></li><li><span><a href=\"#Being-part-of-DS-community\" data-toc-modified-id=\"Being-part-of-DS-community-4\"><span class=\"toc-item-num\">4&nbsp;&nbsp;</span>Being part of DS community</a></span><ul class=\"toc-item\"><li><span><a href=\"#In-Person-Conferences/Meetups-(aka:-Pre/Post-COVID-19-Gatherings)\" data-toc-modified-id=\"In-Person-Conferences/Meetups-(aka:-Pre/Post-COVID-19-Gatherings)-4.1\"><span class=\"toc-item-num\">4.1&nbsp;&nbsp;</span>In-Person Conferences/Meetups (aka: Pre/Post COVID-19 Gatherings)</a></span></li><li><span><a href=\"#Online-Communities\" data-toc-modified-id=\"Online-Communities-4.2\"><span class=\"toc-item-num\">4.2&nbsp;&nbsp;</span>Online Communities</a></span><ul class=\"toc-item\"><li><span><a href=\"#Social-Media-Platforms:-Twitter\" data-toc-modified-id=\"Social-Media-Platforms:-Twitter-4.2.1\"><span class=\"toc-item-num\">4.2.1&nbsp;&nbsp;</span>Social Media Platforms: Twitter</a></span></li><li><span><a href=\"#Kaggle\" data-toc-modified-id=\"Kaggle-4.2.2\"><span class=\"toc-item-num\">4.2.2&nbsp;&nbsp;</span>Kaggle</a></span></li></ul></li><li><span><a href=\"#Build-Your-Portfolio-==-Brand\" data-toc-modified-id=\"Build-Your-Portfolio-==-Brand-4.3\"><span class=\"toc-item-num\">4.3&nbsp;&nbsp;</span>Build Your Portfolio == Brand</a></span><ul class=\"toc-item\"><li><span><a href=\"#Special-Note-on-LinkedIn\" data-toc-modified-id=\"Special-Note-on-LinkedIn-4.3.1\"><span class=\"toc-item-num\">4.3.1&nbsp;&nbsp;</span>Special Note on LinkedIn</a></span></li></ul></li></ul></li><li><span><a href=\"#Resume\" data-toc-modified-id=\"Resume-5\"><span class=\"toc-item-num\">5&nbsp;&nbsp;</span>Resume</a></span></li></ul></div>"
   ]
  },
  {
   "cell_type": "markdown",
   "metadata": {
    "heading_collapsed": true
   },
   "source": [
    "# Preface "
   ]
  },
  {
   "cell_type": "markdown",
   "metadata": {
    "hidden": true
   },
   "source": [
    "> (I am not an expert), there are other **resources**\n",
    "\n",
    "<details >\n",
    "    <summary style=\"font-weight:bold;\">You’re not in this alone at Flatiron</summary>\n",
    "    <img src=\"images/flatironschool_logo_square.png\"/>\n",
    "    <ul>\n",
    "        <li>(Thursday at 11:30 am to 12pm ET there is a Career Services AMA)\n",
    "        </li>\n",
    "    </ul>\n",
    "</details >    \n",
    "<details >\n",
    "    <summary style=\"font-weight:bold;\">A Great Read</summary>\n",
    "    <a href=\"https://bestbook.cool/\"><em>Build a Career in Data Science</em></a> & <a href= \"https://podcast.bestbook.cool/\">podcast</a>\n",
    "    <img src=\"images/build-a-career-in-data-science-cover-art.png\"/>\n",
    "    \n",
    "</details>"
   ]
  },
  {
   "cell_type": "markdown",
   "metadata": {
    "heading_collapsed": true
   },
   "source": [
    "# Step 0: Practice Your Skills"
   ]
  },
  {
   "cell_type": "markdown",
   "metadata": {
    "hidden": true
   },
   "source": [
    "![http://images1.memedroid.com/images/UPLOADED/4f67ae1a064c0.jpeg](images/point_of_practice_meme.jpeg)\n",
    "\n",
    "Networking and being involved in the community aren't the only important things!"
   ]
  },
  {
   "cell_type": "markdown",
   "metadata": {
    "hidden": true
   },
   "source": [
    "- Usually the more you practice your skills, the stronger your \"brand\" will be"
   ]
  },
  {
   "cell_type": "markdown",
   "metadata": {
    "heading_collapsed": true
   },
   "source": [
    "# Networking - The Most Intimidating (For the Socially Anxious)"
   ]
  },
  {
   "cell_type": "markdown",
   "metadata": {
    "hidden": true
   },
   "source": [
    "![https://thumbor.forbes.com/thumbor/960x0/https%3A%2F%2Fspecials-images.forbesimg.com%2Fdam%2Fimageserve%2F1135040422%2F960x0.jpg%3Ffit%3Dscale](images/networking_handshake.jpg)"
   ]
  },
  {
   "cell_type": "markdown",
   "metadata": {
    "heading_collapsed": true,
    "hidden": true
   },
   "source": [
    "## What Is It?"
   ]
  },
  {
   "cell_type": "markdown",
   "metadata": {
    "hidden": true
   },
   "source": [
    "![https://i.chzbgr.com/full/8796955392/h9D322E21/social-networking-business-card-exchange-web-comics](images/social-networking-business-card-exchange-web-comics.png)"
   ]
  },
  {
   "cell_type": "markdown",
   "metadata": {
    "hidden": true
   },
   "source": [
    "- Sometimes sounds like a dirty word\n",
    "- Really it’s about making a human connection\n",
    "- LinkedIn is basically  a requirement but could be other mediums"
   ]
  },
  {
   "cell_type": "markdown",
   "metadata": {
    "heading_collapsed": true,
    "hidden": true
   },
   "source": [
    "## Why?"
   ]
  },
  {
   "cell_type": "markdown",
   "metadata": {
    "hidden": true
   },
   "source": [
    "-  Personally, never got a role without talking to someone first (friend, reachout via LinkedIn, etc.)"
   ]
  },
  {
   "cell_type": "markdown",
   "metadata": {
    "hidden": true
   },
   "source": [
    "![https://upload.wikimedia.org/wikipedia/commons/thumb/b/bc/Friends_logo.svg/1024px-Friends_logo.svg.png](images/friends_logo.png)"
   ]
  },
  {
   "cell_type": "markdown",
   "metadata": {
    "heading_collapsed": true,
    "hidden": true
   },
   "source": [
    "## But How?!"
   ]
  },
  {
   "cell_type": "markdown",
   "metadata": {
    "hidden": true
   },
   "source": [
    "<img alt=\"https://tinkercademy.com/wp-content/uploads/2017/10/03-FYI-Difficulty-Level-Beginner.png\" src=\"images/easy_meter.png\" width=30%/>"
   ]
  },
  {
   "cell_type": "markdown",
   "metadata": {
    "hidden": true
   },
   "source": [
    "- Easy:  friends you work closely with\n",
    "- Medium:  people you sort of know (we all want to help one another)\n",
    "- Harder:  reaching out to people you don’t know (desired and the one can expand our horizons)"
   ]
  },
  {
   "cell_type": "markdown",
   "metadata": {
    "heading_collapsed": true,
    "hidden": true
   },
   "source": [
    "### Reaching Out"
   ]
  },
  {
   "cell_type": "markdown",
   "metadata": {
    "hidden": true
   },
   "source": [
    "> Aside: selfishly doing this for myself"
   ]
  },
  {
   "cell_type": "markdown",
   "metadata": {
    "hidden": true
   },
   "source": [
    "This can be the hardest but also the most worthwhile"
   ]
  },
  {
   "cell_type": "markdown",
   "metadata": {
    "hidden": true
   },
   "source": [
    "- Find people you want to be in the future (company, role, experience, etc.) ![https://www.everymum.ie/getattachment/My-Family/Home-life/How-To-Be-A-Good-Role-Model-For-Your-Kids/How-To-Be-A-Good-Role-Model-For-Kids.png/?lang=en-IE&width=779&height=437&ext=.png](images/role-model-ballerina.png)\n",
    "- Maybe a conference or seen them in something else\n",
    "- Reach out, share something\n",
    "    - \"I’m a student...\"\n",
    "    - \"I'm interested in your role/company, could we chat?\""
   ]
  },
  {
   "cell_type": "markdown",
   "metadata": {
    "hidden": true
   },
   "source": [
    "![https://experiencelife.com/wp-content/uploads/2016/03/Design-for-the-Future-You-1280x720.jpg](images/helping-stairs.jpg)"
   ]
  },
  {
   "cell_type": "markdown",
   "metadata": {
    "heading_collapsed": true
   },
   "source": [
    "# Being part of DS community"
   ]
  },
  {
   "cell_type": "markdown",
   "metadata": {
    "heading_collapsed": true,
    "hidden": true
   },
   "source": [
    "## In-Person Conferences/Meetups (aka: Pre/Post COVID-19 Gatherings)"
   ]
  },
  {
   "cell_type": "markdown",
   "metadata": {
    "hidden": true
   },
   "source": [
    "![https://i.imgur.com/80Sln9Z.gif](images/crowd.gif)"
   ]
  },
  {
   "cell_type": "markdown",
   "metadata": {
    "heading_collapsed": true,
    "hidden": true
   },
   "source": [
    "## Online Communities"
   ]
  },
  {
   "cell_type": "markdown",
   "metadata": {
    "hidden": true
   },
   "source": [
    "![https://www.chinainternetwatch.com/wp-content/uploads/online-community.png](images/online-community.png)"
   ]
  },
  {
   "cell_type": "markdown",
   "metadata": {
    "heading_collapsed": true,
    "hidden": true
   },
   "source": [
    "### Social Media Platforms: Twitter"
   ]
  },
  {
   "cell_type": "markdown",
   "metadata": {
    "hidden": true
   },
   "source": [
    "![https://pics.me.me/tried-twitter-and-hated-it-one-less-social-media-platform-30049642.png](images/tried-twitter-and-hated-it.png)"
   ]
  },
  {
   "cell_type": "markdown",
   "metadata": {
    "hidden": true
   },
   "source": [
    "- Who do you care to hear professionally?\n",
    "- Consider limiting your following\n",
    "- Be genuine\n",
    "    * Example [resume](https://pjreddie.com/static/Redmon%20Resume.pdf)"
   ]
  },
  {
   "cell_type": "markdown",
   "metadata": {
    "heading_collapsed": true,
    "hidden": true
   },
   "source": [
    "### Kaggle"
   ]
  },
  {
   "cell_type": "markdown",
   "metadata": {
    "hidden": true
   },
   "source": [
    "> Data Science Community, Competitions, etc."
   ]
  },
  {
   "cell_type": "markdown",
   "metadata": {
    "hidden": true
   },
   "source": [
    "![https://upload.wikimedia.org/wikipedia/commons/7/7c/Kaggle_logo.png](images/kaggle_logo.png)"
   ]
  },
  {
   "cell_type": "markdown",
   "metadata": {
    "hidden": true
   },
   "source": [
    "- Let’s look at the basics of Kaggle → [kaggle.com](https://kaggle.com)\n",
    "- Note on getting noticed on Kaggle → [Discussion thread example](https://www.kaggle.com/general/213900#1168169)\n",
    "- Make sure you’re at least \"Blue\" (Contributor) → [Progression System](https://www.kaggle.com/progression)"
   ]
  },
  {
   "cell_type": "markdown",
   "metadata": {
    "heading_collapsed": true,
    "hidden": true
   },
   "source": [
    "## Build Your Portfolio == Brand"
   ]
  },
  {
   "cell_type": "markdown",
   "metadata": {
    "hidden": true
   },
   "source": [
    "![https://mk0fabrikbrandsfni4m.kinstacdn.com/wp-content/uploads/Personal-Branding-1.jpg](images/i-am-a-brand.jpg)"
   ]
  },
  {
   "cell_type": "markdown",
   "metadata": {
    "hidden": true
   },
   "source": [
    "- Both are part of a DS\n",
    "    - Technical ==  math/code practice\n",
    "    - “Non-technical” == communication\n",
    "- Helps you stand out\n",
    "    - Projects\n",
    "    - Blog\n",
    "- The \"elevator pitch\""
   ]
  },
  {
   "cell_type": "markdown",
   "metadata": {
    "heading_collapsed": true,
    "hidden": true
   },
   "source": [
    "### Special Note on LinkedIn"
   ]
  },
  {
   "cell_type": "markdown",
   "metadata": {
    "hidden": true
   },
   "source": [
    "![https://upload.wikimedia.org/wikipedia/commons/thumb/8/80/LinkedIn_Logo_2013.svg/1024px-LinkedIn_Logo_2013.svg.png](images/linkedin_logo.png)"
   ]
  },
  {
   "cell_type": "markdown",
   "metadata": {
    "hidden": true
   },
   "source": [
    "<details><summary>What goes on your profile?</summary>\n",
    "    \n",
    "- Education\n",
    "- Work Experience\n",
    "- Example projects\n",
    "- Skills\n",
    "    \n",
    "</details>"
   ]
  },
  {
   "cell_type": "markdown",
   "metadata": {
    "hidden": true
   },
   "source": [
    "Example of mine (not necessarily the best! Make it your own!)\n",
    "\n",
    "[linkedin.com/in/mrgeislinger](https://www.linkedin.com/in/mrgeislinger/)"
   ]
  },
  {
   "cell_type": "markdown",
   "metadata": {
    "heading_collapsed": true
   },
   "source": [
    "# Resume"
   ]
  },
  {
   "cell_type": "markdown",
   "metadata": {
    "hidden": true
   },
   "source": [
    "Goal: **Gets you the interview (to talk to someone), doesn’t get you the job**\n",
    "\n",
    "* It’s a first hurdle"
   ]
  },
  {
   "cell_type": "markdown",
   "metadata": {
    "hidden": true
   },
   "source": [
    "![https://www.myactivesg.com/-/media/SSC/Consumer/Images/Sports/Athletics/27th-Myanmar-Southeast-Asian-Games_2013_12_17_Andrew-JK-Tan_07.jpg?la=en&hash=1C983506FB4B11EDD06BC403B92A1F060338B55F](images/hurdle.jpg)"
   ]
  }
 ],
 "metadata": {
  "kernelspec": {
   "display_name": "Python 3",
   "language": "python",
   "name": "python3"
  },
  "language_info": {
   "codemirror_mode": {
    "name": "ipython",
    "version": 3
   },
   "file_extension": ".py",
   "mimetype": "text/x-python",
   "name": "python",
   "nbconvert_exporter": "python",
   "pygments_lexer": "ipython3",
   "version": "3.8.5"
  },
  "toc": {
   "base_numbering": 1,
   "nav_menu": {},
   "number_sections": true,
   "sideBar": false,
   "skip_h1_title": false,
   "title_cell": "Table of Contents",
   "title_sidebar": "TOC",
   "toc_cell": true,
   "toc_position": {},
   "toc_section_display": true,
   "toc_window_display": false
  }
 },
 "nbformat": 4,
 "nbformat_minor": 4
}
