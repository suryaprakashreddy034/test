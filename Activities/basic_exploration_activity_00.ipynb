{
 "cells": [
  {
   "cell_type": "markdown",
   "metadata": {
    "toc": true
   },
   "source": [
    "<h1>Table of Contents<span class=\"tocSkip\"></span></h1>\n",
    "<div class=\"toc\"><ul class=\"toc-item\"><li><span><a href=\"#Exploration-Acitivity\" data-toc-modified-id=\"Exploration-Acitivity-1\"><span class=\"toc-item-num\">1&nbsp;&nbsp;</span>Exploration Acitivity</a></span><ul class=\"toc-item\"><li><span><a href=\"#Objectives\" data-toc-modified-id=\"Objectives-1.1\"><span class=\"toc-item-num\">1.1&nbsp;&nbsp;</span>Objectives</a></span></li><li><span><a href=\"#Helpful-Notebooks\" data-toc-modified-id=\"Helpful-Notebooks-1.2\"><span class=\"toc-item-num\">1.2&nbsp;&nbsp;</span>Helpful Notebooks</a></span></li><li><span><a href=\"#Other-Resources\" data-toc-modified-id=\"Other-Resources-1.3\"><span class=\"toc-item-num\">1.3&nbsp;&nbsp;</span>Other Resources</a></span></li></ul></li><li><span><a href=\"#Your-Activity\" data-toc-modified-id=\"Your-Activity-2\"><span class=\"toc-item-num\">2&nbsp;&nbsp;</span>Your Activity</a></span><ul class=\"toc-item\"><li><span><a href=\"#👩🏻‍💻-👨🏾‍💻-👨🏼‍💻--Group-up-and-create-a-repo\" data-toc-modified-id=\"👩🏻‍💻-👨🏾‍💻-👨🏼‍💻--Group-up-and-create-a-repo-2.1\"><span class=\"toc-item-num\">2.1&nbsp;&nbsp;</span>👩🏻‍💻 👨🏾‍💻 👨🏼‍💻  Group up and create a repo</a></span></li><li><span><a href=\"#🔎-Find-some-data-&amp;-download-it\" data-toc-modified-id=\"🔎-Find-some-data-&amp;-download-it-2.2\"><span class=\"toc-item-num\">2.2&nbsp;&nbsp;</span>🔎 Find some data &amp; download it</a></span></li><li><span><a href=\"#🖥-Import-your-data\" data-toc-modified-id=\"🖥-Import-your-data-2.3\"><span class=\"toc-item-num\">2.3&nbsp;&nbsp;</span>🖥 Import your data</a></span></li><li><span><a href=\"#🔢-Describe-your-data\" data-toc-modified-id=\"🔢-Describe-your-data-2.4\"><span class=\"toc-item-num\">2.4&nbsp;&nbsp;</span>🔢 Describe your data</a></span></li><li><span><a href=\"#📊-Visualize-your-data\" data-toc-modified-id=\"📊-Visualize-your-data-2.5\"><span class=\"toc-item-num\">2.5&nbsp;&nbsp;</span>📊 Visualize your data</a></span></li><li><span><a href=\"#🌍-Share-your-results-to-the-world!\" data-toc-modified-id=\"🌍-Share-your-results-to-the-world!-2.6\"><span class=\"toc-item-num\">2.6&nbsp;&nbsp;</span>🌍 Share your results to the world!</a></span></li></ul></li></ul></div>"
   ]
  },
  {
   "cell_type": "markdown",
   "metadata": {},
   "source": [
    "# Exploration Acitivity"
   ]
  },
  {
   "cell_type": "markdown",
   "metadata": {},
   "source": [
    "This activity we scratch the surface of doing the initial steps in the data science process: **loading in data**, **data exploration**, **data visualization**\n",
    "\n",
    "These skills will get better with practice! 💪🏼"
   ]
  },
  {
   "cell_type": "markdown",
   "metadata": {},
   "source": [
    "## Objectives"
   ]
  },
  {
   "cell_type": "markdown",
   "metadata": {},
   "source": [
    "* You will **find** precompiled data from an outside source\n",
    "* You will **import** data from a file using Pandas\n",
    "* You will **explore** the data with summary statistics or other methods\n",
    "* You will **identify** missing data\n",
    "* You will **create** an exploratory visualization from a data imported\n",
    "* Your will **collaborate** with peers on one notebook"
   ]
  },
  {
   "cell_type": "markdown",
   "metadata": {},
   "source": [
    "## Helpful Notebooks"
   ]
  },
  {
   "cell_type": "markdown",
   "metadata": {},
   "source": [
    "- What the heck is this _\"Pandas\"_ thing?:\n",
    "    * [DataScienceBasics/Pandas](DataScienceBasics/Pandas)\n",
    "- Eww, dirty data!\n",
    "    * [DataScienceBasics/Pandas/data_cleaning_with_pandas_overview.ipynb](DataScienceBasics/Pandas/data_cleaning_with_pandas_overview.ipynb)\n",
    "- Looking for ~~love~~ insights\n",
    "    * [DataScienceBasics/Pandas/exploring_data.ipynb](DataScienceBasics/Pandas/exploring_data.ipynb)\n",
    "- I want to make pretty pictures too!\n",
    "    * [DataScienceBasics/Visualization](DataScienceBasics/Visualization)"
   ]
  },
  {
   "cell_type": "markdown",
   "metadata": {},
   "source": [
    "## Other Resources"
   ]
  },
  {
   "cell_type": "markdown",
   "metadata": {},
   "source": [
    "- _Python Data Science Handbook_: https://jakevdp.github.io/PythonDataScienceHandbook/\n",
    "- Pandas on Kaggle: https://www.kaggle.com/learn/pandas\n",
    "- Data Visualization on Kaggle: https://www.kaggle.com/learn/data-visualization"
   ]
  },
  {
   "cell_type": "markdown",
   "metadata": {},
   "source": [
    "# Your Activity"
   ]
  },
  {
   "cell_type": "markdown",
   "metadata": {},
   "source": [
    "![](images/your_mission.png)"
   ]
  },
  {
   "cell_type": "markdown",
   "metadata": {},
   "source": [
    "## 👩🏻‍💻 👨🏾‍💻 👨🏼‍💻  Group up and create a repo "
   ]
  },
  {
   "cell_type": "markdown",
   "metadata": {},
   "source": [
    "> ***Why?*** \n",
    ">\n",
    "> Working together will help you learn how to work together, learn from others, learn from teaching others\n",
    "\n",
    "\n",
    "When you create a group, it is good practice to create a [new GitHub repo](https://github.com/new) everyone can work off of. Depending how much time and comfortability you all have, you can take turns commiting, pushing, and pulling or create separate branches for each use to merge as you all work on the project.\n",
    "\n",
    "It's highly recommended you work together synchronously so you can assist one another."
   ]
  },
  {
   "cell_type": "markdown",
   "metadata": {},
   "source": [
    "## 🔎 Find some data & download it "
   ]
  },
  {
   "cell_type": "markdown",
   "metadata": {},
   "source": [
    "> Download a data file so you can import it into a Pandas DataFrame. \n",
    "\n",
    "Make sure you reference where your data came from in your notebook and/or repo's README!\n",
    "\n",
    "You can add the data to your repo (as long as it's not too big (here less than 300Mb which is most text data you can find.)\n",
    "\n",
    "Here are a few places you can search:\n",
    "\n",
    "- Kaggle Datasets: https://www.kaggle.com/datasets\n",
    "- UCI Machine Learning Repo: https://archive.ics.uci.edu/ml/datasets.php\n",
    "- Data.gov: https://www.data.gov/\n",
    "- Dataset Search by Google: https://datasetsearch.research.google.com/"
   ]
  },
  {
   "cell_type": "markdown",
   "metadata": {},
   "source": [
    "## 🖥 Import your data"
   ]
  },
  {
   "cell_type": "markdown",
   "metadata": {},
   "source": [
    "> Create a notebook in your repo and read in the data file into a **Pandas DataFrane**"
   ]
  },
  {
   "cell_type": "markdown",
   "metadata": {},
   "source": [
    "## 🔢 Describe your data"
   ]
  },
  {
   "cell_type": "markdown",
   "metadata": {},
   "source": [
    "> Look at the data with summary statistics or other info gathering methods. \n",
    "\n",
    "Your goal here is to get a _feel_ for what the data are like.\n",
    "\n",
    "After using methods to get a feel for the data, you will **document** and **summarize**:\n",
    "* what you discovered about your data\n",
    "* interesting aspects of your data (missing or undistributed)\n",
    "* next steps to dig deeper into your data\n",
    "* any other thoughts about what you\n",
    "\n",
    "These **observations** will lead you to create visualizations to help understand your data even better"
   ]
  },
  {
   "cell_type": "markdown",
   "metadata": {},
   "source": [
    "## 📊 Visualize your data "
   ]
  },
  {
   "cell_type": "markdown",
   "metadata": {},
   "source": [
    "> (Each group member will) create a data visualization based on the previous section. \n",
    "\n",
    "For example, if you noted that the a feature seemed to however towards the higher end based on your summary statistics then a **histogram** or **boxplot** of that feature's distribution could be useful. If you suspected, there to be a relation between two features then something like a **scatter plot** could be appropriate."
   ]
  },
  {
   "cell_type": "markdown",
   "metadata": {},
   "source": [
    "## 🌍 Share your results to the world!"
   ]
  },
  {
   "cell_type": "markdown",
   "metadata": {},
   "source": [
    "> Make sure save your notebook on GitHub and share it with your peers!\n",
    "\n",
    "Maybe you're still interested in this dataset! Awesome! Explore it more, discover new insights! Heck, maybe write a blog post about your exploration and discovery! \n",
    "\n",
    "Remember, the data science process that will only be learned by doing! So go do! 😄"
   ]
  }
 ],
 "metadata": {
  "kernelspec": {
   "display_name": "Python 3",
   "language": "python",
   "name": "python3"
  },
  "language_info": {
   "codemirror_mode": {
    "name": "ipython",
    "version": 3
   },
   "file_extension": ".py",
   "mimetype": "text/x-python",
   "name": "python",
   "nbconvert_exporter": "python",
   "pygments_lexer": "ipython3",
   "version": "3.8.5"
  },
  "toc": {
   "base_numbering": 1,
   "nav_menu": {},
   "number_sections": true,
   "sideBar": false,
   "skip_h1_title": false,
   "title_cell": "Table of Contents",
   "title_sidebar": "Contents",
   "toc_cell": true,
   "toc_position": {},
   "toc_section_display": false,
   "toc_window_display": false
  },
  "varInspector": {
   "cols": {
    "lenName": 16,
    "lenType": 16,
    "lenVar": 40
   },
   "kernels_config": {
    "python": {
     "delete_cmd_postfix": "",
     "delete_cmd_prefix": "del ",
     "library": "var_list.py",
     "varRefreshCmd": "print(var_dic_list())"
    },
    "r": {
     "delete_cmd_postfix": ") ",
     "delete_cmd_prefix": "rm(",
     "library": "var_list.r",
     "varRefreshCmd": "cat(var_dic_list()) "
    }
   },
   "types_to_exclude": [
    "module",
    "function",
    "builtin_function_or_method",
    "instance",
    "_Feature"
   ],
   "window_display": false
  }
 },
 "nbformat": 4,
 "nbformat_minor": 2
}
