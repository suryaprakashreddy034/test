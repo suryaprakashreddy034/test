{
 "cells": [
  {
   "cell_type": "markdown",
   "metadata": {
    "toc": true
   },
   "source": [
    "<h1>Table of Contents<span class=\"tocSkip\"></span></h1>\n",
    "<div class=\"toc\"><ul class=\"toc-item\"><li><span><a href=\"#Look!-👀-It's-Data!\" data-toc-modified-id=\"Look!-👀-It's-Data!-1\"><span class=\"toc-item-num\">1&nbsp;&nbsp;</span>Look! 👀 It's Data!</a></span><ul class=\"toc-item\"><li><span><a href=\"#My-Favorite-Bars\" data-toc-modified-id=\"My-Favorite-Bars-1.1\"><span class=\"toc-item-num\">1.1&nbsp;&nbsp;</span>My Favorite Bars</a></span></li><li><span><a href=\"#My-Favorite-Pies\" data-toc-modified-id=\"My-Favorite-Pies-1.2\"><span class=\"toc-item-num\">1.2&nbsp;&nbsp;</span>My Favorite Pies</a></span></li></ul></li><li><span><a href=\"#Why-Should-I-Care?\" data-toc-modified-id=\"Why-Should-I-Care?-2\"><span class=\"toc-item-num\">2&nbsp;&nbsp;</span>Why Should I Care?</a></span><ul class=\"toc-item\"><li><span><a href=\"#Our-goal-is-to-tell-a-story/narrative\" data-toc-modified-id=\"Our-goal-is-to-tell-a-story/narrative-2.1\"><span class=\"toc-item-num\">2.1&nbsp;&nbsp;</span>Our goal is to tell a story/narrative</a></span></li><li><span><a href=\"#A-picture-is-worth-a-1,000-words\" data-toc-modified-id=\"A-picture-is-worth-a-1,000-words-2.2\"><span class=\"toc-item-num\">2.2&nbsp;&nbsp;</span><em>A picture is worth a 1,000 words</em></a></span></li><li><span><a href=\"#Numbers-are-awful-to-look-at-🤮\" data-toc-modified-id=\"Numbers-are-awful-to-look-at-🤮-2.3\"><span class=\"toc-item-num\">2.3&nbsp;&nbsp;</span>Numbers are awful to look at 🤮</a></span><ul class=\"toc-item\"><li><span><a href=\"#Look-at-this-below,-can-you-tell-how-these-are-distributed?\" data-toc-modified-id=\"Look-at-this-below,-can-you-tell-how-these-are-distributed?-2.3.1\"><span class=\"toc-item-num\">2.3.1&nbsp;&nbsp;</span>Look at this below, can you tell how these are distributed?</a></span><ul class=\"toc-item\"><li><span><a href=\"#Visual\" data-toc-modified-id=\"Visual-2.3.1.1\"><span class=\"toc-item-num\">2.3.1.1&nbsp;&nbsp;</span>Visual</a></span></li></ul></li><li><span><a href=\"#What-about-this-distribution?\" data-toc-modified-id=\"What-about-this-distribution?-2.3.2\"><span class=\"toc-item-num\">2.3.2&nbsp;&nbsp;</span>What about this distribution?</a></span><ul class=\"toc-item\"><li><span><a href=\"#Visual\" data-toc-modified-id=\"Visual-2.3.2.1\"><span class=\"toc-item-num\">2.3.2.1&nbsp;&nbsp;</span>Visual</a></span></li></ul></li><li><span><a href=\"#What-if-more-numbers...?\" data-toc-modified-id=\"What-if-more-numbers...?-2.3.3\"><span class=\"toc-item-num\">2.3.3&nbsp;&nbsp;</span>What if more numbers...?</a></span><ul class=\"toc-item\"><li><span><a href=\"#Visual\" data-toc-modified-id=\"Visual-2.3.3.1\"><span class=\"toc-item-num\">2.3.3.1&nbsp;&nbsp;</span>Visual</a></span></li></ul></li><li><span><a href=\"#Hence-why-visuals-are-not-just-nice-but-sometimes-necessary\" data-toc-modified-id=\"Hence-why-visuals-are-not-just-nice-but-sometimes-necessary-2.3.4\"><span class=\"toc-item-num\">2.3.4&nbsp;&nbsp;</span>Hence why visuals are not just nice but sometimes <em>necessary</em></a></span></li></ul></li></ul></li></ul></div>"
   ]
  },
  {
   "cell_type": "markdown",
   "metadata": {
    "heading_collapsed": true
   },
   "source": [
    "# Look! 👀 It's Data!"
   ]
  },
  {
   "cell_type": "markdown",
   "metadata": {
    "hidden": true
   },
   "source": [
    "![](images/look_at_this_graph.gif)"
   ]
  },
  {
   "cell_type": "markdown",
   "metadata": {
    "hidden": true
   },
   "source": [
    "> Video clip from [How I Met Your Mother](https://www.youtube.com/watch?v=f_J8QU1m0Ng)"
   ]
  },
  {
   "cell_type": "markdown",
   "metadata": {
    "heading_collapsed": true,
    "hidden": true
   },
   "source": [
    "## My Favorite Bars"
   ]
  },
  {
   "cell_type": "markdown",
   "metadata": {
    "hidden": true
   },
   "source": [
    "<img src=\"http://25.media.tumblr.com/tumblr_m5fvbaESL71r5mnvxo1_250.gif\" width=600 />"
   ]
  },
  {
   "cell_type": "markdown",
   "metadata": {
    "heading_collapsed": true,
    "hidden": true
   },
   "source": [
    "## My Favorite Pies"
   ]
  },
  {
   "cell_type": "markdown",
   "metadata": {
    "hidden": true
   },
   "source": [
    "<img src='https://media.giphy.com/media/Bz8bF7JUMYUWQ/giphy.gif' width=600/> \n",
    "    "
   ]
  },
  {
   "cell_type": "markdown",
   "metadata": {
    "heading_collapsed": true
   },
   "source": [
    "# Why Should I Care?"
   ]
  },
  {
   "cell_type": "markdown",
   "metadata": {
    "heading_collapsed": true,
    "hidden": true
   },
   "source": [
    "## Our goal is to tell a story/narrative"
   ]
  },
  {
   "cell_type": "markdown",
   "metadata": {
    "hidden": true
   },
   "source": [
    "To ourselves or to others\n",
    "\n",
    "<img src='images/data-science-storyteller.png' width=60%/>"
   ]
  },
  {
   "cell_type": "markdown",
   "metadata": {
    "heading_collapsed": true,
    "hidden": true
   },
   "source": [
    "## _A picture is worth a 1,000 words_"
   ]
  },
  {
   "cell_type": "markdown",
   "metadata": {
    "hidden": true
   },
   "source": [
    "Human brain does an amazing job in finding visual patterns! "
   ]
  },
  {
   "cell_type": "markdown",
   "metadata": {
    "hidden": true
   },
   "source": [
    "![lobe percents](images/lobe-percent-bar.png)\n",
    "\n",
    "> Visualization on why visualizations are useful\n",
    "> _(Kennedy et al., Cerebral Cortex, 8:372-384, 1998.)_"
   ]
  },
  {
   "cell_type": "markdown",
   "metadata": {
    "heading_collapsed": true,
    "hidden": true
   },
   "source": [
    "## Numbers are awful to look at 🤮 "
   ]
  },
  {
   "cell_type": "markdown",
   "metadata": {
    "hidden": true
   },
   "source": [
    "We can't absorb the info!"
   ]
  },
  {
   "cell_type": "markdown",
   "metadata": {
    "heading_collapsed": true,
    "hidden": true
   },
   "source": [
    "### Look at this below, can you tell how these are distributed?"
   ]
  },
  {
   "cell_type": "code",
   "execution_count": null,
   "metadata": {
    "ExecuteTime": {
     "end_time": "2020-02-11T01:24:08.580413Z",
     "start_time": "2020-02-11T01:24:08.281573Z"
    },
    "hidden": true
   },
   "outputs": [],
   "source": [
    "import pandas as pd\n",
    "%matplotlib inline"
   ]
  },
  {
   "cell_type": "code",
   "execution_count": null,
   "metadata": {
    "ExecuteTime": {
     "end_time": "2020-02-11T01:24:08.590133Z",
     "start_time": "2020-02-11T01:24:08.582171Z"
    },
    "hidden": true
   },
   "outputs": [],
   "source": [
    "df1 = pd.read_csv('data/01.csv')"
   ]
  },
  {
   "cell_type": "code",
   "execution_count": null,
   "metadata": {
    "ExecuteTime": {
     "end_time": "2020-02-11T01:24:08.600043Z",
     "start_time": "2020-02-11T01:24:08.591174Z"
    },
    "hidden": true
   },
   "outputs": [],
   "source": [
    "df1"
   ]
  },
  {
   "cell_type": "code",
   "execution_count": null,
   "metadata": {
    "ExecuteTime": {
     "end_time": "2020-02-11T01:24:08.614158Z",
     "start_time": "2020-02-11T01:24:08.602480Z"
    },
    "hidden": true
   },
   "outputs": [],
   "source": [
    "df1.describe()"
   ]
  },
  {
   "cell_type": "markdown",
   "metadata": {
    "heading_collapsed": true,
    "hidden": true
   },
   "source": [
    "#### Visual"
   ]
  },
  {
   "cell_type": "code",
   "execution_count": null,
   "metadata": {
    "ExecuteTime": {
     "end_time": "2020-02-11T01:24:08.749525Z",
     "start_time": "2020-02-11T01:24:08.615904Z"
    },
    "hidden": true
   },
   "outputs": [],
   "source": [
    "df1.plot.scatter('x','y')"
   ]
  },
  {
   "cell_type": "markdown",
   "metadata": {
    "heading_collapsed": true,
    "hidden": true
   },
   "source": [
    "### What about this distribution?"
   ]
  },
  {
   "cell_type": "code",
   "execution_count": null,
   "metadata": {
    "ExecuteTime": {
     "end_time": "2020-02-11T01:24:08.756480Z",
     "start_time": "2020-02-11T01:24:08.750794Z"
    },
    "hidden": true
   },
   "outputs": [],
   "source": [
    "df2 = pd.read_csv('data/02.csv')"
   ]
  },
  {
   "cell_type": "code",
   "execution_count": null,
   "metadata": {
    "ExecuteTime": {
     "end_time": "2020-02-11T01:24:08.762674Z",
     "start_time": "2020-02-11T01:24:08.757602Z"
    },
    "hidden": true
   },
   "outputs": [],
   "source": [
    "df2"
   ]
  },
  {
   "cell_type": "code",
   "execution_count": null,
   "metadata": {
    "ExecuteTime": {
     "end_time": "2020-02-11T01:24:08.777015Z",
     "start_time": "2020-02-11T01:24:08.764419Z"
    },
    "hidden": true
   },
   "outputs": [],
   "source": [
    "df2.describe()"
   ]
  },
  {
   "cell_type": "markdown",
   "metadata": {
    "heading_collapsed": true,
    "hidden": true
   },
   "source": [
    "#### Visual"
   ]
  },
  {
   "cell_type": "code",
   "execution_count": null,
   "metadata": {
    "ExecuteTime": {
     "end_time": "2020-02-11T01:24:08.909114Z",
     "start_time": "2020-02-11T01:24:08.778169Z"
    },
    "hidden": true
   },
   "outputs": [],
   "source": [
    "df2.plot.scatter('x','y')"
   ]
  },
  {
   "cell_type": "markdown",
   "metadata": {
    "heading_collapsed": true,
    "hidden": true
   },
   "source": [
    "### What if more numbers...?"
   ]
  },
  {
   "cell_type": "code",
   "execution_count": null,
   "metadata": {
    "ExecuteTime": {
     "end_time": "2020-02-11T01:24:08.921688Z",
     "start_time": "2020-02-11T01:24:08.910370Z"
    },
    "hidden": true,
    "scrolled": true
   },
   "outputs": [],
   "source": [
    "df_mystery = pd.read_csv('data/secret_dataset.csv')\n",
    "display(df_mystery)"
   ]
  },
  {
   "cell_type": "markdown",
   "metadata": {
    "heading_collapsed": true,
    "hidden": true
   },
   "source": [
    "#### Visual"
   ]
  },
  {
   "cell_type": "code",
   "execution_count": null,
   "metadata": {
    "ExecuteTime": {
     "end_time": "2020-02-11T01:24:09.042945Z",
     "start_time": "2020-02-11T01:24:08.923144Z"
    },
    "hidden": true,
    "scrolled": true
   },
   "outputs": [],
   "source": [
    "df_mystery.plot.scatter('x','y')"
   ]
  },
  {
   "cell_type": "markdown",
   "metadata": {
    "heading_collapsed": true,
    "hidden": true
   },
   "source": [
    "### Hence why visuals are not just nice but sometimes _necessary_"
   ]
  },
  {
   "cell_type": "markdown",
   "metadata": {
    "hidden": true
   },
   "source": [
    "![](https://d2f99xq7vri1nk.cloudfront.net/DinoSequentialSmaller.gif)\n",
    "\n",
    "https://www.autodeskresearch.com/publications/samestats"
   ]
  }
 ],
 "metadata": {
  "kernelspec": {
   "display_name": "Python 3",
   "language": "python",
   "name": "python3"
  },
  "language_info": {
   "codemirror_mode": {
    "name": "ipython",
    "version": 3
   },
   "file_extension": ".py",
   "mimetype": "text/x-python",
   "name": "python",
   "nbconvert_exporter": "python",
   "pygments_lexer": "ipython3",
   "version": "3.8.5"
  },
  "toc": {
   "base_numbering": 1,
   "nav_menu": {},
   "number_sections": true,
   "sideBar": false,
   "skip_h1_title": false,
   "title_cell": "Table of Contents",
   "title_sidebar": "Contents",
   "toc_cell": true,
   "toc_position": {},
   "toc_section_display": false,
   "toc_window_display": false
  },
  "varInspector": {
   "cols": {
    "lenName": 16,
    "lenType": 16,
    "lenVar": 40
   },
   "kernels_config": {
    "python": {
     "delete_cmd_postfix": "",
     "delete_cmd_prefix": "del ",
     "library": "var_list.py",
     "varRefreshCmd": "print(var_dic_list())"
    },
    "r": {
     "delete_cmd_postfix": ") ",
     "delete_cmd_prefix": "rm(",
     "library": "var_list.r",
     "varRefreshCmd": "cat(var_dic_list()) "
    }
   },
   "types_to_exclude": [
    "module",
    "function",
    "builtin_function_or_method",
    "instance",
    "_Feature"
   ],
   "window_display": false
  }
 },
 "nbformat": 4,
 "nbformat_minor": 2
}
