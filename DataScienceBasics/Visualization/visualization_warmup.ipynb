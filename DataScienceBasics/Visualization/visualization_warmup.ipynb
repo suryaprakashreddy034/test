{
 "cells": [
  {
   "cell_type": "markdown",
   "metadata": {
    "toc": true
   },
   "source": [
    "<h1>Table of Contents<span class=\"tocSkip\"></span></h1>\n",
    "<div class=\"toc\"><ul class=\"toc-item\"><li><span><a href=\"#Motivation\" data-toc-modified-id=\"Motivation-1\"><span class=\"toc-item-num\">1&nbsp;&nbsp;</span>Motivation</a></span></li><li><span><a href=\"#Load-the-data\" data-toc-modified-id=\"Load-the-data-2\"><span class=\"toc-item-num\">2&nbsp;&nbsp;</span>Load the data</a></span></li><li><span><a href=\"#Space-for-your-work\" data-toc-modified-id=\"Space-for-your-work-3\"><span class=\"toc-item-num\">3&nbsp;&nbsp;</span>Space for your work</a></span></li><li><span><a href=\"#What-can-you-find?\" data-toc-modified-id=\"What-can-you-find?-4\"><span class=\"toc-item-num\">4&nbsp;&nbsp;</span>What can you find?</a></span></li></ul></div>"
   ]
  },
  {
   "cell_type": "markdown",
   "metadata": {},
   "source": [
    "# Motivation"
   ]
  },
  {
   "cell_type": "markdown",
   "metadata": {},
   "source": [
    "Our goal here is to get a quick feel for loading in new data sets and see if we can quickly find some patterns in the dataset."
   ]
  },
  {
   "cell_type": "markdown",
   "metadata": {},
   "source": [
    "# Load the data"
   ]
  },
  {
   "cell_type": "markdown",
   "metadata": {},
   "source": [
    "This dataset contains the body mass index (BMI) of $1786$ people, together with the number of steps each of them took on a particular day, in two files: one for men (`data/data9b_m.txt`), one for women (`data/data9b_w.txt`).\n",
    "\n",
    "<!-- NOTE: Information on this dataset can be found in the README within the \"data\" directory  -->"
   ]
  },
  {
   "cell_type": "markdown",
   "metadata": {},
   "source": [
    "To make things easier, below is some code to help get the data loaded:"
   ]
  },
  {
   "cell_type": "code",
   "execution_count": null,
   "metadata": {},
   "outputs": [],
   "source": [
    "import pandas as pd\n",
    "\n",
    "# Link to the GitHub-hosted files\n",
    "data_m = \"https://raw.githubusercontent.com/MrGeislinger/flatiron-school-data-science-curriculum-resources/main/DataScienceBasics/Visualization/data/data9b_m.txt\"\n",
    "data_w = \"https://raw.githubusercontent.com/MrGeislinger/flatiron-school-data-science-curriculum-resources/main/DataScienceBasics/Visualization/data/data9b_w.txt\"\n",
    "\n",
    "# These files uses tab-separated values\n",
    "df_m = pd.read_csv(data_m, sep='\\t')\n",
    "df_w = pd.read_csv(data_w, sep='\\t')"
   ]
  },
  {
   "cell_type": "markdown",
   "metadata": {},
   "source": [
    "# Space for your work"
   ]
  },
  {
   "cell_type": "code",
   "execution_count": null,
   "metadata": {},
   "outputs": [],
   "source": [
    "# your code"
   ]
  },
  {
   "cell_type": "code",
   "execution_count": null,
   "metadata": {},
   "outputs": [],
   "source": [
    "# your code"
   ]
  },
  {
   "cell_type": "code",
   "execution_count": null,
   "metadata": {},
   "outputs": [],
   "source": [
    "# your code"
   ]
  },
  {
   "cell_type": "markdown",
   "metadata": {},
   "source": [
    "# What can you find?"
   ]
  },
  {
   "cell_type": "markdown",
   "metadata": {},
   "source": [
    "List some observations you've found (with your team):"
   ]
  },
  {
   "cell_type": "markdown",
   "metadata": {},
   "source": [
    "1. observation\n",
    "2. observation\n",
    "3. observation"
   ]
  }
 ],
 "metadata": {
  "kernelspec": {
   "display_name": "learn-env",
   "language": "python",
   "name": "learn-env"
  },
  "language_info": {
   "codemirror_mode": {
    "name": "ipython",
    "version": 3
   },
   "file_extension": ".py",
   "mimetype": "text/x-python",
   "name": "python",
   "nbconvert_exporter": "python",
   "pygments_lexer": "ipython3",
   "version": "3.8.5"
  },
  "toc": {
   "base_numbering": 1,
   "nav_menu": {},
   "number_sections": true,
   "sideBar": false,
   "skip_h1_title": false,
   "title_cell": "Table of Contents",
   "title_sidebar": "Contents",
   "toc_cell": true,
   "toc_position": {},
   "toc_section_display": true,
   "toc_window_display": false
  }
 },
 "nbformat": 4,
 "nbformat_minor": 4
}
