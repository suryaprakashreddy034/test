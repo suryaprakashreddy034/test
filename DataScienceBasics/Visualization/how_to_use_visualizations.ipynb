{
 "cells": [
  {
   "cell_type": "markdown",
   "metadata": {
    "toc": true
   },
   "source": [
    "<h1>Table of Contents<span class=\"tocSkip\"></span></h1>\n",
    "<div class=\"toc\"><ul class=\"toc-item\"><li><span><a href=\"#Exploratory:-Do-it-for-you\" data-toc-modified-id=\"Exploratory:-Do-it-for-you-1\"><span class=\"toc-item-num\">1&nbsp;&nbsp;</span>Exploratory: Do it for you</a></span></li><li><span><a href=\"#Explanatory:-Do-it-for-them\" data-toc-modified-id=\"Explanatory:-Do-it-for-them-2\"><span class=\"toc-item-num\">2&nbsp;&nbsp;</span>Explanatory: Do it for them</a></span></li><li><span><a href=\"#When-To-use-Them\" data-toc-modified-id=\"When-To-use-Them-3\"><span class=\"toc-item-num\">3&nbsp;&nbsp;</span>When To use Them</a></span><ul class=\"toc-item\"><li><span><a href=\"#Quiz-Time!\" data-toc-modified-id=\"Quiz-Time!-3.1\"><span class=\"toc-item-num\">3.1&nbsp;&nbsp;</span>Quiz Time!</a></span><ul class=\"toc-item\"><li><span><a href=\"#Plots-are-for-stories\" data-toc-modified-id=\"Plots-are-for-stories-3.1.1\"><span class=\"toc-item-num\">3.1.1&nbsp;&nbsp;</span><em>Plots are for stories</em></a></span></li><li><span><a href=\"#Happens-at-the-start-of-most-analysis\" data-toc-modified-id=\"Happens-at-the-start-of-most-analysis-3.1.2\"><span class=\"toc-item-num\">3.1.2&nbsp;&nbsp;</span><em>Happens at the start of most analysis</em></a></span></li><li><span><a href=\"#Usually-at-the-end-of-the-DS-lifecycle\" data-toc-modified-id=\"Usually-at-the-end-of-the-DS-lifecycle-3.1.3\"><span class=\"toc-item-num\">3.1.3&nbsp;&nbsp;</span><em>Usually at the end of the DS lifecycle</em></a></span></li><li><span><a href=\"#When-making-these-plots-pay-attention-to-making-the-plot-insightful-to-your-audience\" data-toc-modified-id=\"When-making-these-plots-pay-attention-to-making-the-plot-insightful-to-your-audience-3.1.4\"><span class=\"toc-item-num\">3.1.4&nbsp;&nbsp;</span><em>When making these plots pay attention to making the plot insightful to your audience</em></a></span></li><li><span><a href=\"#Finding-missing-values-in-a-dataset-is-par-of-this-analysis\" data-toc-modified-id=\"Finding-missing-values-in-a-dataset-is-par-of-this-analysis-3.1.5\"><span class=\"toc-item-num\">3.1.5&nbsp;&nbsp;</span><em>Finding missing values in a dataset is par of this analysis</em></a></span></li></ul></li></ul></li><li><span><a href=\"#More-Practice\" data-toc-modified-id=\"More-Practice-4\"><span class=\"toc-item-num\">4&nbsp;&nbsp;</span>More Practice</a></span></li></ul></div>"
   ]
  },
  {
   "cell_type": "markdown",
   "metadata": {
    "heading_collapsed": true
   },
   "source": [
    "# Exploratory: Do it for you"
   ]
  },
  {
   "cell_type": "markdown",
   "metadata": {
    "hidden": true
   },
   "source": [
    "We are searching for insights so they don't need to be perfect. You're using these plots to find the answer to your question and know what to explore more.\n",
    "\n",
    "+ Don't have to be perfect\n",
    "+ Look for patterns/relationships\n",
    "+ Connect to questions"
   ]
  },
  {
   "cell_type": "markdown",
   "metadata": {
    "heading_collapsed": true
   },
   "source": [
    "# Explanatory: Do it for them"
   ]
  },
  {
   "cell_type": "markdown",
   "metadata": {
    "hidden": true
   },
   "source": [
    "You're giving your results to others so the visualizations need to emphasize your message. They should be insightful, accurate, and visually appealing\n",
    "\n",
    "\n",
    "+ Highlight an insight\n",
    "+ \"Surrounded by a story\" --> points reader to an answer to question\n",
    "+ Simplify: don't include it all"
   ]
  },
  {
   "cell_type": "markdown",
   "metadata": {
    "heading_collapsed": true
   },
   "source": [
    "# When To use Them"
   ]
  },
  {
   "cell_type": "markdown",
   "metadata": {
    "hidden": true
   },
   "source": [
    "**The five steps of the data analysis process:**\n",
    "\n",
    "- Extract - Obtain the data from a spreadsheet, SQL, the web, etc.\n",
    "- Clean   - Here we could use exploratory visuals.\n",
    "- Explore - Here we use exploratory visuals.\n",
    "- Analyze - Here we might use either exploratory or explanatory visuals.\n",
    "- Share   - Here is where explanatory visuals live."
   ]
  },
  {
   "cell_type": "markdown",
   "metadata": {
    "heading_collapsed": true,
    "hidden": true
   },
   "source": [
    "## Quiz Time!"
   ]
  },
  {
   "cell_type": "markdown",
   "metadata": {
    "heading_collapsed": true,
    "hidden": true
   },
   "source": [
    "### _Plots are for stories_"
   ]
  },
  {
   "cell_type": "markdown",
   "metadata": {
    "hidden": true
   },
   "source": [
    "**Explanatory**"
   ]
  },
  {
   "cell_type": "markdown",
   "metadata": {
    "heading_collapsed": true,
    "hidden": true
   },
   "source": [
    "### _Happens at the start of most analysis_"
   ]
  },
  {
   "cell_type": "markdown",
   "metadata": {
    "hidden": true
   },
   "source": [
    "**Exploratory**"
   ]
  },
  {
   "cell_type": "markdown",
   "metadata": {
    "heading_collapsed": true,
    "hidden": true
   },
   "source": [
    "### _Usually at the end of the DS lifecycle_"
   ]
  },
  {
   "cell_type": "markdown",
   "metadata": {
    "hidden": true
   },
   "source": [
    "**Explanatory**"
   ]
  },
  {
   "cell_type": "markdown",
   "metadata": {
    "heading_collapsed": true,
    "hidden": true
   },
   "source": [
    "### _When making these plots pay attention to making the plot insightful to your audience_"
   ]
  },
  {
   "cell_type": "markdown",
   "metadata": {
    "hidden": true
   },
   "source": [
    "**Explanatory**"
   ]
  },
  {
   "cell_type": "markdown",
   "metadata": {
    "heading_collapsed": true,
    "hidden": true
   },
   "source": [
    "### _Finding missing values in a dataset is par of this analysis_"
   ]
  },
  {
   "cell_type": "markdown",
   "metadata": {
    "hidden": true
   },
   "source": [
    "**Exploratory**"
   ]
  },
  {
   "cell_type": "markdown",
   "metadata": {
    "heading_collapsed": true
   },
   "source": [
    "# More Practice"
   ]
  },
  {
   "cell_type": "markdown",
   "metadata": {
    "hidden": true
   },
   "source": [
    "https://www.kaggle.com/learn/data-visualization"
   ]
  }
 ],
 "metadata": {
  "kernelspec": {
   "display_name": "Python 3",
   "language": "python",
   "name": "python3"
  },
  "language_info": {
   "codemirror_mode": {
    "name": "ipython",
    "version": 3
   },
   "file_extension": ".py",
   "mimetype": "text/x-python",
   "name": "python",
   "nbconvert_exporter": "python",
   "pygments_lexer": "ipython3",
   "version": "3.8.5"
  },
  "toc": {
   "base_numbering": 1,
   "nav_menu": {},
   "number_sections": true,
   "sideBar": false,
   "skip_h1_title": false,
   "title_cell": "Table of Contents",
   "title_sidebar": "Contents",
   "toc_cell": true,
   "toc_position": {},
   "toc_section_display": false,
   "toc_window_display": false
  },
  "varInspector": {
   "cols": {
    "lenName": 16,
    "lenType": 16,
    "lenVar": 40
   },
   "kernels_config": {
    "python": {
     "delete_cmd_postfix": "",
     "delete_cmd_prefix": "del ",
     "library": "var_list.py",
     "varRefreshCmd": "print(var_dic_list())"
    },
    "r": {
     "delete_cmd_postfix": ") ",
     "delete_cmd_prefix": "rm(",
     "library": "var_list.r",
     "varRefreshCmd": "cat(var_dic_list()) "
    }
   },
   "types_to_exclude": [
    "module",
    "function",
    "builtin_function_or_method",
    "instance",
    "_Feature"
   ],
   "window_display": false
  }
 },
 "nbformat": 4,
 "nbformat_minor": 2
}
