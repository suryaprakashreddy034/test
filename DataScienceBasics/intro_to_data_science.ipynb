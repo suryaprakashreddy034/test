{
 "cells": [
  {
   "cell_type": "markdown",
   "metadata": {
    "toc": true
   },
   "source": [
    "<h1>Table of Contents<span class=\"tocSkip\"></span></h1>\n",
    "<div class=\"toc\"><ul class=\"toc-item\"><li><span><a href=\"#What-is-Data-Science?\" data-toc-modified-id=\"What-is-Data-Science?-1\"><span class=\"toc-item-num\">1&nbsp;&nbsp;</span>What is Data Science?</a></span></li><li><span><a href=\"#Tools\" data-toc-modified-id=\"Tools-2\"><span class=\"toc-item-num\">2&nbsp;&nbsp;</span>Tools</a></span><ul class=\"toc-item\"><li><span><a href=\"#Anaconda-(conda)\" data-toc-modified-id=\"Anaconda-(conda)-2.1\"><span class=\"toc-item-num\">2.1&nbsp;&nbsp;</span>Anaconda (<code>conda</code>)</a></span></li><li><span><a href=\"#Jupyter-Notebook\" data-toc-modified-id=\"Jupyter-Notebook-2.2\"><span class=\"toc-item-num\">2.2&nbsp;&nbsp;</span>Jupyter Notebook</a></span></li><li><span><a href=\"#Git-&amp;-GitHub\" data-toc-modified-id=\"Git-&amp;-GitHub-2.3\"><span class=\"toc-item-num\">2.3&nbsp;&nbsp;</span>Git &amp; GitHub</a></span></li><li><span><a href=\"#Command-Line-(Bash/Zsh)\" data-toc-modified-id=\"Command-Line-(Bash/Zsh)-2.4\"><span class=\"toc-item-num\">2.4&nbsp;&nbsp;</span>Command Line (Bash/Zsh)</a></span></li><li><span><a href=\"#Python\" data-toc-modified-id=\"Python-2.5\"><span class=\"toc-item-num\">2.5&nbsp;&nbsp;</span>Python</a></span></li></ul></li><li><span><a href=\"#Some-Good-Resources\" data-toc-modified-id=\"Some-Good-Resources-3\"><span class=\"toc-item-num\">3&nbsp;&nbsp;</span>Some Good Resources</a></span><ul class=\"toc-item\"><li><span><a href=\"#Curriculum-on-Canvas-(of-course)\" data-toc-modified-id=\"Curriculum-on-Canvas-(of-course)-3.1\"><span class=\"toc-item-num\">3.1&nbsp;&nbsp;</span>Curriculum on Canvas (of course)</a></span></li><li><span><a href=\"#Python-Data-Science-Handbook\" data-toc-modified-id=\"Python-Data-Science-Handbook-3.2\"><span class=\"toc-item-num\">3.2&nbsp;&nbsp;</span><em>Python Data Science Handbook</em></a></span></li><li><span><a href=\"#Kaggle\" data-toc-modified-id=\"Kaggle-3.3\"><span class=\"toc-item-num\">3.3&nbsp;&nbsp;</span>Kaggle</a></span></li><li><span><a href=\"#Stack-Overflow\" data-toc-modified-id=\"Stack-Overflow-3.4\"><span class=\"toc-item-num\">3.4&nbsp;&nbsp;</span>Stack Overflow</a></span><ul class=\"toc-item\"><li><span><a href=\"#But-beware..\" data-toc-modified-id=\"But-beware..-3.4.1\"><span class=\"toc-item-num\">3.4.1&nbsp;&nbsp;</span>But beware..</a></span></li></ul></li></ul></li></ul></div>"
   ]
  },
  {
   "cell_type": "markdown",
   "metadata": {},
   "source": [
    "# Welcome to Data Science"
   ]
  },
  {
   "cell_type": "markdown",
   "metadata": {},
   "source": [
    "## What is Data Science?"
   ]
  },
  {
   "cell_type": "markdown",
   "metadata": {},
   "source": [
    "![](https://raw.githubusercontent.com/MrGeislinger/flatiron-school-data-science-curriculum-resources/main/Projects/images/data_science_lifecycle.png)"
   ]
  },
  {
   "cell_type": "markdown",
   "metadata": {},
   "source": [
    "## Tools"
   ]
  },
  {
   "cell_type": "markdown",
   "metadata": {},
   "source": [
    "### Anaconda (`conda`)"
   ]
  },
  {
   "cell_type": "markdown",
   "metadata": {},
   "source": [
    "![](https://upload.wikimedia.org/wikipedia/en/thumb/c/cd/Anaconda_Logo.png/200px-Anaconda_Logo.png)"
   ]
  },
  {
   "cell_type": "markdown",
   "metadata": {},
   "source": [
    "Installation: https://docs.anaconda.com/anaconda/install/"
   ]
  },
  {
   "cell_type": "markdown",
   "metadata": {},
   "source": [
    "> See [`pip`](https://pypi.org/project/pip/)"
   ]
  },
  {
   "cell_type": "markdown",
   "metadata": {},
   "source": [
    "### Jupyter Notebook"
   ]
  },
  {
   "cell_type": "markdown",
   "metadata": {},
   "source": [
    "<img src=\"https://jupyter.org/assets/main-logo.svg\" width=200/>"
   ]
  },
  {
   "cell_type": "markdown",
   "metadata": {},
   "source": [
    "[Extensions](https://jupyter-contrib-nbextensions.readthedocs.io/en/latest/install.html): \n",
    "```sh\n",
    "conda install -c conda-forge jupyter_contrib_nbextensions\n",
    "```"
   ]
  },
  {
   "cell_type": "markdown",
   "metadata": {},
   "source": [
    "### Git & GitHub"
   ]
  },
  {
   "cell_type": "markdown",
   "metadata": {},
   "source": [
    "![](https://imgs.xkcd.com/comics/git.png)"
   ]
  },
  {
   "cell_type": "markdown",
   "metadata": {},
   "source": [
    "### Command Line (Bash/Zsh)"
   ]
  },
  {
   "cell_type": "markdown",
   "metadata": {},
   "source": [
    "[CommandLine](../CommandLine/Unix/command_line_basics.ipynb)"
   ]
  },
  {
   "cell_type": "markdown",
   "metadata": {},
   "source": [
    "### Python"
   ]
  },
  {
   "cell_type": "markdown",
   "metadata": {},
   "source": [
    "> Note on the R programming language"
   ]
  },
  {
   "cell_type": "markdown",
   "metadata": {},
   "source": [
    "- Conventions (technically Topic 2): [Best Practices](../CodingBasics/CodingConventions/coding_best_practices.ipynb)\n",
    "- Core Python: [Python Basics](../CodingBasics/Python/core_python.ipynb)\n",
    "- Libraries (?)\n",
    "    * Make sure to tell them Macbeth project uses library (from Topic 4)"
   ]
  },
  {
   "cell_type": "markdown",
   "metadata": {},
   "source": [
    "## Some Good Resources"
   ]
  },
  {
   "cell_type": "markdown",
   "metadata": {},
   "source": [
    "More to come, but these are good to look out for as we start."
   ]
  },
  {
   "cell_type": "markdown",
   "metadata": {},
   "source": [
    "### Curriculum on Canvas (of course)"
   ]
  },
  {
   "cell_type": "markdown",
   "metadata": {},
   "source": [
    "### _Python Data Science Handbook_"
   ]
  },
  {
   "cell_type": "markdown",
   "metadata": {},
   "source": [
    "[*Python Data Science Handbook*](https://jakevdp.github.io/PythonDataScienceHandbook/)\n",
    "\n",
    "![](https://jakevdp.github.io/PythonDataScienceHandbook/figures/PDSH-cover.png)"
   ]
  },
  {
   "cell_type": "markdown",
   "metadata": {},
   "source": [
    "> Great guide especially for when we are just starting"
   ]
  },
  {
   "cell_type": "markdown",
   "metadata": {},
   "source": [
    "### Kaggle"
   ]
  },
  {
   "cell_type": "markdown",
   "metadata": {},
   "source": [
    "[Kaggle](https://www.kaggle.com)\n",
    "\n",
    "![](https://www.kaggle.com/static/images/site-logo.png)\n",
    "\n",
    "> A data scientist community"
   ]
  },
  {
   "cell_type": "markdown",
   "metadata": {},
   "source": [
    "### Stack Overflow"
   ]
  },
  {
   "cell_type": "markdown",
   "metadata": {},
   "source": [
    "[Stack Overflow](https://stackoverflow.com/)\n",
    "\n",
    "![](https://stackoverflow.design/assets/img/logos/so/logo-stackoverflow.png)"
   ]
  },
  {
   "cell_type": "markdown",
   "metadata": {},
   "source": [
    "> A place to ask questions and find answers"
   ]
  },
  {
   "cell_type": "markdown",
   "metadata": {},
   "source": [
    "#### But beware.."
   ]
  },
  {
   "cell_type": "markdown",
   "metadata": {},
   "source": [
    "![](https://imgs.xkcd.com/comics/wisdom_of_the_ancients.png)"
   ]
  }
 ],
 "metadata": {
  "kernelspec": {
   "display_name": "Python 3",
   "language": "python",
   "name": "python3"
  },
  "language_info": {
   "codemirror_mode": {
    "name": "ipython",
    "version": 3
   },
   "file_extension": ".py",
   "mimetype": "text/x-python",
   "name": "python",
   "nbconvert_exporter": "python",
   "pygments_lexer": "ipython3",
   "version": "3.8.5"
  },
  "toc": {
   "base_numbering": 1,
   "nav_menu": {},
   "number_sections": true,
   "sideBar": false,
   "skip_h1_title": true,
   "title_cell": "Table of Contents",
   "title_sidebar": "Contents",
   "toc_cell": true,
   "toc_position": {},
   "toc_section_display": true,
   "toc_window_display": false
  }
 },
 "nbformat": 4,
 "nbformat_minor": 4
}
