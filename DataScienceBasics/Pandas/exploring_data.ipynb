{
 "cells": [
  {
   "cell_type": "markdown",
   "metadata": {
    "toc": true
   },
   "source": [
    "<h1>Table of Contents<span class=\"tocSkip\"></span></h1>\n",
    "<div class=\"toc\"><ul class=\"toc-item\"><li><span><a href=\"#Initial-Exploration-the-Data\" data-toc-modified-id=\"Initial-Exploration-the-Data-1\"><span class=\"toc-item-num\">1&nbsp;&nbsp;</span>Initial Exploration the Data</a></span></li><li><span><a href=\"#Missing-Data\" data-toc-modified-id=\"Missing-Data-2\"><span class=\"toc-item-num\">2&nbsp;&nbsp;</span>Missing Data</a></span><ul class=\"toc-item\"><li><span><a href=\"#Dealing-with-it\" data-toc-modified-id=\"Dealing-with-it-2.1\"><span class=\"toc-item-num\">2.1&nbsp;&nbsp;</span>Dealing with it</a></span><ul class=\"toc-item\"><li><span><a href=\"#Remove\" data-toc-modified-id=\"Remove-2.1.1\"><span class=\"toc-item-num\">2.1.1&nbsp;&nbsp;</span>Remove</a></span><ul class=\"toc-item\"><li><span><a href=\"#Drop-Columns\" data-toc-modified-id=\"Drop-Columns-2.1.1.1\"><span class=\"toc-item-num\">2.1.1.1&nbsp;&nbsp;</span>Drop Columns</a></span></li><li><span><a href=\"#Drop-Rows\" data-toc-modified-id=\"Drop-Rows-2.1.1.2\"><span class=\"toc-item-num\">2.1.1.2&nbsp;&nbsp;</span>Drop Rows</a></span></li></ul></li><li><span><a href=\"#Replace\" data-toc-modified-id=\"Replace-2.1.2\"><span class=\"toc-item-num\">2.1.2&nbsp;&nbsp;</span>Replace</a></span></li><li><span><a href=\"#Keep\" data-toc-modified-id=\"Keep-2.1.3\"><span class=\"toc-item-num\">2.1.3&nbsp;&nbsp;</span>Keep</a></span></li></ul></li><li><span><a href=\"#Example-code\" data-toc-modified-id=\"Example-code-2.2\"><span class=\"toc-item-num\">2.2&nbsp;&nbsp;</span>Example code</a></span></li></ul></li></ul></div>"
   ]
  },
  {
   "cell_type": "markdown",
   "metadata": {},
   "source": [
    "![](https://github.com/learn-co-students/dsc-1-01-04-the-data-science-process-online-ds-sp-000/raw/master/chart.png)"
   ]
  },
  {
   "cell_type": "markdown",
   "metadata": {
    "heading_collapsed": true
   },
   "source": [
    "# Initial Exploration the Data"
   ]
  },
  {
   "cell_type": "markdown",
   "metadata": {
    "hidden": true
   },
   "source": [
    "We explore data to get a feel for what's there!"
   ]
  },
  {
   "cell_type": "code",
   "execution_count": null,
   "metadata": {
    "ExecuteTime": {
     "end_time": "2020-02-05T22:01:46.157475Z",
     "start_time": "2020-02-05T22:01:46.148319Z"
    },
    "hidden": true
   },
   "outputs": [],
   "source": [
    "import pandas as pd\n",
    "import numpy as np\n",
    "\n",
    "# Fun little magic to display the plots\n",
    "%matplotlib inline\n",
    "\n",
    "df = pd.read_csv('data/titanic.csv')"
   ]
  },
  {
   "cell_type": "code",
   "execution_count": null,
   "metadata": {
    "ExecuteTime": {
     "end_time": "2020-02-05T22:01:27.872617Z",
     "start_time": "2020-02-05T22:01:27.860363Z"
    },
    "hidden": true,
    "scrolled": true
   },
   "outputs": [],
   "source": [
    "df.head()"
   ]
  },
  {
   "cell_type": "code",
   "execution_count": null,
   "metadata": {
    "ExecuteTime": {
     "end_time": "2020-02-05T22:01:27.880157Z",
     "start_time": "2020-02-05T22:01:27.874153Z"
    },
    "hidden": true
   },
   "outputs": [],
   "source": [
    "df.info()"
   ]
  },
  {
   "cell_type": "code",
   "execution_count": null,
   "metadata": {
    "ExecuteTime": {
     "end_time": "2020-02-05T22:01:27.907900Z",
     "start_time": "2020-02-05T22:01:27.882549Z"
    },
    "hidden": true,
    "scrolled": true
   },
   "outputs": [],
   "source": [
    "df.describe()"
   ]
  },
  {
   "cell_type": "code",
   "execution_count": null,
   "metadata": {
    "ExecuteTime": {
     "end_time": "2020-02-05T22:01:27.916370Z",
     "start_time": "2020-02-05T22:01:27.911158Z"
    },
    "hidden": true
   },
   "outputs": [],
   "source": [
    "df['Pclass'].value_counts()"
   ]
  },
  {
   "cell_type": "code",
   "execution_count": null,
   "metadata": {
    "ExecuteTime": {
     "end_time": "2020-02-05T22:01:27.921782Z",
     "start_time": "2020-02-05T22:01:27.917676Z"
    },
    "hidden": true
   },
   "outputs": [],
   "source": [
    "df['Survived'].unique()"
   ]
  },
  {
   "cell_type": "code",
   "execution_count": null,
   "metadata": {
    "ExecuteTime": {
     "end_time": "2020-02-05T22:01:57.472934Z",
     "start_time": "2020-02-05T22:01:57.331445Z"
    },
    "hidden": true
   },
   "outputs": [],
   "source": [
    "df['Age'].hist()"
   ]
  },
  {
   "cell_type": "code",
   "execution_count": null,
   "metadata": {
    "ExecuteTime": {
     "end_time": "2020-02-05T22:02:24.480614Z",
     "start_time": "2020-02-05T22:02:24.374843Z"
    },
    "hidden": true
   },
   "outputs": [],
   "source": [
    "df['Age'].plot(kind='box')"
   ]
  },
  {
   "cell_type": "markdown",
   "metadata": {
    "heading_collapsed": true
   },
   "source": [
    "# Missing Data"
   ]
  },
  {
   "cell_type": "markdown",
   "metadata": {
    "hidden": true
   },
   "source": [
    "> Check out Jeff's walkthrough on finding missing data: https://www.youtube.com/watch?v=nDDB82-xrxI"
   ]
  },
  {
   "cell_type": "markdown",
   "metadata": {
    "hidden": true
   },
   "source": [
    "Why is this an issue?"
   ]
  },
  {
   "cell_type": "markdown",
   "metadata": {
    "heading_collapsed": true,
    "hidden": true
   },
   "source": [
    "## Dealing with it"
   ]
  },
  {
   "cell_type": "markdown",
   "metadata": {
    "heading_collapsed": true,
    "hidden": true
   },
   "source": [
    "### Remove"
   ]
  },
  {
   "cell_type": "markdown",
   "metadata": {
    "hidden": true
   },
   "source": [
    "We lose data!!!!"
   ]
  },
  {
   "cell_type": "markdown",
   "metadata": {
    "heading_collapsed": true,
    "hidden": true
   },
   "source": [
    "#### Drop Columns"
   ]
  },
  {
   "cell_type": "markdown",
   "metadata": {
    "hidden": true
   },
   "source": [
    "> https://pandas.pydata.org/pandas-docs/version/0.21/generated/pandas.DataFrame.drop.html\n",
    "\n",
    "If majority are missing --> Can affect our prediction\n",
    "\n",
    "\n",
    "```python\n",
    "df.drop(columns=['B', 'C'])\n",
    "\n",
    "df.drop(['B', 'C'], axis=1)\n",
    "\n",
    "```"
   ]
  },
  {
   "cell_type": "markdown",
   "metadata": {
    "heading_collapsed": true,
    "hidden": true
   },
   "source": [
    "#### Drop Rows"
   ]
  },
  {
   "cell_type": "markdown",
   "metadata": {
    "hidden": true
   },
   "source": [
    "If we're not dropping many values probably alright\n",
    "\n",
    "\n",
    "\n",
    "\n",
    "```python\n",
    "# Drop all rows with nulls\n",
    "df.dropna()\n",
    "```"
   ]
  },
  {
   "cell_type": "code",
   "execution_count": null,
   "metadata": {
    "ExecuteTime": {
     "end_time": "2020-02-05T22:01:28.070764Z",
     "start_time": "2020-02-05T22:01:28.063614Z"
    },
    "hidden": true
   },
   "outputs": [],
   "source": [
    "df_ex = pd.DataFrame(np.arange(5*4).reshape(5,4),\n",
    "                      columns=['A', 'B', 'C', 'D'])\n",
    "df_ex.head()"
   ]
  },
  {
   "cell_type": "code",
   "execution_count": null,
   "metadata": {
    "ExecuteTime": {
     "end_time": "2020-02-05T22:01:28.078945Z",
     "start_time": "2020-02-05T22:01:28.072232Z"
    },
    "hidden": true
   },
   "outputs": [],
   "source": [
    "# By index\n",
    "df_ex.drop([1,2])"
   ]
  },
  {
   "cell_type": "markdown",
   "metadata": {
    "heading_collapsed": true,
    "hidden": true
   },
   "source": [
    "### Replace"
   ]
  },
  {
   "cell_type": "markdown",
   "metadata": {
    "hidden": true
   },
   "source": [
    "Can fill it in with some value"
   ]
  },
  {
   "cell_type": "code",
   "execution_count": null,
   "metadata": {
    "ExecuteTime": {
     "end_time": "2020-02-05T22:01:28.088044Z",
     "start_time": "2020-02-05T22:01:28.080687Z"
    },
    "hidden": true,
    "scrolled": true
   },
   "outputs": [],
   "source": [
    "df['Fare'].fillna(df['Fare'].median())"
   ]
  },
  {
   "cell_type": "markdown",
   "metadata": {
    "heading_collapsed": true,
    "hidden": true
   },
   "source": [
    "### Keep"
   ]
  },
  {
   "cell_type": "markdown",
   "metadata": {
    "hidden": true
   },
   "source": [
    "What if it's useful to know it's missing"
   ]
  },
  {
   "cell_type": "markdown",
   "metadata": {
    "hidden": true
   },
   "source": [
    "- Make it as it's own category\n",
    "- Bin it for numberical ranges (creates a category)"
   ]
  },
  {
   "cell_type": "markdown",
   "metadata": {
    "heading_collapsed": true,
    "hidden": true
   },
   "source": [
    "## Example code"
   ]
  },
  {
   "cell_type": "code",
   "execution_count": null,
   "metadata": {
    "ExecuteTime": {
     "end_time": "2020-02-05T22:01:28.121994Z",
     "start_time": "2020-02-05T22:01:28.089437Z"
    },
    "hidden": true,
    "scrolled": true
   },
   "outputs": [],
   "source": [
    "df.isna()"
   ]
  },
  {
   "cell_type": "code",
   "execution_count": null,
   "metadata": {
    "ExecuteTime": {
     "end_time": "2020-02-05T22:01:28.128981Z",
     "start_time": "2020-02-05T22:01:28.123738Z"
    },
    "hidden": true
   },
   "outputs": [],
   "source": [
    "df.isna().sum()"
   ]
  }
 ],
 "metadata": {
  "kernelspec": {
   "display_name": "Python 3",
   "language": "python",
   "name": "python3"
  },
  "language_info": {
   "codemirror_mode": {
    "name": "ipython",
    "version": 3
   },
   "file_extension": ".py",
   "mimetype": "text/x-python",
   "name": "python",
   "nbconvert_exporter": "python",
   "pygments_lexer": "ipython3",
   "version": "3.8.5"
  },
  "toc": {
   "base_numbering": 1,
   "nav_menu": {},
   "number_sections": true,
   "sideBar": false,
   "skip_h1_title": false,
   "title_cell": "Table of Contents",
   "title_sidebar": "Contents",
   "toc_cell": true,
   "toc_position": {},
   "toc_section_display": false,
   "toc_window_display": false
  },
  "varInspector": {
   "cols": {
    "lenName": 16,
    "lenType": 16,
    "lenVar": 40
   },
   "kernels_config": {
    "python": {
     "delete_cmd_postfix": "",
     "delete_cmd_prefix": "del ",
     "library": "var_list.py",
     "varRefreshCmd": "print(var_dic_list())"
    },
    "r": {
     "delete_cmd_postfix": ") ",
     "delete_cmd_prefix": "rm(",
     "library": "var_list.r",
     "varRefreshCmd": "cat(var_dic_list()) "
    }
   },
   "types_to_exclude": [
    "module",
    "function",
    "builtin_function_or_method",
    "instance",
    "_Feature"
   ],
   "window_display": false
  }
 },
 "nbformat": 4,
 "nbformat_minor": 2
}
