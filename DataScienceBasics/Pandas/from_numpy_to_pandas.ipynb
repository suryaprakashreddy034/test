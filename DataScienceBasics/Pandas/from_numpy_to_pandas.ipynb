{
 "cells": [
  {
   "cell_type": "markdown",
   "metadata": {
    "toc": true
   },
   "source": [
    "<h1>Table of Contents<span class=\"tocSkip\"></span></h1>\n",
    "<div class=\"toc\"><ul class=\"toc-item\"><li><span><a href=\"#Pandas-from-NumPy\" data-toc-modified-id=\"Pandas-from-NumPy-1\"><span class=\"toc-item-num\">1&nbsp;&nbsp;</span>Pandas from NumPy</a></span><ul class=\"toc-item\"><li><span><a href=\"#Objectives\" data-toc-modified-id=\"Objectives-1.1\"><span class=\"toc-item-num\">1.1&nbsp;&nbsp;</span>Objectives</a></span></li></ul></li><li><span><a href=\"#What-are-Series-and-DataFrames?\" data-toc-modified-id=\"What-are-Series-and-DataFrames?-2\"><span class=\"toc-item-num\">2&nbsp;&nbsp;</span>What are Series and DataFrames?</a></span><ul class=\"toc-item\"><li><ul class=\"toc-item\"><li><span><a href=\"#Some-Examples\" data-toc-modified-id=\"Some-Examples-2.0.1\"><span class=\"toc-item-num\">2.0.1&nbsp;&nbsp;</span>Some Examples</a></span></li></ul></li><li><span><a href=\"#🧠-Knowledge-Check:-Why-use-Pandas-Series-and-DataFrames?\" data-toc-modified-id=\"🧠-Knowledge-Check:-Why-use-Pandas-Series-and-DataFrames?-2.1\"><span class=\"toc-item-num\">2.1&nbsp;&nbsp;</span>🧠 Knowledge Check: Why use Pandas Series and DataFrames?</a></span><ul class=\"toc-item\"><li><span><a href=\"#Possible-Answer\" data-toc-modified-id=\"Possible-Answer-2.1.1\"><span class=\"toc-item-num\">2.1.1&nbsp;&nbsp;</span>Possible Answer</a></span></li></ul></li></ul></li><li><span><a href=\"#Pandas-Methods-for-Importing-&amp;-Exporting-Data\" data-toc-modified-id=\"Pandas-Methods-for-Importing-&amp;-Exporting-Data-3\"><span class=\"toc-item-num\">3&nbsp;&nbsp;</span>Pandas Methods for Importing &amp; Exporting Data</a></span><ul class=\"toc-item\"><li><span><a href=\"#def-Functions-vs-lambda-Functions\" data-toc-modified-id=\"def-Functions-vs-lambda-Functions-3.1\"><span class=\"toc-item-num\">3.1&nbsp;&nbsp;</span><code>def</code> Functions vs <code>lambda</code> Functions</a></span></li></ul></li><li><span><a href=\"#Pandas-Methods-for-Formatting-and-Cleaning-Data\" data-toc-modified-id=\"Pandas-Methods-for-Formatting-and-Cleaning-Data-4\"><span class=\"toc-item-num\">4&nbsp;&nbsp;</span>Pandas Methods for Formatting and Cleaning Data</a></span></li><li><span><a href=\"#Accessing-Data-in-Pandas\" data-toc-modified-id=\"Accessing-Data-in-Pandas-5\"><span class=\"toc-item-num\">5&nbsp;&nbsp;</span>Accessing Data in Pandas</a></span><ul class=\"toc-item\"><li><span><a href=\"#Methods:\" data-toc-modified-id=\"Methods:-5.1\"><span class=\"toc-item-num\">5.1&nbsp;&nbsp;</span>Methods:</a></span><ul class=\"toc-item\"><li><span><a href=\"#Examples\" data-toc-modified-id=\"Examples-5.1.1\"><span class=\"toc-item-num\">5.1.1&nbsp;&nbsp;</span>Examples</a></span></li></ul></li><li><span><a href=\"#Attributes:\" data-toc-modified-id=\"Attributes:-5.2\"><span class=\"toc-item-num\">5.2&nbsp;&nbsp;</span>Attributes:</a></span></li><li><span><a href=\"#Additional-Resources\" data-toc-modified-id=\"Additional-Resources-5.3\"><span class=\"toc-item-num\">5.3&nbsp;&nbsp;</span>Additional Resources</a></span></li><li><span><a href=\"#Boolean-Masking-for-Data-Selection\" data-toc-modified-id=\"Boolean-Masking-for-Data-Selection-5.4\"><span class=\"toc-item-num\">5.4&nbsp;&nbsp;</span>Boolean Masking for Data Selection</a></span></li></ul></li></ul></div>"
   ]
  },
  {
   "cell_type": "markdown",
   "metadata": {
    "colab_type": "text",
    "heading_collapsed": true,
    "id": "kDiQZQ_k8BAa"
   },
   "source": [
    "# Pandas from NumPy"
   ]
  },
  {
   "cell_type": "markdown",
   "metadata": {
    "hidden": true
   },
   "source": [
    "![](images/pandas.svg)"
   ]
  },
  {
   "cell_type": "markdown",
   "metadata": {
    "hidden": true
   },
   "source": [
    "> [Pandas](https://pandas.pydata.org/pandas-docs/stable/) is the typical tool a data scientist grabs first. It is based around a lot of the [NumPy package](https://docs.scipy.org/doc/numpy/reference/) so a familiarity with NumPy will help understand how to use Pandas. However, Pandas has a lot of specific extras that can be very useful to a data scientist!\n",
    ">\n",
    "> Pandas isn't the only tool that you will use as a data scientist but can usually get the job done when working with data that are not _\"big data\"_. It can also be useful to do an initial exploration of larger datasets. A great (and free resource) is the _Python Data Science Handbook_ by Jake VanderPlas: https://jakevdp.github.io/PythonDataScienceHandbook"
   ]
  },
  {
   "cell_type": "markdown",
   "metadata": {
    "colab_type": "text",
    "heading_collapsed": true,
    "hidden": true,
    "id": "7nsHlGY38BAb"
   },
   "source": [
    "## Objectives"
   ]
  },
  {
   "cell_type": "markdown",
   "metadata": {
    "colab_type": "text",
    "hidden": true,
    "id": "7nsHlGY38BAb"
   },
   "source": [
    "You will be able to:\n",
    "* Understand and explain what Pandas Series and DataFrames are and how they differ from dictionaries and lists\n",
    "* Create Series & DataFrames from dictionaries and lists\n",
    "* Perform data manipulation on series and DataFrames using methods and attibutes\n",
    "* Perform data manipulation on series and DataFrames using lambda fucntions, def functions, .map()/.apply()/.applymap()"
   ]
  },
  {
   "cell_type": "code",
   "execution_count": null,
   "metadata": {
    "hidden": true
   },
   "outputs": [],
   "source": [
    "# Some imports to do some work\n",
    "import numpy as np # Our good old friend ♥️\n",
    "import pandas as pd # We'll get to know her well 🐼"
   ]
  },
  {
   "cell_type": "markdown",
   "metadata": {
    "heading_collapsed": true
   },
   "source": [
    "# What are Series and DataFrames?"
   ]
  },
  {
   "cell_type": "markdown",
   "metadata": {
    "hidden": true
   },
   "source": [
    "One really cool thing about Pandas is that the main structures **DataFrames** and **Series** are really just NumPy arrays structured similar to a spreadsheet. This is how we organize our data in Pandas."
   ]
  },
  {
   "cell_type": "markdown",
   "metadata": {
    "hidden": true
   },
   "source": [
    "* “Series” → one-dimensional array; a column\n",
    "* “Data Frames” → two-dimensional array; a spreadsheet"
   ]
  },
  {
   "cell_type": "markdown",
   "metadata": {
    "heading_collapsed": true,
    "hidden": true
   },
   "source": [
    "### Some Examples"
   ]
  },
  {
   "cell_type": "code",
   "execution_count": null,
   "metadata": {
    "hidden": true
   },
   "outputs": [],
   "source": [
    "# Series\n",
    "data_col = pd.Series([0.2, 0.4, 0.6, 0.8, 1.0])\n",
    "data_col\n"
   ]
  },
  {
   "cell_type": "code",
   "execution_count": null,
   "metadata": {
    "hidden": true
   },
   "outputs": [],
   "source": [
    "# Series with an index!\n",
    "data_col = pd.Series([0.2, 0.4, 0.6, 0.8, 1.0], \n",
    "                     index=['a','b','c','d','e'])\n",
    "data_col"
   ]
  },
  {
   "cell_type": "code",
   "execution_count": null,
   "metadata": {
    "hidden": true
   },
   "outputs": [],
   "source": [
    "data_col_other = pd.Series([0.1, 0.2, 0.3, 0.4, 5],\n",
    "                           index=['a','b','c','d','e'])\n",
    "data_col_other"
   ]
  },
  {
   "cell_type": "code",
   "execution_count": null,
   "metadata": {
    "hidden": true
   },
   "outputs": [],
   "source": [
    "# A DataFrame from our Series!\n",
    "df = pd.DataFrame(data_col)\n",
    "df"
   ]
  },
  {
   "cell_type": "code",
   "execution_count": null,
   "metadata": {
    "hidden": true
   },
   "outputs": [],
   "source": [
    "# Multiple Series! We can define our column names\n",
    "df = pd.DataFrame({'1st_Col':data_col,'2nd_Col':data_col_other})\n",
    "df"
   ]
  },
  {
   "cell_type": "markdown",
   "metadata": {
    "hidden": true
   },
   "source": [
    "> A great way to learn is to try and break things! What do you predict will happen here?"
   ]
  },
  {
   "cell_type": "code",
   "execution_count": null,
   "metadata": {
    "hidden": true
   },
   "outputs": [],
   "source": [
    "# \n",
    "data_col_other = pd.Series([0.1, 0.2, 0.3, 0.4, 5],\n",
    "                           index=['a','b','c','z','y'])\n",
    "data_col = pd.Series([0.2, 0.4, 0.6, 0.8, 1.0], \n",
    "                     index=['a','b','c','d','e'])\n",
    "\n",
    "df = pd.DataFrame({'1st_Col':data_col,'2nd_Col':data_col_other})\n",
    "df"
   ]
  },
  {
   "cell_type": "markdown",
   "metadata": {
    "colab_type": "text",
    "heading_collapsed": true,
    "hidden": true,
    "id": "GtcXmNU48BAc"
   },
   "source": [
    "## 🧠 Knowledge Check: Why use Pandas Series and DataFrames?"
   ]
  },
  {
   "cell_type": "markdown",
   "metadata": {
    "colab_type": "text",
    "hidden": true,
    "id": "GtcXmNU48BAc"
   },
   "source": [
    "> Why use Pandas Series and DataFrames instead of built-in Python data types of lists and dictionaries?"
   ]
  },
  {
   "cell_type": "markdown",
   "metadata": {
    "colab_type": "text",
    "heading_collapsed": true,
    "hidden": true,
    "id": "GtcXmNU48BAc"
   },
   "source": [
    "### Possible Answer"
   ]
  },
  {
   "cell_type": "markdown",
   "metadata": {
    "colab_type": "text",
    "hidden": true,
    "id": "GtcXmNU48BAc"
   },
   "source": [
    "> Series and DataFrames have a range of built in methods which make standard practices and procedures streamlined. "
   ]
  },
  {
   "cell_type": "markdown",
   "metadata": {
    "colab_type": "text",
    "heading_collapsed": true,
    "id": "VDkdkEqa8BAd"
   },
   "source": [
    "# Pandas Methods for Importing & Exporting Data"
   ]
  },
  {
   "cell_type": "markdown",
   "metadata": {
    "colab_type": "text",
    "hidden": true,
    "id": "VDkdkEqa8BAd"
   },
   "source": [
    "- pd.read_csv()\n",
    "- pd.read_excel()\n",
    "- pd.read_json()\n",
    "- pd.DataFrame.from_dict()\n",
    "\n",
    "- df.to_csv()\n",
    "- df.to_excel()\n",
    "- df.to_json()\n",
    "- df.to_dict()"
   ]
  },
  {
   "cell_type": "markdown",
   "metadata": {
    "colab_type": "text",
    "heading_collapsed": true,
    "hidden": true,
    "id": "lF9BXICw8BAd"
   },
   "source": [
    "## `def` Functions vs `lambda` Functions"
   ]
  },
  {
   "cell_type": "markdown",
   "metadata": {
    "colab_type": "text",
    "hidden": true,
    "id": "wXJunP_R8BAe"
   },
   "source": [
    "> .map(), .apply(), .applymap()\n",
    "\n",
    "- both useful for applying an operation to all values in a series or DataFrame\n",
    "    * mapping a user-defined function allows for easy re-use\n",
    "    * lambda function is 1-time-use\n",
    "    \n",
    "https://sites.google.com/site/prgrammnote/python/difference-between-map-applymap-and-apply-methods-in-pandas\n",
    "\n",
    "https://chrisalbon.com/python/data_wrangling/pandas_apply_operations_to_dataframes/"
   ]
  },
  {
   "cell_type": "markdown",
   "metadata": {
    "colab_type": "text",
    "heading_collapsed": true,
    "id": "DuUP8ZkA8BAe"
   },
   "source": [
    "# Pandas Methods for Formatting and Cleaning Data"
   ]
  },
  {
   "cell_type": "markdown",
   "metadata": {
    "colab_type": "text",
    "hidden": true,
    "id": "DuUP8ZkA8BAe"
   },
   "source": [
    "* df['col'].astype()\n",
    "* pd.to_datetime()\n",
    "* df.rename()\n",
    "* df.drop()\n",
    "* df.set_index()"
   ]
  },
  {
   "cell_type": "markdown",
   "metadata": {
    "colab_type": "text",
    "hidden": true,
    "id": "nv3eFLuA8BAf"
   },
   "source": [
    "**When manipulating and formatting data it is good practice to preview changes before overwriting data**"
   ]
  },
  {
   "cell_type": "markdown",
   "metadata": {
    "colab_type": "text",
    "heading_collapsed": true,
    "id": "Yd5AxSBw8BAg"
   },
   "source": [
    "# Accessing Data in Pandas"
   ]
  },
  {
   "cell_type": "code",
   "execution_count": null,
   "metadata": {
    "colab": {},
    "colab_type": "code",
    "hidden": true,
    "id": "f2CTSQTV8BAh"
   },
   "outputs": [],
   "source": [
    "from sklearn.datasets import load_wine\n",
    "import pandas as pd \n",
    "\n",
    "data = load_wine()\n",
    "df = pd.DataFrame(data.data, columns=data.feature_names)"
   ]
  },
  {
   "cell_type": "markdown",
   "metadata": {
    "colab_type": "text",
    "heading_collapsed": true,
    "hidden": true,
    "id": "Yd5AxSBw8BAg"
   },
   "source": [
    "## Methods:"
   ]
  },
  {
   "cell_type": "markdown",
   "metadata": {
    "colab_type": "text",
    "hidden": true,
    "id": "Yd5AxSBw8BAg"
   },
   "source": [
    "* `.info()` → Gives a feel for what the data are about\n",
    "* `.describe()` → Descriptive statistics of numerical columns \n",
    "* `.head()` → First 5 rows of DataFrame\n",
    "* `.tail()` → Last 5 rows of DataFrame"
   ]
  },
  {
   "cell_type": "markdown",
   "metadata": {
    "heading_collapsed": true,
    "hidden": true
   },
   "source": [
    "### Examples"
   ]
  },
  {
   "cell_type": "code",
   "execution_count": null,
   "metadata": {
    "hidden": true
   },
   "outputs": [],
   "source": [
    "df.info()"
   ]
  },
  {
   "cell_type": "code",
   "execution_count": null,
   "metadata": {
    "colab": {},
    "colab_type": "code",
    "hidden": true,
    "id": "f2CTSQTV8BAh"
   },
   "outputs": [],
   "source": [
    "df.describe()"
   ]
  },
  {
   "cell_type": "code",
   "execution_count": null,
   "metadata": {
    "hidden": true
   },
   "outputs": [],
   "source": [
    "df.head()"
   ]
  },
  {
   "cell_type": "code",
   "execution_count": null,
   "metadata": {
    "hidden": true
   },
   "outputs": [],
   "source": [
    "df.head(10)"
   ]
  },
  {
   "cell_type": "code",
   "execution_count": null,
   "metadata": {
    "hidden": true
   },
   "outputs": [],
   "source": [
    "df.tail()"
   ]
  },
  {
   "cell_type": "markdown",
   "metadata": {
    "colab_type": "text",
    "heading_collapsed": true,
    "hidden": true,
    "id": "Yd5AxSBw8BAg"
   },
   "source": [
    "## Attributes:"
   ]
  },
  {
   "cell_type": "markdown",
   "metadata": {
    "colab_type": "text",
    "hidden": true,
    "id": "Yd5AxSBw8BAg"
   },
   "source": [
    "* .index\n",
    "* .columns\n",
    "* .dtypes\n",
    "* .shape\n",
    "* .loc - select by label\n",
    "* .iloc - select by index"
   ]
  },
  {
   "cell_type": "markdown",
   "metadata": {
    "colab_type": "text",
    "heading_collapsed": true,
    "hidden": true,
    "id": "Yd5AxSBw8BAg"
   },
   "source": [
    "## Additional Resources"
   ]
  },
  {
   "cell_type": "markdown",
   "metadata": {
    "colab_type": "text",
    "hidden": true,
    "id": "Yd5AxSBw8BAg"
   },
   "source": [
    "Confused on methods vs attributes? Check out these links:\n",
    "\n",
    "https://www.quora.com/What-is-the-difference-between-methods-and-attributes-in-Python\n",
    "\n",
    "https://stackoverflow.com/questions/28798781/differences-between-data-attributes-and-method-attributes"
   ]
  },
  {
   "cell_type": "markdown",
   "metadata": {
    "colab_type": "text",
    "heading_collapsed": true,
    "hidden": true,
    "id": "FpLDzru-8BAh"
   },
   "source": [
    "## Boolean Masking for Data Selection"
   ]
  },
  {
   "cell_type": "markdown",
   "metadata": {
    "colab_type": "text",
    "hidden": true,
    "id": "FpLDzru-8BAh"
   },
   "source": [
    "> Extremely useful when trying to get a subset of data based on conditions"
   ]
  },
  {
   "cell_type": "code",
   "execution_count": null,
   "metadata": {
    "colab": {},
    "colab_type": "code",
    "hidden": true,
    "id": "_XTnP8Oj8BAj",
    "outputId": "83ab0935-a4b9-4cca-b6dd-35b9a8787bbc"
   },
   "outputs": [],
   "source": [
    "df.loc[df[\"alcohol\"] < 12] # boolean indexing"
   ]
  },
  {
   "cell_type": "code",
   "execution_count": null,
   "metadata": {
    "colab": {},
    "colab_type": "code",
    "hidden": true,
    "id": "_XTnP8Oj8BAj",
    "outputId": "83ab0935-a4b9-4cca-b6dd-35b9a8787bbc"
   },
   "outputs": [],
   "source": [
    "# Alternative\n",
    "mask = df['alcohol'] < 12 #boolean masking\n",
    "new_df = df[mask]\n",
    "new_df"
   ]
  },
  {
   "cell_type": "code",
   "execution_count": null,
   "metadata": {
    "hidden": true
   },
   "outputs": [],
   "source": [
    "# Multiple conditions: → &\n",
    "mask = (df['alcohol'] < 12) & (df['alcohol'] > 11.7) # Must be in paranthesis!\n",
    "new_df = df[mask]\n",
    "new_df"
   ]
  },
  {
   "cell_type": "code",
   "execution_count": null,
   "metadata": {
    "hidden": true
   },
   "outputs": [],
   "source": [
    "# Multiple conditions: OR → |\n",
    "mask = (df['alcohol'] < 12) | (df['alcohol'] > 14) # Must be in paranthesis!\n",
    "new_df = df[mask]\n",
    "new_df"
   ]
  }
 ],
 "metadata": {
  "colab": {
   "name": "M01S03.ipynb",
   "provenance": [],
   "version": "0.3.2"
  },
  "kernelspec": {
   "display_name": "Python 3",
   "language": "python",
   "name": "python3"
  },
  "language_info": {
   "codemirror_mode": {
    "name": "ipython",
    "version": 3
   },
   "file_extension": ".py",
   "mimetype": "text/x-python",
   "name": "python",
   "nbconvert_exporter": "python",
   "pygments_lexer": "ipython3",
   "version": "3.8.5"
  },
  "toc": {
   "base_numbering": 1,
   "nav_menu": {},
   "number_sections": true,
   "sideBar": false,
   "skip_h1_title": false,
   "title_cell": "Table of Contents",
   "title_sidebar": "Contents",
   "toc_cell": true,
   "toc_position": {
    "height": "calc(100% - 180px)",
    "left": "10px",
    "top": "150px",
    "width": "288px"
   },
   "toc_section_display": false,
   "toc_window_display": false
  },
  "varInspector": {
   "cols": {
    "lenName": 16,
    "lenType": 16,
    "lenVar": 40
   },
   "kernels_config": {
    "python": {
     "delete_cmd_postfix": "",
     "delete_cmd_prefix": "del ",
     "library": "var_list.py",
     "varRefreshCmd": "print(var_dic_list())"
    },
    "r": {
     "delete_cmd_postfix": ") ",
     "delete_cmd_prefix": "rm(",
     "library": "var_list.r",
     "varRefreshCmd": "cat(var_dic_list()) "
    }
   },
   "types_to_exclude": [
    "module",
    "function",
    "builtin_function_or_method",
    "instance",
    "_Feature"
   ],
   "window_display": false
  }
 },
 "nbformat": 4,
 "nbformat_minor": 1
}
