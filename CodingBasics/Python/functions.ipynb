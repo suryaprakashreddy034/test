{
 "cells": [
  {
   "cell_type": "markdown",
   "metadata": {
    "toc": true
   },
   "source": [
    "<h1>Table of Contents<span class=\"tocSkip\"></span></h1>\n",
    "<div class=\"toc\"><ul class=\"toc-item\"><li><span><a href=\"#Creating-our-own-functions\" data-toc-modified-id=\"Creating-our-own-functions-1\"><span class=\"toc-item-num\">1&nbsp;&nbsp;</span>Creating our own functions</a></span><ul class=\"toc-item\"><li><span><a href=\"#Functions-with-no-parameters\" data-toc-modified-id=\"Functions-with-no-parameters-1.1\"><span class=\"toc-item-num\">1.1&nbsp;&nbsp;</span>Functions with no parameters</a></span></li><li><span><a href=\"#Functions-with-parameters\" data-toc-modified-id=\"Functions-with-parameters-1.2\"><span class=\"toc-item-num\">1.2&nbsp;&nbsp;</span>Functions with parameters</a></span></li></ul></li><li><span><a href=\"#The-Scary-Lambda-Function\" data-toc-modified-id=\"The-Scary-Lambda-Function-2\"><span class=\"toc-item-num\">2&nbsp;&nbsp;</span>The Scary Lambda Function</a></span></li></ul></div>"
   ]
  },
  {
   "cell_type": "markdown",
   "metadata": {
    "heading_collapsed": true
   },
   "source": [
    "# Creating our own functions"
   ]
  },
  {
   "cell_type": "markdown",
   "metadata": {
    "hidden": true
   },
   "source": [
    "Why would we use functions?"
   ]
  },
  {
   "cell_type": "markdown",
   "metadata": {
    "heading_collapsed": true,
    "hidden": true
   },
   "source": [
    "## Functions with no parameters"
   ]
  },
  {
   "cell_type": "code",
   "execution_count": null,
   "metadata": {
    "hidden": true
   },
   "outputs": [],
   "source": [
    "def my_func():\n",
    "    a = 1\n",
    "    b = 2\n",
    "    return(a+b)\n",
    "\n",
    "def my_print_func():\n",
    "    total = my_func()\n",
    "    print(total)\n",
    "    return total+100"
   ]
  },
  {
   "cell_type": "code",
   "execution_count": null,
   "metadata": {
    "hidden": true
   },
   "outputs": [],
   "source": [
    "c = my_func()\n",
    "c"
   ]
  },
  {
   "cell_type": "code",
   "execution_count": null,
   "metadata": {
    "hidden": true
   },
   "outputs": [],
   "source": [
    "c = my_print_func()\n",
    "c"
   ]
  },
  {
   "cell_type": "markdown",
   "metadata": {
    "hidden": true
   },
   "source": [
    "Avoid global variables!!"
   ]
  },
  {
   "cell_type": "code",
   "execution_count": null,
   "metadata": {
    "hidden": true
   },
   "outputs": [],
   "source": [
    "c = 10\n",
    "\n",
    "def my_bad_func():\n",
    "    d = c + 1\n",
    "    return d"
   ]
  },
  {
   "cell_type": "code",
   "execution_count": null,
   "metadata": {
    "hidden": true
   },
   "outputs": [],
   "source": [
    "my_bad_func()"
   ]
  },
  {
   "cell_type": "markdown",
   "metadata": {
    "heading_collapsed": true,
    "hidden": true
   },
   "source": [
    "## Functions with parameters"
   ]
  },
  {
   "cell_type": "markdown",
   "metadata": {
    "hidden": true
   },
   "source": [
    "Functions can be more flexible "
   ]
  },
  {
   "cell_type": "code",
   "execution_count": null,
   "metadata": {
    "hidden": true
   },
   "outputs": [],
   "source": [
    "def func(my_var):\n",
    "    my_var = float(my_var)\n",
    "    my_var += 10\n",
    "    string_form = f'My number was {my_var}'\n",
    "    return string_form"
   ]
  },
  {
   "cell_type": "markdown",
   "metadata": {
    "hidden": true
   },
   "source": [
    "We can also well document our function making it easier to use!"
   ]
  },
  {
   "cell_type": "code",
   "execution_count": null,
   "metadata": {
    "hidden": true
   },
   "outputs": [],
   "source": [
    "def add_together(my_number, other_number=0, convert_to_string=None):\n",
    "    '''\n",
    "    (This is a docstring) Add two numbers together and return the result. If\n",
    "    second number (`other_number`) is not passed, the default will be to add 0\n",
    "    to it. There is also an option to convert the result to a string format by\n",
    "    passing in a True value for `convert_to_string` parameter.\n",
    "    '''\n",
    "    # Add the numbers together\n",
    "    added = my_number + other_number\n",
    "    # Check if the number should be converted to a string format\n",
    "    if convert_to_string:\n",
    "        added = f'My number was {my_var}'\n",
    "\n",
    "    return added"
   ]
  },
  {
   "cell_type": "markdown",
   "metadata": {
    "heading_collapsed": true
   },
   "source": [
    "# The Scary Lambda Function"
   ]
  },
  {
   "cell_type": "markdown",
   "metadata": {
    "hidden": true
   },
   "source": [
    "Basically, `lambda` functions are really shortcuts to writing a function.\n",
    "\n",
    "However, they must be one-line functions and are \"nameless\""
   ]
  },
  {
   "cell_type": "code",
   "execution_count": null,
   "metadata": {
    "hidden": true
   },
   "outputs": [],
   "source": [
    "def my_lambda(x):\n",
    "    return x*3\n",
    "\n",
    "# This is the same thing!\n",
    "lambda x: x*3"
   ]
  },
  {
   "cell_type": "markdown",
   "metadata": {
    "hidden": true
   },
   "source": [
    "You can actually name the function like this:"
   ]
  },
  {
   "cell_type": "code",
   "execution_count": null,
   "metadata": {
    "hidden": true
   },
   "outputs": [],
   "source": [
    "named_func = lambda x: x*3\n",
    "named_func(2)"
   ]
  },
  {
   "cell_type": "code",
   "execution_count": null,
   "metadata": {
    "hidden": true
   },
   "outputs": [],
   "source": [
    "def add_together(x,y):\n",
    "    return x+y\n",
    "\n",
    "# Create a function that takes only one parameter now!\n",
    "add1 = lambda var: add_together(var,1)\n",
    "\n",
    "add1(3)"
   ]
  }
 ],
 "metadata": {
  "kernelspec": {
   "display_name": "Python 3",
   "language": "python",
   "name": "python3"
  },
  "language_info": {
   "codemirror_mode": {
    "name": "ipython",
    "version": 3
   },
   "file_extension": ".py",
   "mimetype": "text/x-python",
   "name": "python",
   "nbconvert_exporter": "python",
   "pygments_lexer": "ipython3",
   "version": "3.8.5"
  },
  "toc": {
   "base_numbering": 1,
   "nav_menu": {},
   "number_sections": true,
   "sideBar": false,
   "skip_h1_title": false,
   "title_cell": "Table of Contents",
   "title_sidebar": "Contents",
   "toc_cell": true,
   "toc_position": {
    "height": "calc(100% - 180px)",
    "left": "10px",
    "top": "150px",
    "width": "288px"
   },
   "toc_section_display": false,
   "toc_window_display": false
  },
  "varInspector": {
   "cols": {
    "lenName": 16,
    "lenType": 16,
    "lenVar": 40
   },
   "kernels_config": {
    "python": {
     "delete_cmd_postfix": "",
     "delete_cmd_prefix": "del ",
     "library": "var_list.py",
     "varRefreshCmd": "print(var_dic_list())"
    },
    "r": {
     "delete_cmd_postfix": ") ",
     "delete_cmd_prefix": "rm(",
     "library": "var_list.r",
     "varRefreshCmd": "cat(var_dic_list()) "
    }
   },
   "types_to_exclude": [
    "module",
    "function",
    "builtin_function_or_method",
    "instance",
    "_Feature"
   ],
   "window_display": false
  }
 },
 "nbformat": 4,
 "nbformat_minor": 2
}
