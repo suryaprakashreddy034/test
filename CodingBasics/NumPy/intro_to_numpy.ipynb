{
 "cells": [
  {
   "cell_type": "markdown",
   "metadata": {
    "toc": true
   },
   "source": [
    "<h1>Table of Contents<span class=\"tocSkip\"></span></h1>\n",
    "<div class=\"toc\"><ul class=\"toc-item\"><li><span><a href=\"#NumPy-Intro\" data-toc-modified-id=\"NumPy-Intro-1\"><span class=\"toc-item-num\">1&nbsp;&nbsp;</span>NumPy Intro</a></span></li><li><span><a href=\"#Arrays\" data-toc-modified-id=\"Arrays-2\"><span class=\"toc-item-num\">2&nbsp;&nbsp;</span>Arrays</a></span><ul class=\"toc-item\"><li><span><a href=\"#Math\" data-toc-modified-id=\"Math-2.1\"><span class=\"toc-item-num\">2.1&nbsp;&nbsp;</span>Math</a></span><ul class=\"toc-item\"><li><span><a href=\"#Remember-Lists?\" data-toc-modified-id=\"Remember-Lists?-2.1.1\"><span class=\"toc-item-num\">2.1.1&nbsp;&nbsp;</span>Remember Lists?</a></span></li><li><span><a href=\"#Looking-at-NumPy-Arrays\" data-toc-modified-id=\"Looking-at-NumPy-Arrays-2.1.2\"><span class=\"toc-item-num\">2.1.2&nbsp;&nbsp;</span>Looking at NumPy Arrays</a></span></li></ul></li><li><span><a href=\"#Multidimensional\" data-toc-modified-id=\"Multidimensional-2.2\"><span class=\"toc-item-num\">2.2&nbsp;&nbsp;</span>Multidimensional</a></span></li><li><span><a href=\"#Using-some-built-ins\" data-toc-modified-id=\"Using-some-built-ins-2.3\"><span class=\"toc-item-num\">2.3&nbsp;&nbsp;</span>Using some built-ins</a></span></li><li><span><a href=\"#Slicing-&amp;-Dicing\" data-toc-modified-id=\"Slicing-&amp;-Dicing-2.4\"><span class=\"toc-item-num\">2.4&nbsp;&nbsp;</span>Slicing &amp; Dicing</a></span></li></ul></li></ul></div>"
   ]
  },
  {
   "cell_type": "markdown",
   "metadata": {},
   "source": [
    "![NumPy logo](images/NumPy_logo.png)"
   ]
  },
  {
   "cell_type": "markdown",
   "metadata": {
    "heading_collapsed": true
   },
   "source": [
    "# NumPy Intro"
   ]
  },
  {
   "cell_type": "code",
   "execution_count": null,
   "metadata": {
    "hidden": true
   },
   "outputs": [],
   "source": [
    "# Usually imported as `np`\n",
    "import numpy as np\n",
    "\n",
    "# For later\n",
    "import pandas as pd"
   ]
  },
  {
   "cell_type": "markdown",
   "metadata": {
    "heading_collapsed": true
   },
   "source": [
    "# Arrays"
   ]
  },
  {
   "cell_type": "markdown",
   "metadata": {
    "hidden": true
   },
   "source": [
    "Arrays are very similar to lists but do have some extra efficiency and actions\n",
    "\n",
    "For a little more detail on this, check out this section from _Python Data Science Handbook_: [Understanding Data Types in Python](https://jakevdp.github.io/PythonDataScienceHandbook/02.01-understanding-data-types.html#A-Python-Integer-Is-More-Than-Just-an-Integer)"
   ]
  },
  {
   "cell_type": "code",
   "execution_count": null,
   "metadata": {
    "hidden": true
   },
   "outputs": [],
   "source": [
    "# Let's define an array!\n",
    "my_arr = np.array([1,2,3,4])\n",
    "my_arr"
   ]
  },
  {
   "cell_type": "code",
   "execution_count": null,
   "metadata": {
    "hidden": true
   },
   "outputs": [],
   "source": [
    "# We can create numpy arrays in lots of different ways\n",
    "use_range = range(10)\n",
    "print('Using range: ', np.array(use_range))\n",
    "\n",
    "use_tuple = (5,2,3)\n",
    "print('Using tuples: ', np.array(use_tuple))\n",
    "\n",
    "use_series = pd.Series([1,2,3])\n",
    "print('Using pd.Series: ', np.array(use_series))"
   ]
  },
  {
   "cell_type": "markdown",
   "metadata": {
    "heading_collapsed": true,
    "hidden": true
   },
   "source": [
    "## Math"
   ]
  },
  {
   "cell_type": "markdown",
   "metadata": {
    "heading_collapsed": true,
    "hidden": true
   },
   "source": [
    "### Remember Lists?\n",
    "A certain syntax"
   ]
  },
  {
   "cell_type": "code",
   "execution_count": null,
   "metadata": {
    "hidden": true
   },
   "outputs": [],
   "source": [
    "list0 = [1,2,3]\n",
    "list0"
   ]
  },
  {
   "cell_type": "code",
   "execution_count": null,
   "metadata": {
    "hidden": true
   },
   "outputs": [],
   "source": [
    "list0 + 4"
   ]
  },
  {
   "cell_type": "code",
   "execution_count": null,
   "metadata": {
    "hidden": true
   },
   "outputs": [],
   "source": [
    "list0 + [4]"
   ]
  },
  {
   "cell_type": "markdown",
   "metadata": {
    "hidden": true
   },
   "source": [
    "What about multiplication?"
   ]
  },
  {
   "cell_type": "code",
   "execution_count": null,
   "metadata": {
    "hidden": true
   },
   "outputs": [],
   "source": [
    "print(list0 * 3)"
   ]
  },
  {
   "cell_type": "markdown",
   "metadata": {
    "hidden": true
   },
   "source": [
    "What about division?"
   ]
  },
  {
   "cell_type": "code",
   "execution_count": null,
   "metadata": {
    "hidden": true
   },
   "outputs": [],
   "source": [
    "print(list0 / 3)"
   ]
  },
  {
   "cell_type": "markdown",
   "metadata": {
    "hidden": true
   },
   "source": [
    "Adding lists together; what's going to happen?"
   ]
  },
  {
   "cell_type": "code",
   "execution_count": null,
   "metadata": {
    "hidden": true
   },
   "outputs": [],
   "source": [
    "list0 = [0,1,2]\n",
    "list1 = [3,4,5]\n",
    "print(list0)\n",
    "print(list1)\n",
    "print(list0 + list1)"
   ]
  },
  {
   "cell_type": "markdown",
   "metadata": {
    "heading_collapsed": true,
    "hidden": true
   },
   "source": [
    "### Looking at NumPy Arrays"
   ]
  },
  {
   "cell_type": "code",
   "execution_count": null,
   "metadata": {
    "hidden": true
   },
   "outputs": [],
   "source": [
    "np_arr0 = np.array(range(4))\n",
    "np_arr0"
   ]
  },
  {
   "cell_type": "code",
   "execution_count": null,
   "metadata": {
    "hidden": true
   },
   "outputs": [],
   "source": [
    "# All them math\n",
    "print(np_arr0 + 3)\n",
    "print(np_arr0 - 3)\n",
    "print(np_arr0 * 3)\n",
    "print(np_arr0 / 3)"
   ]
  },
  {
   "cell_type": "code",
   "execution_count": null,
   "metadata": {
    "hidden": true
   },
   "outputs": [],
   "source": [
    "# Adding arrays together\n",
    "np_arr0 = np.array([0,1,2])\n",
    "np_arr1 = np.array([3,4,5])\n",
    "print(np_arr0)\n",
    "print(np_arr1)\n",
    "print(np_arr0 + np_arr1)"
   ]
  },
  {
   "cell_type": "markdown",
   "metadata": {
    "heading_collapsed": true,
    "hidden": true
   },
   "source": [
    "## Multidimensional"
   ]
  },
  {
   "cell_type": "code",
   "execution_count": null,
   "metadata": {
    "hidden": true
   },
   "outputs": [],
   "source": [
    "arr_2d = np.array([\n",
    "    [0,1,2],\n",
    "    [3,4,5],\n",
    "    [6,7,8]\n",
    "])\n",
    "\n",
    "print(arr_2d)"
   ]
  },
  {
   "cell_type": "code",
   "execution_count": null,
   "metadata": {
    "hidden": true
   },
   "outputs": [],
   "source": [
    "arr_3d = np.array([\n",
    "    [range(0,3),range(3,6),range(6,9)],\n",
    "    [range(9,12),range(12,15),range(15,18)],\n",
    "    [range(18,21),range(21,24),range(24,27)]\n",
    "])\n",
    "\n",
    "print(arr_3d)"
   ]
  },
  {
   "cell_type": "code",
   "execution_count": null,
   "metadata": {
    "hidden": true
   },
   "outputs": [],
   "source": [
    "print(arr_2d.shape)\n",
    "print(arr_3d.shape)"
   ]
  },
  {
   "cell_type": "markdown",
   "metadata": {
    "heading_collapsed": true,
    "hidden": true
   },
   "source": [
    "## Using some built-ins"
   ]
  },
  {
   "cell_type": "code",
   "execution_count": null,
   "metadata": {
    "hidden": true
   },
   "outputs": [],
   "source": [
    "#3 dimensional; 3 4x5 matrices\n",
    "zeros_3d = np.zeros([3,4,5])\n",
    "print(zeros_3d)"
   ]
  },
  {
   "cell_type": "code",
   "execution_count": null,
   "metadata": {
    "hidden": true
   },
   "outputs": [],
   "source": [
    "#3 dimensional; 3 4x5 matrices\n",
    "ones_3d = np.ones([3,4,5])\n",
    "print(ones_3d)"
   ]
  },
  {
   "cell_type": "code",
   "execution_count": null,
   "metadata": {
    "hidden": true
   },
   "outputs": [],
   "source": [
    "#3 dimensional; 3 4x5 matrices\n",
    "full_3d = np.full([3,4,5], 27)\n",
    "print(full_3d)"
   ]
  },
  {
   "cell_type": "code",
   "execution_count": null,
   "metadata": {
    "hidden": true
   },
   "outputs": [],
   "source": [
    "# Note we can do some fun stuff with full\n",
    "np.full(5, range(5))"
   ]
  },
  {
   "cell_type": "code",
   "execution_count": null,
   "metadata": {
    "hidden": true
   },
   "outputs": [],
   "source": [
    "# But this won't work  with multi-dim :(\n",
    "np.full([5,2], range(10))"
   ]
  },
  {
   "cell_type": "markdown",
   "metadata": {
    "heading_collapsed": true,
    "hidden": true
   },
   "source": [
    "## Slicing & Dicing\n",
    "\n",
    "We can slice NumPy arrays but they differ from Python's lists"
   ]
  },
  {
   "cell_type": "code",
   "execution_count": null,
   "metadata": {
    "hidden": true
   },
   "outputs": [],
   "source": [
    "arr0 = np.random.randint(low=0, high=10, size=[5,8])\n",
    "arr0"
   ]
  },
  {
   "cell_type": "code",
   "execution_count": null,
   "metadata": {
    "hidden": true
   },
   "outputs": [],
   "source": [
    "# Getting rows\n",
    "print('first row', arr0[0])\n",
    "print('last row', arr0[-1])\n",
    "print('multiple rows\\n', arr0[1:3])"
   ]
  },
  {
   "cell_type": "code",
   "execution_count": null,
   "metadata": {
    "hidden": true
   },
   "outputs": [],
   "source": [
    "# Selecting sub-arrays\n",
    "row_start, row_end = 2, 7\n",
    "col_start, col_end = 3, 6\n",
    "\n",
    "print(\n",
    "    arr0[\n",
    "        row_start:row_end,\n",
    "        col_start:col_end\n",
    "    ]\n",
    ")"
   ]
  }
 ],
 "metadata": {
  "kernelspec": {
   "display_name": "Python 3",
   "language": "python",
   "name": "python3"
  },
  "language_info": {
   "codemirror_mode": {
    "name": "ipython",
    "version": 3
   },
   "file_extension": ".py",
   "mimetype": "text/x-python",
   "name": "python",
   "nbconvert_exporter": "python",
   "pygments_lexer": "ipython3",
   "version": "3.8.5"
  },
  "toc": {
   "base_numbering": 1,
   "nav_menu": {},
   "number_sections": true,
   "sideBar": false,
   "skip_h1_title": false,
   "title_cell": "Table of Contents",
   "title_sidebar": "Contents",
   "toc_cell": true,
   "toc_position": {},
   "toc_section_display": false,
   "toc_window_display": false
  },
  "varInspector": {
   "cols": {
    "lenName": 16,
    "lenType": 16,
    "lenVar": 40
   },
   "kernels_config": {
    "python": {
     "delete_cmd_postfix": "",
     "delete_cmd_prefix": "del ",
     "library": "var_list.py",
     "varRefreshCmd": "print(var_dic_list())"
    },
    "r": {
     "delete_cmd_postfix": ") ",
     "delete_cmd_prefix": "rm(",
     "library": "var_list.r",
     "varRefreshCmd": "cat(var_dic_list()) "
    }
   },
   "types_to_exclude": [
    "module",
    "function",
    "builtin_function_or_method",
    "instance",
    "_Feature"
   ],
   "window_display": false
  }
 },
 "nbformat": 4,
 "nbformat_minor": 2
}
