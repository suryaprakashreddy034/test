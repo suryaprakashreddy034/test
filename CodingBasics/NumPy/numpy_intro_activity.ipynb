{
 "cells": [
  {
   "cell_type": "markdown",
   "metadata": {
    "toc": true
   },
   "source": [
    "<h1>Table of Contents<span class=\"tocSkip\"></span></h1>\n",
    "<div class=\"toc\"><ul class=\"toc-item\"><li><span><a href=\"#Activity-Instructions\" data-toc-modified-id=\"Activity-Instructions-1\"><span class=\"toc-item-num\">1&nbsp;&nbsp;</span>Activity Instructions</a></span><ul class=\"toc-item\"><li><span><a href=\"#Tasks\" data-toc-modified-id=\"Tasks-1.1\"><span class=\"toc-item-num\">1.1&nbsp;&nbsp;</span>Tasks</a></span><ul class=\"toc-item\"><li><span><a href=\"#Create-an-array-of-ten-zeros-but-the-fourth-value-which-is-5\" data-toc-modified-id=\"Create-an-array-of-ten-zeros-but-the-fourth-value-which-is-5-1.1.1\"><span class=\"toc-item-num\">1.1.1&nbsp;&nbsp;</span>Create an array of ten zeros but the fourth value which is 5</a></span></li><li><span><a href=\"#Create-another-array-of-ten-random-values\" data-toc-modified-id=\"Create-another-array-of-ten-random-values-1.1.2\"><span class=\"toc-item-num\">1.1.2&nbsp;&nbsp;</span>Create another array of ten random values</a></span></li><li><span><a href=\"#Combine-the-values-mathematically-(addition,-multiplication,-etc.)-to-make-a-new-array-of-ten-values\" data-toc-modified-id=\"Combine-the-values-mathematically-(addition,-multiplication,-etc.)-to-make-a-new-array-of-ten-values-1.1.3\"><span class=\"toc-item-num\">1.1.3&nbsp;&nbsp;</span>Combine the values mathematically (addition, multiplication, etc.) to make a new array of ten values</a></span></li><li><span><a href=\"#[CHALLENGE!]-Create-a-3D-array-where-the-values-represent-the-number-of-days-in-the-month-and-each-row-represents-the-following-months\" data-toc-modified-id=\"[CHALLENGE!]-Create-a-3D-array-where-the-values-represent-the-number-of-days-in-the-month-and-each-row-represents-the-following-months-1.1.4\"><span class=\"toc-item-num\">1.1.4&nbsp;&nbsp;</span>[CHALLENGE!] Create a 3D array where the values represent the number of days in the month and each row represents the following months</a></span></li></ul></li></ul></li><li><span><a href=\"#Resources\" data-toc-modified-id=\"Resources-2\"><span class=\"toc-item-num\">2&nbsp;&nbsp;</span>Resources</a></span></li></ul></div>"
   ]
  },
  {
   "cell_type": "markdown",
   "metadata": {
    "heading_collapsed": true
   },
   "source": [
    "# Activity Instructions"
   ]
  },
  {
   "cell_type": "markdown",
   "metadata": {
    "hidden": true
   },
   "source": [
    "Take turns and help each other the different tasks! Bonus points for making a shared repo of your work!\n",
    "\n",
    "This should take you no more than **15 minutes** (likely less than that!)\n",
    "\n",
    "Remember you can ask for advice/help!"
   ]
  },
  {
   "cell_type": "markdown",
   "metadata": {
    "heading_collapsed": true,
    "hidden": true
   },
   "source": [
    "## Tasks"
   ]
  },
  {
   "cell_type": "markdown",
   "metadata": {
    "heading_collapsed": true,
    "hidden": true
   },
   "source": [
    "### Create an array of ten zeros but the fourth value which is 5"
   ]
  },
  {
   "cell_type": "code",
   "execution_count": null,
   "metadata": {
    "hidden": true
   },
   "outputs": [],
   "source": [
    "#TODO\n",
    "\n",
    "almost_all_zeros_array = "
   ]
  },
  {
   "cell_type": "markdown",
   "metadata": {
    "heading_collapsed": true,
    "hidden": true
   },
   "source": [
    "### Create another array of ten random values "
   ]
  },
  {
   "cell_type": "code",
   "execution_count": null,
   "metadata": {
    "hidden": true
   },
   "outputs": [],
   "source": [
    "#TODO\n",
    "\n",
    "random_array = "
   ]
  },
  {
   "cell_type": "markdown",
   "metadata": {
    "heading_collapsed": true,
    "hidden": true
   },
   "source": [
    "### Combine the values mathematically (addition, multiplication, etc.) to make a new array of ten values"
   ]
  },
  {
   "cell_type": "code",
   "execution_count": null,
   "metadata": {
    "hidden": true
   },
   "outputs": [],
   "source": [
    "#TODO\n",
    "\n",
    "new_array = "
   ]
  },
  {
   "cell_type": "markdown",
   "metadata": {
    "heading_collapsed": true,
    "hidden": true
   },
   "source": [
    "### [CHALLENGE!] Create a 3D array where the values represent the number of days in the month and each row represents the following months\n",
    "\n",
    "* 1st row: Jan-Apr\n",
    "* 2nd row: May-Aug\n",
    "* 3rd row: Sept-Dec"
   ]
  },
  {
   "cell_type": "code",
   "execution_count": null,
   "metadata": {
    "hidden": true
   },
   "outputs": [],
   "source": [
    "#TODO\n",
    "\n",
    "month_array = "
   ]
  },
  {
   "cell_type": "markdown",
   "metadata": {
    "heading_collapsed": true
   },
   "source": [
    "# Resources"
   ]
  },
  {
   "cell_type": "markdown",
   "metadata": {
    "hidden": true
   },
   "source": [
    "* https://jakevdp.github.io/PythonDataScienceHandbook\n",
    "    + Introduction to NumPy\n",
    "* Google 😄"
   ]
  }
 ],
 "metadata": {
  "kernelspec": {
   "display_name": "Python 3",
   "language": "python",
   "name": "python3"
  },
  "language_info": {
   "codemirror_mode": {
    "name": "ipython",
    "version": 3
   },
   "file_extension": ".py",
   "mimetype": "text/x-python",
   "name": "python",
   "nbconvert_exporter": "python",
   "pygments_lexer": "ipython3",
   "version": "3.8.5"
  },
  "toc": {
   "base_numbering": 1,
   "nav_menu": {},
   "number_sections": true,
   "sideBar": false,
   "skip_h1_title": false,
   "title_cell": "Table of Contents",
   "title_sidebar": "Contents",
   "toc_cell": true,
   "toc_position": {},
   "toc_section_display": false,
   "toc_window_display": false
  },
  "varInspector": {
   "cols": {
    "lenName": 16,
    "lenType": 16,
    "lenVar": 40
   },
   "kernels_config": {
    "python": {
     "delete_cmd_postfix": "",
     "delete_cmd_prefix": "del ",
     "library": "var_list.py",
     "varRefreshCmd": "print(var_dic_list())"
    },
    "r": {
     "delete_cmd_postfix": ") ",
     "delete_cmd_prefix": "rm(",
     "library": "var_list.r",
     "varRefreshCmd": "cat(var_dic_list()) "
    }
   },
   "types_to_exclude": [
    "module",
    "function",
    "builtin_function_or_method",
    "instance",
    "_Feature"
   ],
   "window_display": false
  }
 },
 "nbformat": 4,
 "nbformat_minor": 2
}
