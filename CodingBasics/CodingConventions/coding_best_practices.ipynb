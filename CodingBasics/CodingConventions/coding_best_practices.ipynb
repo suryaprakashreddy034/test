{
 "cells": [
  {
   "cell_type": "markdown",
   "metadata": {
    "toc": true
   },
   "source": [
    "<h1>Table of Contents<span class=\"tocSkip\"></span></h1>\n",
    "<div class=\"toc\"><ul class=\"toc-item\"><li><span><a href=\"#What's-the-Goal-of-Code?\" data-toc-modified-id=\"What's-the-Goal-of-Code?-1\"><span class=\"toc-item-num\">1&nbsp;&nbsp;</span>What's the Goal of Code?</a></span></li><li><span><a href=\"#PEP8-(Python-Enhancement-Proposals)\" data-toc-modified-id=\"PEP8-(Python-Enhancement-Proposals)-2\"><span class=\"toc-item-num\">2&nbsp;&nbsp;</span>PEP8 (Python Enhancement Proposals)</a></span><ul class=\"toc-item\"><li><span><a href=\"#Other-Standards\" data-toc-modified-id=\"Other-Standards-2.1\"><span class=\"toc-item-num\">2.1&nbsp;&nbsp;</span>Other Standards</a></span></li></ul></li><li><span><a href=\"#Good-Practices\" data-toc-modified-id=\"Good-Practices-3\"><span class=\"toc-item-num\">3&nbsp;&nbsp;</span>Good Practices</a></span><ul class=\"toc-item\"><li><span><a href=\"#Readability\" data-toc-modified-id=\"Readability-3.1\"><span class=\"toc-item-num\">3.1&nbsp;&nbsp;</span>Readability</a></span><ul class=\"toc-item\"><li><span><a href=\"#Variables\" data-toc-modified-id=\"Variables-3.1.1\"><span class=\"toc-item-num\">3.1.1&nbsp;&nbsp;</span>Variables</a></span></li></ul></li><li><span><a href=\"#Functions\" data-toc-modified-id=\"Functions-3.2\"><span class=\"toc-item-num\">3.2&nbsp;&nbsp;</span>Functions</a></span></li><li><span><a href=\"#Security\" data-toc-modified-id=\"Security-3.3\"><span class=\"toc-item-num\">3.3&nbsp;&nbsp;</span>Security</a></span></li></ul></li></ul></div>"
   ]
  },
  {
   "cell_type": "markdown",
   "metadata": {
    "heading_collapsed": true
   },
   "source": [
    "# What's the Goal of Code?"
   ]
  },
  {
   "cell_type": "markdown",
   "metadata": {
    "hidden": true
   },
   "source": [
    "You'll read it more than you'll write it!"
   ]
  },
  {
   "cell_type": "markdown",
   "metadata": {
    "heading_collapsed": true
   },
   "source": [
    "# PEP8 (Python Enhancement Proposals) "
   ]
  },
  {
   "cell_type": "markdown",
   "metadata": {
    "hidden": true
   },
   "source": [
    "https://www.python.org/dev/peps/pep-0008/"
   ]
  },
  {
   "cell_type": "markdown",
   "metadata": {
    "heading_collapsed": true,
    "hidden": true
   },
   "source": [
    "## Other Standards"
   ]
  },
  {
   "cell_type": "markdown",
   "metadata": {
    "hidden": true
   },
   "source": [
    "http://google.github.io/styleguide/pyguide.html"
   ]
  },
  {
   "cell_type": "markdown",
   "metadata": {
    "heading_collapsed": true
   },
   "source": [
    "# Good Practices"
   ]
  },
  {
   "cell_type": "markdown",
   "metadata": {
    "heading_collapsed": true,
    "hidden": true
   },
   "source": [
    "## Readability"
   ]
  },
  {
   "cell_type": "markdown",
   "metadata": {
    "hidden": true
   },
   "source": [
    "* no \"magic numbers\""
   ]
  },
  {
   "cell_type": "code",
   "execution_count": null,
   "metadata": {
    "hidden": true
   },
   "outputs": [],
   "source": [
    "#  \n",
    "n_visitors = 5\n",
    "n_avg_children = 3\n",
    "\n",
    "a = 3 \n",
    "b = 2\n",
    "\n",
    "\n",
    "x = 3*n_visitors"
   ]
  },
  {
   "cell_type": "markdown",
   "metadata": {
    "heading_collapsed": true,
    "hidden": true
   },
   "source": [
    "### Variables"
   ]
  },
  {
   "cell_type": "markdown",
   "metadata": {
    "hidden": true
   },
   "source": [
    "- variables: lowercase and snakecase\n",
    "- classes: capitals\n",
    "- constants: all caps\n",
    "- \"internal use\": start with underscore"
   ]
  },
  {
   "cell_type": "markdown",
   "metadata": {
    "hidden": true
   },
   "source": [
    "* use meaningful variables\n",
    "* end with `avg`, `mean`, etc."
   ]
  },
  {
   "cell_type": "markdown",
   "metadata": {
    "heading_collapsed": true,
    "hidden": true
   },
   "source": [
    "## Functions"
   ]
  },
  {
   "cell_type": "markdown",
   "metadata": {
    "hidden": true
   },
   "source": [
    "* don't repeat yourself\n",
    "* say what it will do\n",
    "* use instead of hard coding relationships"
   ]
  },
  {
   "cell_type": "markdown",
   "metadata": {
    "heading_collapsed": true,
    "hidden": true
   },
   "source": [
    "## Security"
   ]
  },
  {
   "cell_type": "markdown",
   "metadata": {
    "hidden": true
   },
   "source": [
    "Don't hard code passwords and/or API keys! Import them!"
   ]
  }
 ],
 "metadata": {
  "kernelspec": {
   "display_name": "Python 3",
   "language": "python",
   "name": "python3"
  },
  "language_info": {
   "codemirror_mode": {
    "name": "ipython",
    "version": 3
   },
   "file_extension": ".py",
   "mimetype": "text/x-python",
   "name": "python",
   "nbconvert_exporter": "python",
   "pygments_lexer": "ipython3",
   "version": "3.8.5"
  },
  "toc": {
   "base_numbering": 1,
   "nav_menu": {},
   "number_sections": true,
   "sideBar": false,
   "skip_h1_title": false,
   "title_cell": "Table of Contents",
   "title_sidebar": "Contents",
   "toc_cell": true,
   "toc_position": {
    "height": "calc(100% - 180px)",
    "left": "10px",
    "top": "150px",
    "width": "288px"
   },
   "toc_section_display": false,
   "toc_window_display": false
  },
  "varInspector": {
   "cols": {
    "lenName": 16,
    "lenType": 16,
    "lenVar": 40
   },
   "kernels_config": {
    "python": {
     "delete_cmd_postfix": "",
     "delete_cmd_prefix": "del ",
     "library": "var_list.py",
     "varRefreshCmd": "print(var_dic_list())"
    },
    "r": {
     "delete_cmd_postfix": ") ",
     "delete_cmd_prefix": "rm(",
     "library": "var_list.r",
     "varRefreshCmd": "cat(var_dic_list()) "
    }
   },
   "types_to_exclude": [
    "module",
    "function",
    "builtin_function_or_method",
    "instance",
    "_Feature"
   ],
   "window_display": false
  }
 },
 "nbformat": 4,
 "nbformat_minor": 2
}
