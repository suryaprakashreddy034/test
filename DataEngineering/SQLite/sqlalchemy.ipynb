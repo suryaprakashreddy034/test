{
 "cells": [
  {
   "cell_type": "markdown",
   "metadata": {
    "toc": true
   },
   "source": [
    "<h1>Table of Contents<span class=\"tocSkip\"></span></h1>\n",
    "<div class=\"toc\"><ul class=\"toc-item\"><li><span><a href=\"#Object-Relational-Mappers-(ORMs)\" data-toc-modified-id=\"Object-Relational-Mappers-(ORMs)-1\"><span class=\"toc-item-num\">1&nbsp;&nbsp;</span>Object Relational Mappers (ORMs)</a></span><ul class=\"toc-item\"><li><span><a href=\"#Creating-parts-of-the-DB-(our-table)\" data-toc-modified-id=\"Creating-parts-of-the-DB-(our-table)-1.1\"><span class=\"toc-item-num\">1.1&nbsp;&nbsp;</span>Creating parts of the DB (our table)</a></span></li><li><span><a href=\"#Start-your-engine!\" data-toc-modified-id=\"Start-your-engine!-1.2\"><span class=\"toc-item-num\">1.2&nbsp;&nbsp;</span>Start your engine!</a></span></li><li><span><a href=\"#CRUD\" data-toc-modified-id=\"CRUD-1.3\"><span class=\"toc-item-num\">1.3&nbsp;&nbsp;</span>CRUD</a></span><ul class=\"toc-item\"><li><span><a href=\"#Updating-DB\" data-toc-modified-id=\"Updating-DB-1.3.1\"><span class=\"toc-item-num\">1.3.1&nbsp;&nbsp;</span>Updating DB</a></span></li></ul></li></ul></li><li><span><a href=\"#After-DB-Exists\" data-toc-modified-id=\"After-DB-Exists-2\"><span class=\"toc-item-num\">2&nbsp;&nbsp;</span>After DB Exists</a></span><ul class=\"toc-item\"><li><span><a href=\"#Access-DB\" data-toc-modified-id=\"Access-DB-2.1\"><span class=\"toc-item-num\">2.1&nbsp;&nbsp;</span>Access DB</a></span></li><li><span><a href=\"#Get-info-about-DB\" data-toc-modified-id=\"Get-info-about-DB-2.2\"><span class=\"toc-item-num\">2.2&nbsp;&nbsp;</span>Get info about DB</a></span><ul class=\"toc-item\"><li><span><a href=\"#Using-a-query\" data-toc-modified-id=\"Using-a-query-2.2.1\"><span class=\"toc-item-num\">2.2.1&nbsp;&nbsp;</span>Using a query</a></span></li></ul></li><li><span><a href=\"#Combining-it-with-Pandas\" data-toc-modified-id=\"Combining-it-with-Pandas-2.3\"><span class=\"toc-item-num\">2.3&nbsp;&nbsp;</span>Combining it with Pandas</a></span></li></ul></li></ul></div>"
   ]
  },
  {
   "cell_type": "markdown",
   "metadata": {
    "heading_collapsed": true
   },
   "source": [
    "# Object Relational Mappers (ORMs)"
   ]
  },
  {
   "cell_type": "markdown",
   "metadata": {
    "hidden": true
   },
   "source": [
    "https://learn.co/tracks/data-science-career-v1-1/module-2-advanced-data-retrieval-and-analysis/section-15-an-introduction-to-orms/querying-with-sqlalchemy"
   ]
  },
  {
   "cell_type": "markdown",
   "metadata": {
    "hidden": true
   },
   "source": [
    "Cheatsheet Ref:\n",
    "\n",
    "- https://github.com/crazyguitar/pysheeet/blob/master/docs/notes/python-sqlalchemy.rst\n",
    "- https://www.pythonsheets.com/notes/python-sqlalchemy.html"
   ]
  },
  {
   "cell_type": "markdown",
   "metadata": {
    "hidden": true
   },
   "source": [
    "https://learn.co/tracks/data-science-career-v1-1/module-2-advanced-data-retrieval-and-analysis/section-15-an-introduction-to-orms/using-an-orm"
   ]
  },
  {
   "cell_type": "code",
   "execution_count": null,
   "metadata": {
    "ExecuteTime": {
     "end_time": "2019-05-22T23:31:55.838216Z",
     "start_time": "2019-05-22T23:31:55.754846Z"
    },
    "hidden": true
   },
   "outputs": [],
   "source": [
    "import sqlalchemy\n",
    "\n",
    "# Create an engine object, and bind it to our database. \n",
    "engine = sqlalchemy.create_engine('sqlite:///musicians.db', echo=True)"
   ]
  },
  {
   "cell_type": "code",
   "execution_count": null,
   "metadata": {
    "ExecuteTime": {
     "end_time": "2019-05-22T23:31:57.065546Z",
     "start_time": "2019-05-22T23:31:57.017207Z"
    },
    "hidden": true
   },
   "outputs": [],
   "source": [
    "from sqlalchemy.ext.declarative import declarative_base\n",
    "\n",
    "Base = declarative_base()"
   ]
  },
  {
   "cell_type": "code",
   "execution_count": null,
   "metadata": {
    "ExecuteTime": {
     "end_time": "2019-05-22T23:26:18.975030Z",
     "start_time": "2019-05-22T23:26:18.968169Z"
    },
    "hidden": true
   },
   "outputs": [],
   "source": [
    "Base"
   ]
  },
  {
   "cell_type": "code",
   "execution_count": null,
   "metadata": {
    "ExecuteTime": {
     "end_time": "2019-05-22T23:31:59.330396Z",
     "start_time": "2019-05-22T23:31:59.328446Z"
    },
    "hidden": true
   },
   "outputs": [],
   "source": [
    "from sqlalchemy import *\n",
    "\n",
    "# # get a declarative base object\n",
    "# Base = declarative_base()"
   ]
  },
  {
   "cell_type": "markdown",
   "metadata": {
    "heading_collapsed": true,
    "hidden": true
   },
   "source": [
    "## Creating parts of the DB (our table)"
   ]
  },
  {
   "cell_type": "markdown",
   "metadata": {
    "hidden": true
   },
   "source": [
    "Pythonic convention is that classes are capitalized"
   ]
  },
  {
   "cell_type": "code",
   "execution_count": null,
   "metadata": {
    "ExecuteTime": {
     "end_time": "2019-05-22T23:32:03.626755Z",
     "start_time": "2019-05-22T23:32:03.620641Z"
    },
    "hidden": true
   },
   "outputs": [],
   "source": [
    "# The code to create the 'Musicians' table will go here. \n",
    "class Musician(Base):\n",
    "   # Set the name of the table\n",
    "    __tablename__ = 'musicians'\n",
    "\n",
    "    # declare the columns and set their data types\n",
    "    id = Column(Integer, primary_key=True) # Don't forget to set your id as primary key!\n",
    "    fullname = Column(String)\n",
    "    # Create a foreign key to the instruments table. \n",
    "    instrument = Column(Integer, ForeignKey('instruments.id')) # note that foreign key takes the name of the `instruments` table, not the `Instrument` class\n",
    "    dob = Column(DateTime)\n",
    "    alive = Column(Boolean)"
   ]
  },
  {
   "cell_type": "code",
   "execution_count": null,
   "metadata": {
    "ExecuteTime": {
     "end_time": "2019-05-22T23:32:17.837241Z",
     "start_time": "2019-05-22T23:32:17.834150Z"
    },
    "hidden": true
   },
   "outputs": [],
   "source": [
    "class Instrument(Base):\n",
    "    # set table name\n",
    "    __tablename__ = 'instruments'\n",
    "\n",
    "    # create columns\n",
    "    id = Column(Integer, primary_key=True)\n",
    "    name = Column(String)\n",
    "    instrument_type = Column(String)"
   ]
  },
  {
   "cell_type": "markdown",
   "metadata": {
    "heading_collapsed": true,
    "hidden": true
   },
   "source": [
    "## Start your engine!"
   ]
  },
  {
   "cell_type": "code",
   "execution_count": null,
   "metadata": {
    "ExecuteTime": {
     "end_time": "2019-05-22T23:32:33.173254Z",
     "start_time": "2019-05-22T23:32:33.154486Z"
    },
    "hidden": true,
    "scrolled": true
   },
   "outputs": [],
   "source": [
    "# The code to create and use the engine goes at the end\n",
    "engine = create_engine('sqlite:///musicians.db', echo=True)\n",
    "# \"Starts up\" our engine; DB & tables running\n",
    "Base.metadata.create_all(engine)"
   ]
  },
  {
   "cell_type": "markdown",
   "metadata": {
    "heading_collapsed": true,
    "hidden": true
   },
   "source": [
    "## CRUD"
   ]
  },
  {
   "cell_type": "code",
   "execution_count": null,
   "metadata": {
    "ExecuteTime": {
     "end_time": "2019-05-22T23:35:23.978280Z",
     "start_time": "2019-05-22T23:35:23.975273Z"
    },
    "hidden": true
   },
   "outputs": [],
   "source": [
    "#\n",
    "my_neighbor = Musician()\n",
    "my_neighbor.fullname = \"Bob Rose\"\n",
    "my_neighbor.alive = True\n",
    "\n",
    "#\n",
    "drums = Instrument()\n",
    "drums.name = 'Drums'\n",
    "drums.instument_type = 'loud'\n",
    "\n",
    "# Note we use the id for drums\n",
    "my_neighbor.instrument = drums.id\n"
   ]
  },
  {
   "cell_type": "markdown",
   "metadata": {
    "heading_collapsed": true,
    "hidden": true
   },
   "source": [
    "### Updating DB"
   ]
  },
  {
   "cell_type": "code",
   "execution_count": null,
   "metadata": {
    "ExecuteTime": {
     "end_time": "2019-05-22T23:35:53.906227Z",
     "start_time": "2019-05-22T23:35:53.903687Z"
    },
    "hidden": true
   },
   "outputs": [],
   "source": [
    "# Create a session\n",
    "from sqlalchemy.orm import sessionmaker, Session\n",
    "Session = sessionmaker(bind=engine)\n",
    "\n",
    "session = Session()"
   ]
  },
  {
   "cell_type": "code",
   "execution_count": null,
   "metadata": {
    "ExecuteTime": {
     "end_time": "2019-05-22T23:36:09.875685Z",
     "start_time": "2019-05-22T23:36:09.863707Z"
    },
    "hidden": true
   },
   "outputs": [],
   "source": [
    "# Adding to the session\n",
    "session.add_all([my_neighbor,drums])\n",
    "session.commit()"
   ]
  },
  {
   "cell_type": "code",
   "execution_count": null,
   "metadata": {
    "ExecuteTime": {
     "end_time": "2019-05-22T23:36:59.019527Z",
     "start_time": "2019-05-22T23:36:59.016924Z"
    },
    "hidden": true
   },
   "outputs": [],
   "source": [
    "drums.name"
   ]
  },
  {
   "cell_type": "code",
   "execution_count": null,
   "metadata": {
    "ExecuteTime": {
     "end_time": "2019-05-22T23:37:25.878247Z",
     "start_time": "2019-05-22T23:37:25.874158Z"
    },
    "hidden": true
   },
   "outputs": [],
   "source": [
    "my_neighbor.alive"
   ]
  },
  {
   "cell_type": "markdown",
   "metadata": {
    "heading_collapsed": true
   },
   "source": [
    "# After DB Exists"
   ]
  },
  {
   "cell_type": "markdown",
   "metadata": {
    "hidden": true
   },
   "source": [
    "https://learn.co/tracks/data-science-career-v1-1/module-2-advanced-data-retrieval-and-analysis/section-15-an-introduction-to-orms/querying-with-sqlalchemy"
   ]
  },
  {
   "cell_type": "markdown",
   "metadata": {
    "heading_collapsed": true,
    "hidden": true
   },
   "source": [
    "## Access DB"
   ]
  },
  {
   "cell_type": "code",
   "execution_count": null,
   "metadata": {
    "ExecuteTime": {
     "end_time": "2019-05-22T23:38:36.680146Z",
     "start_time": "2019-05-22T23:38:36.676428Z"
    },
    "hidden": true
   },
   "outputs": [],
   "source": [
    "import sqlalchemy\n",
    "from sqlalchemy import create_engine\n",
    "from sqlalchemy.orm import Session, sessionmaker\n",
    "\n",
    "db_name = 'musicians.db'\n",
    "engine = create_engine(f\"sqlite:///{db_name}\")#, echo=True)\n",
    "Session = sessionmaker(bind=engine)\n",
    "session = Session()"
   ]
  },
  {
   "cell_type": "markdown",
   "metadata": {
    "heading_collapsed": true,
    "hidden": true
   },
   "source": [
    "## Get info about DB"
   ]
  },
  {
   "cell_type": "code",
   "execution_count": null,
   "metadata": {
    "ExecuteTime": {
     "end_time": "2019-05-22T23:38:59.457196Z",
     "start_time": "2019-05-22T23:38:59.452195Z"
    },
    "hidden": true
   },
   "outputs": [],
   "source": [
    "from sqlalchemy import inspect\n",
    "\n",
    "inspector = inspect(engine)\n",
    "\n",
    "print(inspector.get_table_names())"
   ]
  },
  {
   "cell_type": "code",
   "execution_count": null,
   "metadata": {
    "ExecuteTime": {
     "end_time": "2019-05-22T23:42:57.886731Z",
     "start_time": "2019-05-22T23:42:57.884136Z"
    },
    "hidden": true
   },
   "outputs": [],
   "source": [
    "# Use inspector to get a column name\n",
    "table_name = 'Musicians'\n",
    "cols = inspector.get_columns(table_name)"
   ]
  },
  {
   "cell_type": "code",
   "execution_count": null,
   "metadata": {
    "ExecuteTime": {
     "end_time": "2019-05-22T23:42:58.956924Z",
     "start_time": "2019-05-22T23:42:58.953882Z"
    },
    "hidden": true
   },
   "outputs": [],
   "source": [
    "# Show info\n",
    "type(cols[0])\n",
    "a = [col['name'] for col in cols] \n",
    "a"
   ]
  },
  {
   "cell_type": "markdown",
   "metadata": {
    "heading_collapsed": true,
    "hidden": true
   },
   "source": [
    "### Using a query"
   ]
  },
  {
   "cell_type": "code",
   "execution_count": null,
   "metadata": {
    "ExecuteTime": {
     "end_time": "2019-05-22T23:41:02.972909Z",
     "start_time": "2019-05-22T23:41:02.968553Z"
    },
    "hidden": true
   },
   "outputs": [],
   "source": [
    "con = engine.connect()\n",
    "q = con.execute(\"SELECT * FROM Instruments\")\n",
    "\n",
    "print(q.fetchall())"
   ]
  },
  {
   "cell_type": "markdown",
   "metadata": {
    "heading_collapsed": true,
    "hidden": true
   },
   "source": [
    "## Combining it with Pandas"
   ]
  },
  {
   "cell_type": "code",
   "execution_count": null,
   "metadata": {
    "ExecuteTime": {
     "end_time": "2019-05-22T23:43:02.649549Z",
     "start_time": "2019-05-22T23:43:02.635710Z"
    },
    "hidden": true
   },
   "outputs": [],
   "source": [
    "import pandas as pd\n",
    "\n",
    "q = con.execute(\"SELECT * from Musicians\")\n",
    "df = pd.DataFrame(data=q.fetchall(), columns=a)\n",
    "df.head()"
   ]
  }
 ],
 "metadata": {
  "kernelspec": {
   "display_name": "Python 3",
   "language": "python",
   "name": "python3"
  },
  "language_info": {
   "codemirror_mode": {
    "name": "ipython",
    "version": 3
   },
   "file_extension": ".py",
   "mimetype": "text/x-python",
   "name": "python",
   "nbconvert_exporter": "python",
   "pygments_lexer": "ipython3",
   "version": "3.8.5"
  },
  "toc": {
   "base_numbering": 1,
   "nav_menu": {},
   "number_sections": true,
   "sideBar": false,
   "skip_h1_title": false,
   "title_cell": "Table of Contents",
   "title_sidebar": "Contents",
   "toc_cell": true,
   "toc_position": {},
   "toc_section_display": false,
   "toc_window_display": false
  },
  "varInspector": {
   "cols": {
    "lenName": 16,
    "lenType": 16,
    "lenVar": 40
   },
   "kernels_config": {
    "python": {
     "delete_cmd_postfix": "",
     "delete_cmd_prefix": "del ",
     "library": "var_list.py",
     "varRefreshCmd": "print(var_dic_list())"
    },
    "r": {
     "delete_cmd_postfix": ") ",
     "delete_cmd_prefix": "rm(",
     "library": "var_list.r",
     "varRefreshCmd": "cat(var_dic_list()) "
    }
   },
   "types_to_exclude": [
    "module",
    "function",
    "builtin_function_or_method",
    "instance",
    "_Feature"
   ],
   "window_display": false
  }
 },
 "nbformat": 4,
 "nbformat_minor": 2
}
