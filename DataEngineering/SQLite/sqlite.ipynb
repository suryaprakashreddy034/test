{
 "cells": [
  {
   "cell_type": "code",
   "execution_count": null,
   "metadata": {},
   "outputs": [],
   "source": [
    "# Step 1: Import library\n",
    "import sqlite3\n",
    "\n",
    "# Step 2: Create a connection object that connects to the database in question\n",
    "conn = sqlite3.connect('example.db')\n",
    "\n",
    "# Step 3: Create a cursor object and use it to execute sql commands\n",
    "c = conn.cursor()"
   ]
  },
  {
   "cell_type": "code",
   "execution_count": null,
   "metadata": {},
   "outputs": [],
   "source": [
    "# Example of using cursor to execute sql command to create a table\n",
    "c.execute('''\n",
    "    CREATE TABLE stocks (\n",
    "        date text, \n",
    "        trans text, \n",
    "        symbol text, \n",
    "        qty real, \n",
    "        price real\n",
    "    )\n",
    "''')"
   ]
  },
  {
   "cell_type": "code",
   "execution_count": null,
   "metadata": {},
   "outputs": [],
   "source": [
    "# Example of using cursor to execute sql command to insert into a table\n",
    "c.execute('''\n",
    "    INSERT INTO stocks (\n",
    "        date, \n",
    "        trans, \n",
    "        symbol, \n",
    "        qty, \n",
    "        price\n",
    "    )\n",
    "    VALUES (\n",
    "        \"2019 April 04\", \n",
    "        \"BUY\" , \n",
    "        \"GOOGL\", \n",
    "        1,\n",
    "        723.12\n",
    "    );\n",
    "''')"
   ]
  },
  {
   "cell_type": "code",
   "execution_count": 1,
   "metadata": {},
   "outputs": [],
   "source": [
    "# Save the changes\n",
    "conn.commit()\n",
    "\n",
    "\n",
    "# Disconnect from database.  Any uncommited changes will be lost. \n",
    "conn.close()"
   ]
  }
 ],
 "metadata": {
  "kernelspec": {
   "display_name": "Python 3",
   "language": "python",
   "name": "python3"
  },
  "language_info": {
   "codemirror_mode": {
    "name": "ipython",
    "version": 3
   },
   "file_extension": ".py",
   "mimetype": "text/x-python",
   "name": "python",
   "nbconvert_exporter": "python",
   "pygments_lexer": "ipython3",
   "version": "3.8.5"
  },
  "toc": {
   "base_numbering": 1,
   "nav_menu": {},
   "number_sections": true,
   "sideBar": false,
   "skip_h1_title": false,
   "title_cell": "Table of Contents",
   "title_sidebar": "Contents",
   "toc_cell": false,
   "toc_position": {},
   "toc_section_display": false,
   "toc_window_display": false
  }
 },
 "nbformat": 4,
 "nbformat_minor": 2
}
