{
 "cells": [
  {
   "cell_type": "markdown",
   "metadata": {
    "toc": true
   },
   "source": [
    "<h1>Table of Contents<span class=\"tocSkip\"></span></h1>\n",
    "<div class=\"toc\"><ul class=\"toc-item\"><li><span><a href=\"#Is-SQL-Not-Good-Enough-Anymore?\" data-toc-modified-id=\"Is-SQL-Not-Good-Enough-Anymore?-1\"><span class=\"toc-item-num\">1&nbsp;&nbsp;</span>Is SQL Not Good Enough Anymore?</a></span></li><li><span><a href=\"#Introducing-&quot;Not-Only-SQL&quot;\" data-toc-modified-id=\"Introducing-&quot;Not-Only-SQL&quot;-2\"><span class=\"toc-item-num\">2&nbsp;&nbsp;</span>Introducing \"Not Only SQL\"</a></span><ul class=\"toc-item\"><li><span><a href=\"#Advantages\" data-toc-modified-id=\"Advantages-2.1\"><span class=\"toc-item-num\">2.1&nbsp;&nbsp;</span>Advantages</a></span></li><li><span><a href=\"#Example-Systems\" data-toc-modified-id=\"Example-Systems-2.2\"><span class=\"toc-item-num\">2.2&nbsp;&nbsp;</span>Example Systems</a></span></li></ul></li><li><span><a href=\"#Sign-Me-Up!-How-Does-It-Work?\" data-toc-modified-id=\"Sign-Me-Up!-How-Does-It-Work?-3\"><span class=\"toc-item-num\">3&nbsp;&nbsp;</span>Sign Me Up! How Does It Work?</a></span><ul class=\"toc-item\"><li><span><a href=\"#Data-Model-Types\" data-toc-modified-id=\"Data-Model-Types-3.1\"><span class=\"toc-item-num\">3.1&nbsp;&nbsp;</span>Data Model Types</a></span><ul class=\"toc-item\"><li><span><a href=\"#Document-Stores\" data-toc-modified-id=\"Document-Stores-3.1.1\"><span class=\"toc-item-num\">3.1.1&nbsp;&nbsp;</span>Document Stores</a></span></li><li><span><a href=\"#Key-Value-Stores\" data-toc-modified-id=\"Key-Value-Stores-3.1.2\"><span class=\"toc-item-num\">3.1.2&nbsp;&nbsp;</span>Key-Value Stores</a></span></li><li><span><a href=\"#Graph-Databases\" data-toc-modified-id=\"Graph-Databases-3.1.3\"><span class=\"toc-item-num\">3.1.3&nbsp;&nbsp;</span>Graph Databases</a></span></li></ul></li><li><span><a href=\"#Fault-Tolerance-&amp;-Resilient-Distributed-Datasets-(RDDs)\" data-toc-modified-id=\"Fault-Tolerance-&amp;-Resilient-Distributed-Datasets-(RDDs)-3.2\"><span class=\"toc-item-num\">3.2&nbsp;&nbsp;</span>Fault Tolerance &amp; Resilient Distributed Datasets (RDDs)</a></span></li></ul></li></ul></div>"
   ]
  },
  {
   "cell_type": "markdown",
   "metadata": {
    "heading_collapsed": true
   },
   "source": [
    "# Is SQL Not Good Enough Anymore?"
   ]
  },
  {
   "cell_type": "markdown",
   "metadata": {
    "hidden": true
   },
   "source": [
    "SQL databases are **Relational Databases** built really for _tabular data_"
   ]
  },
  {
   "cell_type": "markdown",
   "metadata": {
    "hidden": true
   },
   "source": [
    "Focus on being structured which can be useful/safe but also restrictive"
   ]
  },
  {
   "cell_type": "markdown",
   "metadata": {
    "heading_collapsed": true
   },
   "source": [
    "# Introducing \"Not Only SQL\""
   ]
  },
  {
   "cell_type": "markdown",
   "metadata": {
    "hidden": true
   },
   "source": [
    "These are **non-relational databases** (sometimes called **distributed databases**)"
   ]
  },
  {
   "cell_type": "markdown",
   "metadata": {
    "hidden": true
   },
   "source": [
    "AWS has a great resource describing NoSQL and how its different from SQL: https://aws.amazon.com/nosql/#SQL_vs._NoSQL_Terminology"
   ]
  },
  {
   "cell_type": "markdown",
   "metadata": {
    "heading_collapsed": true,
    "hidden": true
   },
   "source": [
    "## Advantages"
   ]
  },
  {
   "cell_type": "markdown",
   "metadata": {
    "hidden": true
   },
   "source": [
    "- Don't need to know structure when you start\n",
    "- Flexible (specific to database)\n",
    "- **Horizontally scalable**: \"Just spin-up a new server!\""
   ]
  },
  {
   "cell_type": "markdown",
   "metadata": {
    "heading_collapsed": true,
    "hidden": true
   },
   "source": [
    "## Example Systems\n",
    "\n",
    "- [MongoDB](https://www.mongodb.com/) \n",
    "- [Google's BigTable](https://cloud.google.com/bigtable/)\n",
    "- [AWS' DynamoDB](https://aws.amazon.com/dynamodb/)\n",
    "- [Appache Cassandra](http://cassandra.apache.org/)"
   ]
  },
  {
   "cell_type": "markdown",
   "metadata": {
    "heading_collapsed": true
   },
   "source": [
    "# Sign Me Up! How Does It Work?"
   ]
  },
  {
   "cell_type": "markdown",
   "metadata": {
    "heading_collapsed": true,
    "hidden": true
   },
   "source": [
    "## Data Model Types"
   ]
  },
  {
   "cell_type": "markdown",
   "metadata": {
    "heading_collapsed": true,
    "hidden": true
   },
   "source": [
    "### Document Stores"
   ]
  },
  {
   "cell_type": "markdown",
   "metadata": {
    "hidden": true
   },
   "source": [
    "Data stored as documents\n",
    "\n",
    "- Semistructured\n",
    "- Hierarchical"
   ]
  },
  {
   "cell_type": "markdown",
   "metadata": {
    "heading_collapsed": true,
    "hidden": true
   },
   "source": [
    "### Key-Value Stores"
   ]
  },
  {
   "cell_type": "markdown",
   "metadata": {
    "hidden": true
   },
   "source": [
    "Data is partitioned; will use a **hash table** to reference "
   ]
  },
  {
   "cell_type": "markdown",
   "metadata": {
    "heading_collapsed": true,
    "hidden": true
   },
   "source": [
    "### Graph Databases"
   ]
  },
  {
   "cell_type": "markdown",
   "metadata": {
    "hidden": true
   },
   "source": [
    "For highly connected datasets; relationships first"
   ]
  },
  {
   "cell_type": "markdown",
   "metadata": {
    "hidden": true
   },
   "source": [
    "Useful for:\n",
    "- social networking\n",
    "- fraud detection\n",
    "- recommendation engines\n",
    "- knowledge graph"
   ]
  },
  {
   "cell_type": "markdown",
   "metadata": {
    "heading_collapsed": true,
    "hidden": true
   },
   "source": [
    "## Fault Tolerance & Resilient Distributed Datasets (RDDs)"
   ]
  },
  {
   "cell_type": "markdown",
   "metadata": {
    "hidden": true
   },
   "source": [
    "RDDs have multiple serves\n",
    "\n",
    "> <img width=50% src='images/copy_paste_twins.jpg' />\n",
    ">\n",
    "> _Two is one and one is none_"
   ]
  },
  {
   "cell_type": "markdown",
   "metadata": {
    "hidden": true
   },
   "source": [
    "Essentially keep redundant copies on multiple servers:\n",
    "\n",
    "<img src='images/udacity_data_redundancy.jpg' width=50%/>\n",
    "\n",
    "> Udacity intro course to Hadoop: https://www.udacity.com/course/intro-to-hadoop-and-mapreduce--ud617"
   ]
  },
  {
   "cell_type": "markdown",
   "metadata": {
    "hidden": true
   },
   "source": [
    "[Hadoop](https://hadoop.apache.org/) & [Spark](https://spark.apache.org/documentation.html) use this concept and use the model of **MapReduce** to use distributed systems. Will talk about this in the future."
   ]
  }
 ],
 "metadata": {
  "kernelspec": {
   "display_name": "Python 3",
   "language": "python",
   "name": "python3"
  },
  "language_info": {
   "codemirror_mode": {
    "name": "ipython",
    "version": 3
   },
   "file_extension": ".py",
   "mimetype": "text/x-python",
   "name": "python",
   "nbconvert_exporter": "python",
   "pygments_lexer": "ipython3",
   "version": "3.8.5"
  },
  "toc": {
   "base_numbering": 1,
   "nav_menu": {},
   "number_sections": true,
   "sideBar": false,
   "skip_h1_title": false,
   "title_cell": "Table of Contents",
   "title_sidebar": "Contents",
   "toc_cell": true,
   "toc_position": {},
   "toc_section_display": false,
   "toc_window_display": false
  },
  "varInspector": {
   "cols": {
    "lenName": 16,
    "lenType": 16,
    "lenVar": 40
   },
   "kernels_config": {
    "python": {
     "delete_cmd_postfix": "",
     "delete_cmd_prefix": "del ",
     "library": "var_list.py",
     "varRefreshCmd": "print(var_dic_list())"
    },
    "r": {
     "delete_cmd_postfix": ") ",
     "delete_cmd_prefix": "rm(",
     "library": "var_list.r",
     "varRefreshCmd": "cat(var_dic_list()) "
    }
   },
   "types_to_exclude": [
    "module",
    "function",
    "builtin_function_or_method",
    "instance",
    "_Feature"
   ],
   "window_display": false
  }
 },
 "nbformat": 4,
 "nbformat_minor": 2
}
