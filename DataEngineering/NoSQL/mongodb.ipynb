{
 "cells": [
  {
   "cell_type": "markdown",
   "metadata": {
    "toc": true
   },
   "source": [
    "<h1>Table of Contents<span class=\"tocSkip\"></span></h1>\n",
    "<div class=\"toc\"><ul class=\"toc-item\"><li><span><a href=\"#Intro-to-Using-MongoDB\" data-toc-modified-id=\"Intro-to-Using-MongoDB-1\"><span class=\"toc-item-num\">1&nbsp;&nbsp;</span>Intro to Using MongoDB</a></span><ul class=\"toc-item\"><li><span><a href=\"#Create-DB\" data-toc-modified-id=\"Create-DB-1.1\"><span class=\"toc-item-num\">1.1&nbsp;&nbsp;</span>Create DB</a></span></li></ul></li><li><span><a href=\"#Create-Records\" data-toc-modified-id=\"Create-Records-2\"><span class=\"toc-item-num\">2&nbsp;&nbsp;</span>Create Records</a></span><ul class=\"toc-item\"><li><span><a href=\"#Insert-Many\" data-toc-modified-id=\"Insert-Many-2.1\"><span class=\"toc-item-num\">2.1&nbsp;&nbsp;</span>Insert Many</a></span></li><li><span><a href=\"#TEST\" data-toc-modified-id=\"TEST-2.2\"><span class=\"toc-item-num\">2.2&nbsp;&nbsp;</span>TEST</a></span></li></ul></li><li><span><a href=\"#Read-Records\" data-toc-modified-id=\"Read-Records-3\"><span class=\"toc-item-num\">3&nbsp;&nbsp;</span>Read Records</a></span><ul class=\"toc-item\"><li><span><a href=\"#Specifying-Output\" data-toc-modified-id=\"Specifying-Output-3.1\"><span class=\"toc-item-num\">3.1&nbsp;&nbsp;</span>Specifying Output</a></span></li><li><span><a href=\"#Search-Records\" data-toc-modified-id=\"Search-Records-3.2\"><span class=\"toc-item-num\">3.2&nbsp;&nbsp;</span>Search Records</a></span><ul class=\"toc-item\"><li><span><a href=\"#Modifiers\" data-toc-modified-id=\"Modifiers-3.2.1\"><span class=\"toc-item-num\">3.2.1&nbsp;&nbsp;</span>Modifiers</a></span></li></ul></li></ul></li><li><span><a href=\"#Update\" data-toc-modified-id=\"Update-4\"><span class=\"toc-item-num\">4&nbsp;&nbsp;</span>Update</a></span></li><li><span><a href=\"#Delete\" data-toc-modified-id=\"Delete-5\"><span class=\"toc-item-num\">5&nbsp;&nbsp;</span>Delete</a></span></li><li><span><a href=\"#EXTRAS\" data-toc-modified-id=\"EXTRAS-6\"><span class=\"toc-item-num\">6&nbsp;&nbsp;</span>EXTRAS</a></span></li></ul></div>"
   ]
  },
  {
   "cell_type": "markdown",
   "metadata": {
    "heading_collapsed": true
   },
   "source": [
    "# Intro to Using MongoDB"
   ]
  },
  {
   "cell_type": "markdown",
   "metadata": {
    "hidden": true
   },
   "source": [
    "https://github.com/erdosn/cv2-mod2-sec15-mongo-lesson"
   ]
  },
  {
   "cell_type": "code",
   "execution_count": null,
   "metadata": {
    "hidden": true,
    "scrolled": true
   },
   "outputs": [],
   "source": [
    "# !mongod\n",
    "# goes to default: http://127.0.0.1:27017/"
   ]
  },
  {
   "cell_type": "code",
   "execution_count": null,
   "metadata": {
    "hidden": true
   },
   "outputs": [],
   "source": [
    "import pymongo"
   ]
  },
  {
   "cell_type": "code",
   "execution_count": null,
   "metadata": {
    "hidden": true,
    "scrolled": true
   },
   "outputs": [],
   "source": [
    "client = pymongo.MongoClient(host=\"localhost\", port=27017)\n",
    "\n",
    "# Alternative: \n",
    "# client = pymongo.MongoClient(\"mongodb://127.0.0.1:27017/\")"
   ]
  },
  {
   "cell_type": "code",
   "execution_count": null,
   "metadata": {
    "hidden": true
   },
   "outputs": [],
   "source": [
    "client.list_database_names() # show dbs in mongo"
   ]
  },
  {
   "cell_type": "markdown",
   "metadata": {
    "heading_collapsed": true,
    "hidden": true
   },
   "source": [
    "## Create DB"
   ]
  },
  {
   "cell_type": "code",
   "execution_count": null,
   "metadata": {
    "hidden": true
   },
   "outputs": [],
   "source": [
    "mydb = client[\"attendance\"]"
   ]
  },
  {
   "cell_type": "code",
   "execution_count": null,
   "metadata": {
    "hidden": true
   },
   "outputs": [],
   "source": [
    "# shows up after inserting records\n",
    "client.list_database_names()"
   ]
  },
  {
   "cell_type": "code",
   "execution_count": null,
   "metadata": {
    "hidden": true
   },
   "outputs": [],
   "source": [
    "mydb.list_collection_names()"
   ]
  },
  {
   "cell_type": "markdown",
   "metadata": {
    "heading_collapsed": true
   },
   "source": [
    "# Create Records"
   ]
  },
  {
   "cell_type": "code",
   "execution_count": null,
   "metadata": {
    "hidden": true
   },
   "outputs": [],
   "source": [
    "students = mydb[\"attendance\"]"
   ]
  },
  {
   "cell_type": "code",
   "execution_count": null,
   "metadata": {
    "hidden": true
   },
   "outputs": [],
   "source": [
    "keys = [\"name\", \"age\", \"state\"]\n",
    "\n",
    "#victor = dict(zip(keys, ['Victor', 28, 'CA']))\n",
    "victor = {\n",
    "    'name': 'Victor',\n",
    "    'age': 28,\n",
    "    'state': 'CA'\n",
    "}\n",
    "victor"
   ]
  },
  {
   "cell_type": "code",
   "execution_count": null,
   "metadata": {
    "hidden": true
   },
   "outputs": [],
   "source": [
    "# let's insert this dictionary into my new collection\n",
    "students.insert_one(victor)"
   ]
  },
  {
   "cell_type": "markdown",
   "metadata": {
    "heading_collapsed": true,
    "hidden": true
   },
   "source": [
    "## Insert Many"
   ]
  },
  {
   "cell_type": "code",
   "execution_count": null,
   "metadata": {
    "hidden": true
   },
   "outputs": [],
   "source": [
    "anti_victor = dict(zip(keys, ['Victor', -27, 'AC']))"
   ]
  },
  {
   "cell_type": "code",
   "execution_count": null,
   "metadata": {
    "hidden": true
   },
   "outputs": [],
   "source": [
    "new_student = dict(zip(keys, ['Max', 25, 'OR']))"
   ]
  },
  {
   "cell_type": "code",
   "execution_count": null,
   "metadata": {
    "hidden": true
   },
   "outputs": [],
   "source": [
    "records = [anti_victor, new_student]\n",
    "records\n",
    "students.insert_many(records)"
   ]
  },
  {
   "cell_type": "code",
   "execution_count": null,
   "metadata": {
    "hidden": true,
    "scrolled": true
   },
   "outputs": [],
   "source": [
    "records"
   ]
  },
  {
   "cell_type": "markdown",
   "metadata": {
    "heading_collapsed": true,
    "hidden": true
   },
   "source": [
    "## TEST"
   ]
  },
  {
   "cell_type": "code",
   "execution_count": null,
   "metadata": {
    "hidden": true
   },
   "outputs": [],
   "source": [
    "example = {'name': 'John', 'state': 'AZ', 'age': 28}"
   ]
  },
  {
   "cell_type": "code",
   "execution_count": null,
   "metadata": {
    "hidden": true
   },
   "outputs": [],
   "source": [
    "results = students.insert_one(example)\n",
    "\n",
    "results.inserted_id\n"
   ]
  },
  {
   "cell_type": "markdown",
   "metadata": {
    "hidden": true
   },
   "source": [
    "**Changes our dictionary!** 😱"
   ]
  },
  {
   "cell_type": "code",
   "execution_count": null,
   "metadata": {
    "hidden": true
   },
   "outputs": [],
   "source": [
    "example"
   ]
  },
  {
   "cell_type": "markdown",
   "metadata": {
    "heading_collapsed": true
   },
   "source": [
    "# Read Records"
   ]
  },
  {
   "cell_type": "code",
   "execution_count": null,
   "metadata": {
    "hidden": true,
    "scrolled": true
   },
   "outputs": [],
   "source": [
    "[p for p in students.find()]"
   ]
  },
  {
   "cell_type": "markdown",
   "metadata": {
    "heading_collapsed": true,
    "hidden": true
   },
   "source": [
    "## Specifying Output"
   ]
  },
  {
   "cell_type": "code",
   "execution_count": null,
   "metadata": {
    "hidden": true
   },
   "outputs": [],
   "source": [
    "# I want it!\n",
    "for i in students.find({}, { 'name': 1, 'age': 1}):\n",
    "    print(i)"
   ]
  },
  {
   "cell_type": "code",
   "execution_count": null,
   "metadata": {
    "hidden": true
   },
   "outputs": [],
   "source": [
    "# I don't want it!\n",
    "results = students.find({}, { 'name': 0, 'age': 0})\n",
    "for r in results:\n",
    "    print(r)"
   ]
  },
  {
   "cell_type": "markdown",
   "metadata": {
    "heading_collapsed": true,
    "hidden": true
   },
   "source": [
    "## Search Records"
   ]
  },
  {
   "cell_type": "code",
   "execution_count": null,
   "metadata": {
    "hidden": true
   },
   "outputs": [],
   "source": [
    "results = students.find({'name': 'Victor'})\n",
    "for r in results:\n",
    "    print(r)"
   ]
  },
  {
   "cell_type": "markdown",
   "metadata": {
    "heading_collapsed": true,
    "hidden": true
   },
   "source": [
    "### Modifiers\n",
    "\n",
    "https://docs.mongodb.com/manual/reference/operator/query/"
   ]
  },
  {
   "cell_type": "code",
   "execution_count": null,
   "metadata": {
    "hidden": true
   },
   "outputs": [],
   "source": [
    "results = students.find({\"age\": {\"$gt\": 26}})\n",
    "for r in results:\n",
    "    print(r)"
   ]
  },
  {
   "cell_type": "markdown",
   "metadata": {
    "heading_collapsed": true
   },
   "source": [
    "# Update"
   ]
  },
  {
   "cell_type": "code",
   "execution_count": null,
   "metadata": {
    "hidden": true
   },
   "outputs": [],
   "source": [
    "# It's my birthday\n",
    "record_to_update = {'name' : 'Victor'}\n",
    "update_1 = {'$set': {'age': 29}}\n",
    "#\n",
    "update_2 = {'$set': {'birthday': '06/27/1990'}}\n",
    "\n",
    "students.update_one(record_to_update, update_1)\n",
    "students.update_one(record_to_update, update_2)\n",
    "results = students.find({'name': 'Victor'})\n",
    "for item in results:\n",
    "    print(item)"
   ]
  },
  {
   "cell_type": "markdown",
   "metadata": {
    "heading_collapsed": true
   },
   "source": [
    "# Delete"
   ]
  },
  {
   "cell_type": "markdown",
   "metadata": {
    "hidden": true
   },
   "source": []
  },
  {
   "cell_type": "code",
   "execution_count": null,
   "metadata": {
    "hidden": true
   },
   "outputs": [],
   "source": [
    "deletion_1 = students.delete_one({'name': 'Victor'})\n",
    "print(deletion_1.deleted_count)"
   ]
  },
  {
   "cell_type": "code",
   "execution_count": null,
   "metadata": {
    "hidden": true
   },
   "outputs": [],
   "source": [
    "# With conditions\n",
    "deletion_2 = students.delete_one({'age': {'$lt': 27}})\n",
    "print(deletion_2.deleted_count)"
   ]
  },
  {
   "cell_type": "code",
   "execution_count": null,
   "metadata": {
    "hidden": true
   },
   "outputs": [],
   "source": [
    "# Delete many records (all of them here!)\n",
    "students.delete_many({})"
   ]
  },
  {
   "cell_type": "markdown",
   "metadata": {
    "heading_collapsed": true
   },
   "source": [
    "# EXTRAS"
   ]
  },
  {
   "cell_type": "markdown",
   "metadata": {
    "hidden": true
   },
   "source": [
    "MongoDB shell: https://docs.mongodb.com/manual/mongo/\n",
    "\n",
    "```\n",
    "mongo\n",
    "```"
   ]
  }
 ],
 "metadata": {
  "kernelspec": {
   "display_name": "Python 3",
   "language": "python",
   "name": "python3"
  },
  "language_info": {
   "codemirror_mode": {
    "name": "ipython",
    "version": 3
   },
   "file_extension": ".py",
   "mimetype": "text/x-python",
   "name": "python",
   "nbconvert_exporter": "python",
   "pygments_lexer": "ipython3",
   "version": "3.8.5"
  },
  "toc": {
   "base_numbering": 1,
   "nav_menu": {},
   "number_sections": true,
   "sideBar": false,
   "skip_h1_title": false,
   "title_cell": "Table of Contents",
   "title_sidebar": "Contents",
   "toc_cell": true,
   "toc_position": {},
   "toc_section_display": false,
   "toc_window_display": false
  },
  "varInspector": {
   "cols": {
    "lenName": 16,
    "lenType": 16,
    "lenVar": 40
   },
   "kernels_config": {
    "python": {
     "delete_cmd_postfix": "",
     "delete_cmd_prefix": "del ",
     "library": "var_list.py",
     "varRefreshCmd": "print(var_dic_list())"
    },
    "r": {
     "delete_cmd_postfix": ") ",
     "delete_cmd_prefix": "rm(",
     "library": "var_list.r",
     "varRefreshCmd": "cat(var_dic_list()) "
    }
   },
   "types_to_exclude": [
    "module",
    "function",
    "builtin_function_or_method",
    "instance",
    "_Feature"
   ],
   "window_display": false
  }
 },
 "nbformat": 4,
 "nbformat_minor": 2
}
