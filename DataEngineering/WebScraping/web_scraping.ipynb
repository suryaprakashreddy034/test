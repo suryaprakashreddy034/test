{
 "cells": [
  {
   "cell_type": "markdown",
   "metadata": {
    "toc": true
   },
   "source": [
    "<h1>Table of Contents<span class=\"tocSkip\"></span></h1>\n",
    "<div class=\"toc\"><ul class=\"toc-item\"><li><span><a href=\"#Web-Scraping-Intro\" data-toc-modified-id=\"Web-Scraping-Intro-1\"><span class=\"toc-item-num\">1&nbsp;&nbsp;</span>Web Scraping Intro</a></span></li><li><span><a href=\"#A-Note-on-Web-Scraping-Ethics\" data-toc-modified-id=\"A-Note-on-Web-Scraping-Ethics-2\"><span class=\"toc-item-num\">2&nbsp;&nbsp;</span>A Note on Web Scraping Ethics</a></span></li><li><span><a href=\"#Let's-Do-Some-Web-Scraping\" data-toc-modified-id=\"Let's-Do-Some-Web-Scraping-3\"><span class=\"toc-item-num\">3&nbsp;&nbsp;</span>Let's Do Some Web Scraping</a></span><ul class=\"toc-item\"><li><span><a href=\"#The-DOM----Document-Object-Model\" data-toc-modified-id=\"The-DOM----Document-Object-Model-3.1\"><span class=\"toc-item-num\">3.1&nbsp;&nbsp;</span>The DOM  - Document Object Model</a></span></li><li><span><a href=\"#Scrape-the-DOM-with-Beautiful-Soup\" data-toc-modified-id=\"Scrape-the-DOM-with-Beautiful-Soup-3.2\"><span class=\"toc-item-num\">3.2&nbsp;&nbsp;</span>Scrape the DOM with Beautiful Soup</a></span><ul class=\"toc-item\"><li><span><a href=\"#Get-the-page\" data-toc-modified-id=\"Get-the-page-3.2.1\"><span class=\"toc-item-num\">3.2.1&nbsp;&nbsp;</span>Get the page</a></span></li><li><span><a href=\"#Parse-the-page\" data-toc-modified-id=\"Parse-the-page-3.2.2\"><span class=\"toc-item-num\">3.2.2&nbsp;&nbsp;</span>Parse the page</a></span></li></ul></li></ul></li></ul></div>"
   ]
  },
  {
   "cell_type": "markdown",
   "metadata": {
    "heading_collapsed": true
   },
   "source": [
    "# Web Scraping Intro"
   ]
  },
  {
   "cell_type": "markdown",
   "metadata": {
    "hidden": true
   },
   "source": [
    "Ideally we want the data formatted for us but sometimes it's not clean."
   ]
  },
  {
   "cell_type": "markdown",
   "metadata": {
    "hidden": true
   },
   "source": [
    "![](images/scraping_full_chalkboard.png)"
   ]
  },
  {
   "cell_type": "markdown",
   "metadata": {
    "hidden": true
   },
   "source": [
    "Usual order of preference:\n",
    "1. Direct access to formatted data (database, CSV, etc.)\n",
    "2. API call to get data\n",
    "3. Scrape the data\n",
    "4. Other sources...."
   ]
  },
  {
   "cell_type": "markdown",
   "metadata": {
    "heading_collapsed": true
   },
   "source": [
    "# A Note on Web Scraping Ethics"
   ]
  },
  {
   "cell_type": "markdown",
   "metadata": {
    "hidden": true
   },
   "source": [
    "![](images/web_scraping_is_the_devil.jpg)"
   ]
  },
  {
   "cell_type": "markdown",
   "metadata": {
    "hidden": true
   },
   "source": [
    "> Web scraping lives in a muddy, gray area. So proceed with caution"
   ]
  },
  {
   "cell_type": "markdown",
   "metadata": {
    "heading_collapsed": true
   },
   "source": [
    "# Let's Do Some Web Scraping"
   ]
  },
  {
   "cell_type": "markdown",
   "metadata": {
    "heading_collapsed": true,
    "hidden": true
   },
   "source": [
    "## The DOM  - Document Object Model"
   ]
  },
  {
   "cell_type": "markdown",
   "metadata": {
    "hidden": true
   },
   "source": [
    "A way for us to think of the document structure; allows us to parse through\n",
    "\n",
    "Think of siblings, children/descendants, parents"
   ]
  },
  {
   "cell_type": "markdown",
   "metadata": {
    "heading_collapsed": true,
    "hidden": true
   },
   "source": [
    "## Scrape the DOM with Beautiful Soup"
   ]
  },
  {
   "cell_type": "markdown",
   "metadata": {
    "hidden": true
   },
   "source": [
    "- Relatively fast execution in the parser\n",
    "- Uses natural, Pythonic calls\n",
    "- Does encodings (how the site is written)"
   ]
  },
  {
   "cell_type": "code",
   "execution_count": null,
   "metadata": {
    "hidden": true
   },
   "outputs": [],
   "source": [
    "# Note the import looks different\n",
    "from bs4 import BeautifulSoup\n",
    "# Requests (we've seen this already) gets the webpage\n",
    "import requests\n",
    "# Regular expressions allows us to parse text easier\n",
    "import re"
   ]
  },
  {
   "cell_type": "markdown",
   "metadata": {
    "heading_collapsed": true,
    "hidden": true
   },
   "source": [
    "### Get the page"
   ]
  },
  {
   "cell_type": "code",
   "execution_count": null,
   "metadata": {
    "hidden": true
   },
   "outputs": [],
   "source": [
    "def getSoup(url):\n",
    "    # Note this header is to ensure that we don't get blocked\n",
    "    header = {'User-Agent': 'Mozilla/5.0'}\n",
    "    webpage = requests.get(url, headers=header)\n",
    "    return (webpage, BeautifulSoup(webpage.content, 'html.parser'))"
   ]
  },
  {
   "cell_type": "code",
   "execution_count": null,
   "metadata": {
    "hidden": true
   },
   "outputs": [],
   "source": [
    "page, soup = getSoup(\"https://www.androidpolice.com/\")"
   ]
  },
  {
   "cell_type": "code",
   "execution_count": null,
   "metadata": {
    "hidden": true,
    "scrolled": true
   },
   "outputs": [],
   "source": [
    "page"
   ]
  },
  {
   "cell_type": "code",
   "execution_count": null,
   "metadata": {
    "hidden": true
   },
   "outputs": [],
   "source": [
    "page.content"
   ]
  },
  {
   "cell_type": "code",
   "execution_count": null,
   "metadata": {
    "hidden": true
   },
   "outputs": [],
   "source": [
    "soup"
   ]
  },
  {
   "cell_type": "markdown",
   "metadata": {
    "heading_collapsed": true,
    "hidden": true
   },
   "source": [
    "### Parse the page"
   ]
  },
  {
   "cell_type": "code",
   "execution_count": null,
   "metadata": {
    "hidden": true
   },
   "outputs": [],
   "source": [
    "images = soup.find_all('img')"
   ]
  },
  {
   "cell_type": "code",
   "execution_count": null,
   "metadata": {
    "hidden": true
   },
   "outputs": [],
   "source": [
    "print(len(images))"
   ]
  },
  {
   "cell_type": "code",
   "execution_count": null,
   "metadata": {
    "hidden": true
   },
   "outputs": [],
   "source": [
    "print(images[1])"
   ]
  },
  {
   "cell_type": "code",
   "execution_count": null,
   "metadata": {
    "hidden": true
   },
   "outputs": [],
   "source": [
    "print(images[1]['src'])"
   ]
  },
  {
   "cell_type": "code",
   "execution_count": null,
   "metadata": {
    "hidden": true
   },
   "outputs": [],
   "source": [
    "for i in images:\n",
    "   print(i['src']) "
   ]
  },
  {
   "cell_type": "code",
   "execution_count": null,
   "metadata": {
    "hidden": true
   },
   "outputs": [],
   "source": [
    "div = soup.find_all('div')\n",
    "len(div)"
   ]
  },
  {
   "cell_type": "code",
   "execution_count": null,
   "metadata": {
    "hidden": true,
    "scrolled": true
   },
   "outputs": [],
   "source": [
    "div[:10]"
   ]
  },
  {
   "cell_type": "code",
   "execution_count": null,
   "metadata": {
    "hidden": true
   },
   "outputs": [],
   "source": [
    "div[4].findNextSiblings()"
   ]
  },
  {
   "cell_type": "code",
   "execution_count": null,
   "metadata": {
    "hidden": true
   },
   "outputs": [],
   "source": [
    "# soup.find('div', {\"class\": \"post\"})\n",
    "d = soup.find_all('div', {\"class\": \"post\"})\n",
    "len(d)"
   ]
  },
  {
   "cell_type": "code",
   "execution_count": null,
   "metadata": {
    "hidden": true
   },
   "outputs": [],
   "source": [
    "d[0]"
   ]
  }
 ],
 "metadata": {
  "kernelspec": {
   "display_name": "Python 3",
   "language": "python",
   "name": "python3"
  },
  "language_info": {
   "codemirror_mode": {
    "name": "ipython",
    "version": 3
   },
   "file_extension": ".py",
   "mimetype": "text/x-python",
   "name": "python",
   "nbconvert_exporter": "python",
   "pygments_lexer": "ipython3",
   "version": "3.8.5"
  },
  "toc": {
   "base_numbering": 1,
   "nav_menu": {},
   "number_sections": true,
   "sideBar": false,
   "skip_h1_title": false,
   "title_cell": "Table of Contents",
   "title_sidebar": "Contents",
   "toc_cell": true,
   "toc_position": {},
   "toc_section_display": false,
   "toc_window_display": false
  },
  "varInspector": {
   "cols": {
    "lenName": 16,
    "lenType": 16,
    "lenVar": 40
   },
   "kernels_config": {
    "python": {
     "delete_cmd_postfix": "",
     "delete_cmd_prefix": "del ",
     "library": "var_list.py",
     "varRefreshCmd": "print(var_dic_list())"
    },
    "r": {
     "delete_cmd_postfix": ") ",
     "delete_cmd_prefix": "rm(",
     "library": "var_list.r",
     "varRefreshCmd": "cat(var_dic_list()) "
    }
   },
   "types_to_exclude": [
    "module",
    "function",
    "builtin_function_or_method",
    "instance",
    "_Feature"
   ],
   "window_display": false
  }
 },
 "nbformat": 4,
 "nbformat_minor": 2
}
