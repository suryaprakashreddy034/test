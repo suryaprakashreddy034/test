{
 "cells": [
  {
   "cell_type": "markdown",
   "metadata": {
    "toc": true
   },
   "source": [
    "<h1>Table of Contents<span class=\"tocSkip\"></span></h1>\n",
    "<div class=\"toc\"><ul class=\"toc-item\"><li><span><a href=\"#Example---LIFX-API\" data-toc-modified-id=\"Example---LIFX-API-1\"><span class=\"toc-item-num\">1&nbsp;&nbsp;</span>Example - LIFX API</a></span><ul class=\"toc-item\"><li><span><a href=\"#Key-Validation\" data-toc-modified-id=\"Key-Validation-1.1\"><span class=\"toc-item-num\">1.1&nbsp;&nbsp;</span>Key Validation</a></span><ul class=\"toc-item\"><li><span><a href=\"#If-API-key-is-invalid\" data-toc-modified-id=\"If-API-key-is-invalid-1.1.1\"><span class=\"toc-item-num\">1.1.1&nbsp;&nbsp;</span>If API key is invalid</a></span></li><li><span><a href=\"#Valid-API-Key\" data-toc-modified-id=\"Valid-API-Key-1.1.2\"><span class=\"toc-item-num\">1.1.2&nbsp;&nbsp;</span>Valid API Key</a></span></li></ul></li><li><span><a href=\"#Exploring-the-JSON-Response\" data-toc-modified-id=\"Exploring-the-JSON-Response-1.2\"><span class=\"toc-item-num\">1.2&nbsp;&nbsp;</span>Exploring the JSON Response</a></span><ul class=\"toc-item\"><li><span><a href=\"#Loading-results-into-a-DataFrame\" data-toc-modified-id=\"Loading-results-into-a-DataFrame-1.2.1\"><span class=\"toc-item-num\">1.2.1&nbsp;&nbsp;</span>Loading results into a DataFrame</a></span></li></ul></li><li><span><a href=\"#Interacting-With-the-Lights\" data-toc-modified-id=\"Interacting-With-the-Lights-1.3\"><span class=\"toc-item-num\">1.3&nbsp;&nbsp;</span>Interacting With the Lights</a></span><ul class=\"toc-item\"><li><span><a href=\"#Power-On\" data-toc-modified-id=\"Power-On-1.3.1\"><span class=\"toc-item-num\">1.3.1&nbsp;&nbsp;</span>Power On</a></span></li><li><span><a href=\"#Power-On-w/-Color\" data-toc-modified-id=\"Power-On-w/-Color-1.3.2\"><span class=\"toc-item-num\">1.3.2&nbsp;&nbsp;</span>Power On w/ Color</a></span></li><li><span><a href=\"#Power-Off\" data-toc-modified-id=\"Power-Off-1.3.3\"><span class=\"toc-item-num\">1.3.3&nbsp;&nbsp;</span>Power Off</a></span></li><li><span><a href=\"#Invalid-command\" data-toc-modified-id=\"Invalid-command-1.3.4\"><span class=\"toc-item-num\">1.3.4&nbsp;&nbsp;</span>Invalid command</a></span></li></ul></li></ul></li></ul></div>"
   ]
  },
  {
   "cell_type": "markdown",
   "metadata": {
    "heading_collapsed": true
   },
   "source": [
    "# Example - LIFX API"
   ]
  },
  {
   "cell_type": "markdown",
   "metadata": {
    "hidden": true
   },
   "source": [
    "![LIFX logo](images/lifx_logo.png)"
   ]
  },
  {
   "cell_type": "markdown",
   "metadata": {
    "hidden": true
   },
   "source": [
    "Documentation: https://api.developer.lifx.com/"
   ]
  },
  {
   "cell_type": "code",
   "execution_count": null,
   "metadata": {
    "hidden": true
   },
   "outputs": [],
   "source": [
    "import json\n",
    "import requests\n",
    "\n",
    "# My personal modules I created\n",
    "from secrets import Lifx \n",
    "from secrets_real import Lifx as Lifx_real"
   ]
  },
  {
   "cell_type": "markdown",
   "metadata": {
    "heading_collapsed": true,
    "hidden": true
   },
   "source": [
    "## Key Validation"
   ]
  },
  {
   "cell_type": "markdown",
   "metadata": {
    "heading_collapsed": true,
    "hidden": true
   },
   "source": [
    "### If API key is invalid"
   ]
  },
  {
   "cell_type": "code",
   "execution_count": null,
   "metadata": {
    "hidden": true
   },
   "outputs": [],
   "source": [
    "# You need to get this from API provider\n",
    "token = Lifx.default_token['token']\n",
    "\n",
    "headers = {\n",
    "    \"Authorization\": \"Bearer %s\" % token,\n",
    "}\n",
    "\n",
    "response = requests.get('https://api.lifx.com/v1/lights/all', headers=headers)"
   ]
  },
  {
   "cell_type": "code",
   "execution_count": null,
   "metadata": {
    "hidden": true,
    "scrolled": true
   },
   "outputs": [],
   "source": [
    "lights = response.json()\n",
    "display(lights)"
   ]
  },
  {
   "cell_type": "markdown",
   "metadata": {
    "heading_collapsed": true,
    "hidden": true
   },
   "source": [
    "### Valid API Key"
   ]
  },
  {
   "cell_type": "code",
   "execution_count": null,
   "metadata": {
    "hidden": true
   },
   "outputs": [],
   "source": [
    "# Specific to today's lesson\n",
    "token = Lifx_real.default_token['token']\n",
    "\n",
    "headers = {\n",
    "    \"Authorization\": \"Bearer %s\" % token,\n",
    "}\n",
    "\n",
    "response = requests.get('https://api.lifx.com/v1/lights/all', headers=headers)"
   ]
  },
  {
   "cell_type": "code",
   "execution_count": null,
   "metadata": {
    "hidden": true
   },
   "outputs": [],
   "source": [
    "lights = response.json()\n",
    "display(lights)"
   ]
  },
  {
   "cell_type": "markdown",
   "metadata": {
    "heading_collapsed": true,
    "hidden": true
   },
   "source": [
    "## Exploring the JSON Response"
   ]
  },
  {
   "cell_type": "markdown",
   "metadata": {
    "heading_collapsed": true,
    "hidden": true
   },
   "source": [
    "### Loading results into a DataFrame"
   ]
  },
  {
   "cell_type": "code",
   "execution_count": null,
   "metadata": {
    "hidden": true
   },
   "outputs": [],
   "source": [
    "import pandas as pd\n",
    "\n",
    "lights_df = pd.DataFrame.from_dict(lights)\n",
    "display(lights_df)"
   ]
  },
  {
   "cell_type": "code",
   "execution_count": null,
   "metadata": {
    "hidden": true,
    "scrolled": true
   },
   "outputs": [],
   "source": [
    "for light in lights:\n",
    "    print(light['label'])"
   ]
  },
  {
   "cell_type": "code",
   "execution_count": null,
   "metadata": {
    "hidden": true
   },
   "outputs": [],
   "source": [
    "# Picking a light using JSON\n",
    "label_i = lights[0]['id']\n",
    "\n",
    "display(lights[0]['label'])\n",
    "display(label_i)"
   ]
  },
  {
   "cell_type": "code",
   "execution_count": null,
   "metadata": {
    "hidden": true
   },
   "outputs": [],
   "source": [
    "# Choosing a particular light using Pandas\n",
    "label_of_interest = 'Living Room Lamp'\n",
    "label_id = lights_df[lights_df.label == label_of_interest]['id'].iloc[0]\n",
    "\n",
    "# lights\n",
    "label_id"
   ]
  },
  {
   "cell_type": "markdown",
   "metadata": {
    "heading_collapsed": true,
    "hidden": true
   },
   "source": [
    "## Interacting With the Lights"
   ]
  },
  {
   "cell_type": "markdown",
   "metadata": {
    "heading_collapsed": true,
    "hidden": true
   },
   "source": [
    "### Power On"
   ]
  },
  {
   "cell_type": "code",
   "execution_count": null,
   "metadata": {
    "hidden": true
   },
   "outputs": [],
   "source": [
    "payload = {\n",
    "  \"states\": [\n",
    "    {\n",
    "        \"selector\" : f\"id:{label_id}\",\n",
    "        \"power\": \"on\"\n",
    "    }\n",
    "  ]\n",
    "}\n",
    "\n",
    "response = requests.put('https://api.lifx.com/v1/lights/states', data=json.dumps(payload), headers=headers)"
   ]
  },
  {
   "cell_type": "code",
   "execution_count": null,
   "metadata": {
    "hidden": true
   },
   "outputs": [],
   "source": [
    "response.content"
   ]
  },
  {
   "cell_type": "markdown",
   "metadata": {
    "hidden": true
   },
   "source": [
    "Ew, that looks ugly. Let's make it easy to read"
   ]
  },
  {
   "cell_type": "code",
   "execution_count": null,
   "metadata": {
    "hidden": true
   },
   "outputs": [],
   "source": [
    "response.json()"
   ]
  },
  {
   "cell_type": "markdown",
   "metadata": {
    "heading_collapsed": true,
    "hidden": true
   },
   "source": [
    "### Power On w/ Color"
   ]
  },
  {
   "cell_type": "code",
   "execution_count": null,
   "metadata": {
    "hidden": true
   },
   "outputs": [],
   "source": [
    "payload = {\n",
    "  \"states\": [\n",
    "    {\n",
    "        \"selector\" : f\"id:{label_id}\",\n",
    "            \"period\": 2,\n",
    "            \"cycles\": 5,\n",
    "            \"color\": \"blue\",\n",
    "            \"brightness\": 0.5\n",
    "    }\n",
    "  ],\n",
    "  \"defaults\": {\n",
    "    \"power\": \"on\",\n",
    "    \"saturation\": 0,\n",
    "    \"duration\": 2.0\n",
    "\n",
    "  }\n",
    "}\n",
    "\n",
    "response = requests.put('https://api.lifx.com/v1/lights/states', data=json.dumps(payload), headers=headers)"
   ]
  },
  {
   "cell_type": "code",
   "execution_count": null,
   "metadata": {
    "hidden": true
   },
   "outputs": [],
   "source": [
    "response.json()"
   ]
  },
  {
   "cell_type": "markdown",
   "metadata": {
    "heading_collapsed": true,
    "hidden": true
   },
   "source": [
    "### Power Off"
   ]
  },
  {
   "cell_type": "code",
   "execution_count": null,
   "metadata": {
    "hidden": true
   },
   "outputs": [],
   "source": [
    "payload = {\n",
    "  \"states\": [\n",
    "    {\n",
    "        \"selector\" : f\"id:{label_id}\",\n",
    "        \"power\": \"off\"\n",
    "    }\n",
    "  ]\n",
    "}\n",
    "\n",
    "response = requests.put('https://api.lifx.com/v1/lights/states', data=json.dumps(payload), headers=headers)"
   ]
  },
  {
   "cell_type": "code",
   "execution_count": null,
   "metadata": {
    "hidden": true
   },
   "outputs": [],
   "source": [
    "response.json()"
   ]
  },
  {
   "cell_type": "markdown",
   "metadata": {
    "heading_collapsed": true,
    "hidden": true
   },
   "source": [
    "### Invalid command"
   ]
  },
  {
   "cell_type": "markdown",
   "metadata": {
    "hidden": true
   },
   "source": [
    "![](images/api_right_questions.jpg)"
   ]
  },
  {
   "cell_type": "code",
   "execution_count": null,
   "metadata": {
    "hidden": true
   },
   "outputs": [],
   "source": [
    "payload = {\n",
    "  \"states\": [\n",
    "    {\n",
    "        \"selector\" : f\"id:{label_id}\",\n",
    "        \"power\": \"99999\"\n",
    "    }\n",
    "  ]\n",
    "}\n",
    "\n",
    "response = requests.put('https://api.lifx.com/v1/lights/states', data=json.dumps(payload), headers=headers)"
   ]
  },
  {
   "cell_type": "code",
   "execution_count": null,
   "metadata": {
    "hidden": true
   },
   "outputs": [],
   "source": [
    "response.json()"
   ]
  }
 ],
 "metadata": {
  "kernelspec": {
   "display_name": "Python 3",
   "language": "python",
   "name": "python3"
  },
  "language_info": {
   "codemirror_mode": {
    "name": "ipython",
    "version": 3
   },
   "file_extension": ".py",
   "mimetype": "text/x-python",
   "name": "python",
   "nbconvert_exporter": "python",
   "pygments_lexer": "ipython3",
   "version": "3.8.5"
  },
  "toc": {
   "base_numbering": 1,
   "nav_menu": {},
   "number_sections": true,
   "sideBar": false,
   "skip_h1_title": false,
   "title_cell": "Table of Contents",
   "title_sidebar": "Contents",
   "toc_cell": true,
   "toc_position": {},
   "toc_section_display": false,
   "toc_window_display": false
  },
  "varInspector": {
   "cols": {
    "lenName": 16,
    "lenType": 16,
    "lenVar": 40
   },
   "kernels_config": {
    "python": {
     "delete_cmd_postfix": "",
     "delete_cmd_prefix": "del ",
     "library": "var_list.py",
     "varRefreshCmd": "print(var_dic_list())"
    },
    "r": {
     "delete_cmd_postfix": ") ",
     "delete_cmd_prefix": "rm(",
     "library": "var_list.r",
     "varRefreshCmd": "cat(var_dic_list()) "
    }
   },
   "types_to_exclude": [
    "module",
    "function",
    "builtin_function_or_method",
    "instance",
    "_Feature"
   ],
   "window_display": false
  }
 },
 "nbformat": 4,
 "nbformat_minor": 2
}
