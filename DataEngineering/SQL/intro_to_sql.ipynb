{
 "cells": [
  {
   "cell_type": "markdown",
   "metadata": {
    "toc": true
   },
   "source": [
    "<h1>Table of Contents<span class=\"tocSkip\"></span></h1>\n",
    "<div class=\"toc\"><ul class=\"toc-item\"><li><span><a href=\"#What-is-a-Database?\" data-toc-modified-id=\"What-is-a-Database?-1\"><span class=\"toc-item-num\">1&nbsp;&nbsp;</span>What is a Database?</a></span></li><li><span><a href=\"#Database-structure\" data-toc-modified-id=\"Database-structure-2\"><span class=\"toc-item-num\">2&nbsp;&nbsp;</span>Database structure</a></span><ul class=\"toc-item\"><li><span><a href=\"#Schema-is-made-of-tables\" data-toc-modified-id=\"Schema-is-made-of-tables-2.1\"><span class=\"toc-item-num\">2.1&nbsp;&nbsp;</span>Schema is made of tables</a></span></li><li><span><a href=\"#Primary-&amp;-Foreign-Keys\" data-toc-modified-id=\"Primary-&amp;-Foreign-Keys-2.2\"><span class=\"toc-item-num\">2.2&nbsp;&nbsp;</span>Primary &amp; Foreign Keys</a></span><ul class=\"toc-item\"><li><span><a href=\"#Primary-Key\" data-toc-modified-id=\"Primary-Key-2.2.1\"><span class=\"toc-item-num\">2.2.1&nbsp;&nbsp;</span>Primary Key</a></span></li><li><span><a href=\"#Foreign-key\" data-toc-modified-id=\"Foreign-key-2.2.2\"><span class=\"toc-item-num\">2.2.2&nbsp;&nbsp;</span>Foreign key</a></span></li></ul></li></ul></li><li><span><a href=\"#WHAT-is-SQL?\" data-toc-modified-id=\"WHAT-is-SQL?-3\"><span class=\"toc-item-num\">3&nbsp;&nbsp;</span>WHAT is SQL?</a></span></li><li><span><a href=\"#WHO-uses-SQL?\" data-toc-modified-id=\"WHO-uses-SQL?-4\"><span class=\"toc-item-num\">4&nbsp;&nbsp;</span>WHO uses SQL?</a></span></li><li><span><a href=\"#WHY-SQL?\" data-toc-modified-id=\"WHY-SQL?-5\"><span class=\"toc-item-num\">5&nbsp;&nbsp;</span>WHY SQL?</a></span></li></ul></div>"
   ]
  },
  {
   "cell_type": "markdown",
   "metadata": {
    "heading_collapsed": true
   },
   "source": [
    "# What is a Database?"
   ]
  },
  {
   "cell_type": "markdown",
   "metadata": {
    "hidden": true
   },
   "source": [
    "- Table of data\n",
    "- Comparable to CSV or Excel"
   ]
  },
  {
   "cell_type": "markdown",
   "metadata": {
    "heading_collapsed": true
   },
   "source": [
    "# Database structure"
   ]
  },
  {
   "cell_type": "markdown",
   "metadata": {
    "heading_collapsed": true,
    "hidden": true
   },
   "source": [
    "## Schema is made of tables"
   ]
  },
  {
   "cell_type": "markdown",
   "metadata": {
    "hidden": true
   },
   "source": [
    "Why have multiple tables?\n",
    "\n",
    "- Relational database\n",
    "- Given to you by business\n",
    "- Navigate through the database\n",
    "\n",
    "![https://raw.githubusercontent.com/learn-co-students/dsc-1-05-10-join-statements-online-ds-sp-000/master/Database-Schema.png](images/Database-Schema.png)"
   ]
  },
  {
   "cell_type": "markdown",
   "metadata": {
    "heading_collapsed": true,
    "hidden": true
   },
   "source": [
    "## Primary & Foreign Keys"
   ]
  },
  {
   "cell_type": "markdown",
   "metadata": {
    "heading_collapsed": true,
    "hidden": true
   },
   "source": [
    "### Primary Key\n",
    "\n",
    "- Unique to each data row\n",
    "- Required\n",
    "- What makes a good key? (`Serial`)"
   ]
  },
  {
   "cell_type": "markdown",
   "metadata": {
    "heading_collapsed": true,
    "hidden": true
   },
   "source": [
    "### Foreign key\n",
    "- References to other tables"
   ]
  },
  {
   "cell_type": "markdown",
   "metadata": {
    "heading_collapsed": true
   },
   "source": [
    "# WHAT is SQL?"
   ]
  },
  {
   "cell_type": "markdown",
   "metadata": {
    "hidden": true
   },
   "source": [
    "I think of it as the intermediary between you and the database"
   ]
  },
  {
   "cell_type": "markdown",
   "metadata": {
    "hidden": true
   },
   "source": [
    "Old school 😎 (1970s)"
   ]
  },
  {
   "cell_type": "markdown",
   "metadata": {
    "heading_collapsed": true
   },
   "source": [
    "# WHO uses SQL?"
   ]
  },
  {
   "cell_type": "markdown",
   "metadata": {
    "hidden": true
   },
   "source": [
    "- Used a lot with data analyst\n",
    "- Many businesses use this"
   ]
  },
  {
   "cell_type": "markdown",
   "metadata": {
    "heading_collapsed": true
   },
   "source": [
    "# WHY SQL?"
   ]
  },
  {
   "cell_type": "markdown",
   "metadata": {
    "hidden": true
   },
   "source": [
    "- Speed! Make the server do the work!\n",
    "- It's super common"
   ]
  }
 ],
 "metadata": {
  "kernelspec": {
   "display_name": "Python 3",
   "language": "python",
   "name": "python3"
  },
  "language_info": {
   "codemirror_mode": {
    "name": "ipython",
    "version": 3
   },
   "file_extension": ".py",
   "mimetype": "text/x-python",
   "name": "python",
   "nbconvert_exporter": "python",
   "pygments_lexer": "ipython3",
   "version": "3.8.5"
  },
  "toc": {
   "base_numbering": 1,
   "nav_menu": {},
   "number_sections": true,
   "sideBar": false,
   "skip_h1_title": false,
   "title_cell": "Table of Contents",
   "title_sidebar": "Contents",
   "toc_cell": true,
   "toc_position": {},
   "toc_section_display": false,
   "toc_window_display": false
  },
  "varInspector": {
   "cols": {
    "lenName": 16,
    "lenType": 16,
    "lenVar": 40
   },
   "kernels_config": {
    "python": {
     "delete_cmd_postfix": "",
     "delete_cmd_prefix": "del ",
     "library": "var_list.py",
     "varRefreshCmd": "print(var_dic_list())"
    },
    "r": {
     "delete_cmd_postfix": ") ",
     "delete_cmd_prefix": "rm(",
     "library": "var_list.r",
     "varRefreshCmd": "cat(var_dic_list()) "
    }
   },
   "types_to_exclude": [
    "module",
    "function",
    "builtin_function_or_method",
    "instance",
    "_Feature"
   ],
   "window_display": false
  }
 },
 "nbformat": 4,
 "nbformat_minor": 2
}
