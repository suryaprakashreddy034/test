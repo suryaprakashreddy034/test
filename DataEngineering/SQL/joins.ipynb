{
 "cells": [
  {
   "cell_type": "markdown",
   "metadata": {
    "toc": true
   },
   "source": [
    "<h1>Table of Contents<span class=\"tocSkip\"></span></h1>\n",
    "<div class=\"toc\"><ul class=\"toc-item\"><li><span><a href=\"#Exploring-the-existing-data-tables\" data-toc-modified-id=\"Exploring-the-existing-data-tables-1\"><span class=\"toc-item-num\">1&nbsp;&nbsp;</span>Exploring the existing data tables</a></span><ul class=\"toc-item\"><li><span><a href=\"#orderdetails-table\" data-toc-modified-id=\"orderdetails-table-1.1\"><span class=\"toc-item-num\">1.1&nbsp;&nbsp;</span><code>orderdetails</code> table</a></span></li><li><span><a href=\"#products-table\" data-toc-modified-id=\"products-table-1.2\"><span class=\"toc-item-num\">1.2&nbsp;&nbsp;</span><code>products</code> table</a></span></li></ul></li><li><span><a href=\"#Joins-on-data-tables\" data-toc-modified-id=\"Joins-on-data-tables-2\"><span class=\"toc-item-num\">2&nbsp;&nbsp;</span>Joins on data tables</a></span><ul class=\"toc-item\"><li><span><a href=\"#Inner-Join-on-products-&amp;-orderdetails\" data-toc-modified-id=\"Inner-Join-on-products-&amp;-orderdetails-2.1\"><span class=\"toc-item-num\">2.1&nbsp;&nbsp;</span>Inner Join on <code>products</code> &amp; <code>orderdetails</code></a></span></li><li><span><a href=\"#Left-Join-on-products-&amp;-orderdetails\" data-toc-modified-id=\"Left-Join-on-products-&amp;-orderdetails-2.2\"><span class=\"toc-item-num\">2.2&nbsp;&nbsp;</span>Left Join on <code>products</code> &amp; <code>orderdetails</code></a></span><ul class=\"toc-item\"><li><span><a href=\"#What-if-there-are-no-orders-for-that-product?\" data-toc-modified-id=\"What-if-there-are-no-orders-for-that-product?-2.2.1\"><span class=\"toc-item-num\">2.2.1&nbsp;&nbsp;</span>What if there are no orders for that product?</a></span></li></ul></li><li><span><a href=\"#Doing-an-aggregations\" data-toc-modified-id=\"Doing-an-aggregations-2.3\"><span class=\"toc-item-num\">2.3&nbsp;&nbsp;</span>Doing an aggregations</a></span><ul class=\"toc-item\"><li><span><a href=\"#With-Pandas\" data-toc-modified-id=\"With-Pandas-2.3.1\"><span class=\"toc-item-num\">2.3.1&nbsp;&nbsp;</span>With Pandas</a></span></li><li><span><a href=\"#Same-aggregation-with-SQL\" data-toc-modified-id=\"Same-aggregation-with-SQL-2.3.2\"><span class=\"toc-item-num\">2.3.2&nbsp;&nbsp;</span>Same aggregation with SQL</a></span></li></ul></li></ul></li></ul></div>"
   ]
  },
  {
   "cell_type": "code",
   "execution_count": null,
   "metadata": {},
   "outputs": [],
   "source": [
    "import sqlite3\n",
    "import pandas as pd\n",
    "\n",
    "conn = sqlite3.connect('data.sqlite', detect_types=sqlite3.PARSE_COLNAMES)\n",
    "cur = conn.cursor()"
   ]
  },
  {
   "cell_type": "markdown",
   "metadata": {
    "heading_collapsed": true
   },
   "source": [
    "# Exploring the existing data tables"
   ]
  },
  {
   "cell_type": "markdown",
   "metadata": {
    "hidden": true
   },
   "source": [
    "Helper functions so I can use DataFrames"
   ]
  },
  {
   "cell_type": "code",
   "execution_count": null,
   "metadata": {
    "hidden": true
   },
   "outputs": [],
   "source": [
    "def sql_with_cols(query,cursor=cur):\n",
    "  '''\n",
    "  Gives me the full result (with columns)\n",
    "  '''\n",
    "  result = cursor.execute(query).fetchall()\n",
    "  cols = tuple([description[0] for description in cur.description])\n",
    "  \n",
    "  full_result = (cols, result[:])\n",
    "  return full_result\n",
    "\n",
    "def df_sql(query, cursor=cur):\n",
    "    cols, result_data = sql_with_cols(query, cursor)\n",
    "    return pd.DataFrame(data=result_data, columns=cols)"
   ]
  },
  {
   "cell_type": "markdown",
   "metadata": {
    "heading_collapsed": true,
    "hidden": true
   },
   "source": [
    "## `orderdetails` table"
   ]
  },
  {
   "cell_type": "code",
   "execution_count": null,
   "metadata": {
    "hidden": true
   },
   "outputs": [],
   "source": [
    "query = \"\"\"\n",
    "select \n",
    "    * \n",
    "from \n",
    "    orderdetails\n",
    "\"\"\"\n",
    "\n",
    "df_orderdetails = df_sql(query)\n",
    "df_orderdetails.head()"
   ]
  },
  {
   "cell_type": "code",
   "execution_count": null,
   "metadata": {
    "hidden": true
   },
   "outputs": [],
   "source": [
    "df_orderdetails.describe()"
   ]
  },
  {
   "cell_type": "markdown",
   "metadata": {
    "heading_collapsed": true,
    "hidden": true
   },
   "source": [
    "## `products` table"
   ]
  },
  {
   "cell_type": "code",
   "execution_count": null,
   "metadata": {
    "hidden": true
   },
   "outputs": [],
   "source": [
    "query = \"\"\"\n",
    "select \n",
    "    * \n",
    "from \n",
    "    products\n",
    "\"\"\"\n",
    "\n",
    "df_products = df_sql(query)"
   ]
  },
  {
   "cell_type": "code",
   "execution_count": null,
   "metadata": {
    "hidden": true,
    "scrolled": true
   },
   "outputs": [],
   "source": [
    "df_products.head()"
   ]
  },
  {
   "cell_type": "code",
   "execution_count": null,
   "metadata": {
    "hidden": true
   },
   "outputs": [],
   "source": [
    "df_products.describe()"
   ]
  },
  {
   "cell_type": "markdown",
   "metadata": {
    "heading_collapsed": true
   },
   "source": [
    "# Joins on data tables"
   ]
  },
  {
   "cell_type": "markdown",
   "metadata": {
    "heading_collapsed": true,
    "hidden": true
   },
   "source": [
    "## Inner Join on `products` & `orderdetails`"
   ]
  },
  {
   "cell_type": "code",
   "execution_count": null,
   "metadata": {
    "hidden": true
   },
   "outputs": [],
   "source": [
    "query = \"\"\"\n",
    "select * \n",
    "from \n",
    "    orderdetails\n",
    "    join products\n",
    "        on orderdetails.productCode = products.productCode\n",
    "\"\"\"\n",
    "df_join_products_orderdetails = df_sql(query)"
   ]
  },
  {
   "cell_type": "code",
   "execution_count": null,
   "metadata": {
    "hidden": true
   },
   "outputs": [],
   "source": [
    "# Rename the `productCode` columns since they are repeated\n",
    "old_cols = list(df_join_products_orderdetails.columns)\n",
    "new_cols = (\n",
    "    [f'o.{c}' for c in old_cols[:5]]\n",
    "    +\n",
    "    [f'p.{c}' for c in old_cols[5:]]\n",
    ")\n",
    "df_join_products_orderdetails.columns = new_cols"
   ]
  },
  {
   "cell_type": "code",
   "execution_count": null,
   "metadata": {
    "hidden": true
   },
   "outputs": [],
   "source": [
    "df_join_products_orderdetails.head()"
   ]
  },
  {
   "cell_type": "code",
   "execution_count": null,
   "metadata": {
    "hidden": true
   },
   "outputs": [],
   "source": [
    "df_join_products_orderdetails.describe()"
   ]
  },
  {
   "cell_type": "markdown",
   "metadata": {
    "heading_collapsed": true,
    "hidden": true
   },
   "source": [
    "## Left Join on `products` & `orderdetails`"
   ]
  },
  {
   "cell_type": "markdown",
   "metadata": {
    "hidden": true
   },
   "source": [
    "For all the products we have, get the order information"
   ]
  },
  {
   "cell_type": "code",
   "execution_count": null,
   "metadata": {
    "hidden": true
   },
   "outputs": [],
   "source": [
    "query = \"\"\"\n",
    "select \n",
    "    * \n",
    "from \n",
    "    products as p\n",
    "    left join orderdetails as o\n",
    "        on o.productCode = p.productCode\n",
    "\"\"\"\n",
    "\n",
    "df_innerjoin_products_orderdetails = df_sql(query)"
   ]
  },
  {
   "cell_type": "code",
   "execution_count": null,
   "metadata": {
    "hidden": true
   },
   "outputs": [],
   "source": [
    "# Rename the `productCode` columns since they are repeated\n",
    "old_cols = list(df_innerjoin_products_orderdetails.columns)\n",
    "new_cols = (\n",
    "    [f'p.{c}' for c in old_cols[:9]]\n",
    "    +\n",
    "    [f'o.{c}' for c in old_cols[9:]]\n",
    ")\n",
    "df_innerjoin_products_orderdetails.columns = new_cols"
   ]
  },
  {
   "cell_type": "code",
   "execution_count": null,
   "metadata": {
    "hidden": true
   },
   "outputs": [],
   "source": [
    "df_innerjoin_products_orderdetails.head()"
   ]
  },
  {
   "cell_type": "code",
   "execution_count": null,
   "metadata": {
    "hidden": true
   },
   "outputs": [],
   "source": [
    "df_innerjoin_products_orderdetails.describe()"
   ]
  },
  {
   "cell_type": "markdown",
   "metadata": {
    "heading_collapsed": true,
    "hidden": true
   },
   "source": [
    "### What if there are no orders for that product?"
   ]
  },
  {
   "cell_type": "code",
   "execution_count": null,
   "metadata": {
    "hidden": true
   },
   "outputs": [],
   "source": [
    "df_innerjoin_products_orderdetails[df_innerjoin_products_orderdetails['o.orderNumber'].isnull()]"
   ]
  },
  {
   "cell_type": "code",
   "execution_count": null,
   "metadata": {
    "hidden": true
   },
   "outputs": [],
   "source": [
    "# Does that product show up in the last join?\n",
    "mask = df_join_products_orderdetails['p.productCode'] == 'S18_3233'\n",
    "print(mask.sum())"
   ]
  },
  {
   "cell_type": "code",
   "execution_count": null,
   "metadata": {
    "hidden": true
   },
   "outputs": [],
   "source": [
    "df_join_products_orderdetails[mask]"
   ]
  },
  {
   "cell_type": "markdown",
   "metadata": {
    "heading_collapsed": true,
    "hidden": true
   },
   "source": [
    "## Doing an aggregations"
   ]
  },
  {
   "cell_type": "markdown",
   "metadata": {
    "heading_collapsed": true,
    "hidden": true
   },
   "source": [
    "### With Pandas"
   ]
  },
  {
   "cell_type": "code",
   "execution_count": null,
   "metadata": {
    "hidden": true,
    "scrolled": true
   },
   "outputs": [],
   "source": [
    "(\n",
    "df_join_products_orderdetails\n",
    "    .groupby(['p.productCode'])['p.productName']\n",
    "    .count()\n",
    "    .sort_values()\n",
    ")"
   ]
  },
  {
   "cell_type": "markdown",
   "metadata": {
    "heading_collapsed": true,
    "hidden": true
   },
   "source": [
    "### Same aggregation with SQL"
   ]
  },
  {
   "cell_type": "code",
   "execution_count": null,
   "metadata": {
    "hidden": true
   },
   "outputs": [],
   "source": [
    "query = \"\"\"\n",
    "select\n",
    "    p.productCode as 'p.productCode',\n",
    "    count(*) as product_count\n",
    "from \n",
    "    orderdetails as o\n",
    "    join products as p\n",
    "        on o.productCode = p.productCode\n",
    "group by\n",
    "    p.productCode\n",
    "order by\n",
    "    product_count\n",
    "\"\"\"\n",
    "df = df_sql(query)"
   ]
  }
 ],
 "metadata": {
  "kernelspec": {
   "display_name": "Python 3",
   "language": "python",
   "name": "python3"
  },
  "language_info": {
   "codemirror_mode": {
    "name": "ipython",
    "version": 3
   },
   "file_extension": ".py",
   "mimetype": "text/x-python",
   "name": "python",
   "nbconvert_exporter": "python",
   "pygments_lexer": "ipython3",
   "version": "3.8.5"
  },
  "toc": {
   "base_numbering": 1,
   "nav_menu": {},
   "number_sections": true,
   "sideBar": false,
   "skip_h1_title": false,
   "title_cell": "Table of Contents",
   "title_sidebar": "Contents",
   "toc_cell": true,
   "toc_position": {},
   "toc_section_display": false,
   "toc_window_display": false
  },
  "varInspector": {
   "cols": {
    "lenName": 16,
    "lenType": 16,
    "lenVar": 40
   },
   "kernels_config": {
    "python": {
     "delete_cmd_postfix": "",
     "delete_cmd_prefix": "del ",
     "library": "var_list.py",
     "varRefreshCmd": "print(var_dic_list())"
    },
    "r": {
     "delete_cmd_postfix": ") ",
     "delete_cmd_prefix": "rm(",
     "library": "var_list.r",
     "varRefreshCmd": "cat(var_dic_list()) "
    }
   },
   "types_to_exclude": [
    "module",
    "function",
    "builtin_function_or_method",
    "instance",
    "_Feature"
   ],
   "window_display": false
  }
 },
 "nbformat": 4,
 "nbformat_minor": 2
}
