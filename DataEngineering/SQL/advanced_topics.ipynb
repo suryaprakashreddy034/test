{
 "cells": [
  {
   "cell_type": "markdown",
   "metadata": {
    "toc": true
   },
   "source": [
    "<h1>Table of Contents<span class=\"tocSkip\"></span></h1>\n",
    "<div class=\"toc\"><ul class=\"toc-item\"><li><span><a href=\"#Let's-Get-Some-Data\" data-toc-modified-id=\"Let's-Get-Some-Data-1\"><span class=\"toc-item-num\">1&nbsp;&nbsp;</span>Let's Get Some Data</a></span></li><li><span><a href=\"#Execution-Order\" data-toc-modified-id=\"Execution-Order-2\"><span class=\"toc-item-num\">2&nbsp;&nbsp;</span>Execution Order</a></span></li><li><span><a href=\"#Subqueries\" data-toc-modified-id=\"Subqueries-3\"><span class=\"toc-item-num\">3&nbsp;&nbsp;</span>Subqueries</a></span></li></ul></div>"
   ]
  },
  {
   "cell_type": "markdown",
   "metadata": {
    "heading_collapsed": true
   },
   "source": [
    "# Let's Get Some Data"
   ]
  },
  {
   "cell_type": "code",
   "execution_count": null,
   "metadata": {
    "ExecuteTime": {
     "end_time": "2019-09-18T17:50:43.422384Z",
     "start_time": "2019-09-18T17:50:43.192308Z"
    },
    "hidden": true
   },
   "outputs": [],
   "source": [
    "import victors_sql_functions as vsf"
   ]
  },
  {
   "cell_type": "code",
   "execution_count": null,
   "metadata": {
    "ExecuteTime": {
     "end_time": "2019-09-18T17:50:59.494340Z",
     "start_time": "2019-09-18T17:50:59.491530Z"
    },
    "hidden": true
   },
   "outputs": [],
   "source": [
    "v = vsf.VictorSql('data.sqlite')"
   ]
  },
  {
   "cell_type": "markdown",
   "metadata": {
    "hidden": true
   },
   "source": [
    "![](images/database_schema.png)"
   ]
  },
  {
   "cell_type": "code",
   "execution_count": null,
   "metadata": {
    "ExecuteTime": {
     "end_time": "2019-09-18T17:51:19.313096Z",
     "start_time": "2019-09-18T17:51:19.308910Z"
    },
    "hidden": true
   },
   "outputs": [],
   "source": [
    "all_tables = v.get_tables()"
   ]
  },
  {
   "cell_type": "code",
   "execution_count": null,
   "metadata": {
    "ExecuteTime": {
     "end_time": "2019-09-18T17:51:44.183491Z",
     "start_time": "2019-09-18T17:51:44.171822Z"
    },
    "hidden": true
   },
   "outputs": [],
   "source": [
    "all_tables"
   ]
  },
  {
   "cell_type": "code",
   "execution_count": null,
   "metadata": {
    "ExecuteTime": {
     "end_time": "2019-09-18T17:52:32.729733Z",
     "start_time": "2019-09-18T17:52:32.701662Z"
    },
    "hidden": true
   },
   "outputs": [],
   "source": [
    "data = {}\n",
    "for table_name in all_tables.name:\n",
    "    query = f'select * from {table_name}'\n",
    "    data[table_name] = v.sql_to_df(query)"
   ]
  },
  {
   "cell_type": "code",
   "execution_count": null,
   "metadata": {
    "ExecuteTime": {
     "end_time": "2019-09-18T17:53:25.168632Z",
     "start_time": "2019-09-18T17:53:24.742957Z"
    },
    "hidden": true,
    "scrolled": false
   },
   "outputs": [],
   "source": [
    "for table_name,table_df in data.items():\n",
    "    display(f'TABLE NAME: {table_name}')\n",
    "    display(table_df.head())\n",
    "    display(table_df.describe())\n",
    "    print()"
   ]
  },
  {
   "cell_type": "markdown",
   "metadata": {
    "heading_collapsed": true
   },
   "source": [
    "# Execution Order"
   ]
  },
  {
   "cell_type": "markdown",
   "metadata": {
    "hidden": true
   },
   "source": [
    "```SQL\n",
    "SELECT \n",
    "    COUNT(table2.col2) AS my_new_count\n",
    "    ,table1.col2\n",
    "FROM\n",
    "    table1\n",
    "    JOIN table2\n",
    "        ON table1.col1 = table2.col2\n",
    "WHERE\n",
    "    table1.col1 > 0\n",
    "GROUP BY\n",
    "    table2.col1\n",
    "```"
   ]
  },
  {
   "cell_type": "markdown",
   "metadata": {
    "hidden": true
   },
   "source": [
    "1. `From`\n",
    "2. `Where`\n",
    "3. `Group By`\n",
    "4. `Having`\n",
    "5. `Select`\n",
    "6. `Order By`\n",
    "7. `Limit`"
   ]
  },
  {
   "cell_type": "markdown",
   "metadata": {
    "heading_collapsed": true
   },
   "source": [
    "# Subqueries"
   ]
  },
  {
   "cell_type": "markdown",
   "metadata": {
    "hidden": true
   },
   "source": [
    "Think of making a new table to be used"
   ]
  },
  {
   "cell_type": "code",
   "execution_count": null,
   "metadata": {
    "ExecuteTime": {
     "end_time": "2019-09-18T16:52:31.002779Z",
     "start_time": "2019-09-18T16:52:30.991275Z"
    },
    "hidden": true
   },
   "outputs": [],
   "source": [
    "leader_query = '''\n",
    "SELECT \n",
    "    leaders.employeeNumber AS leaderNumber\n",
    "    ,leaders.lastName AS leaderLastName    \n",
    "    ,leaders.firstName AS leaderFirstName    \n",
    "    ,employees.employeeNumber AS subordinateNumber\n",
    "    ,employees.lastName AS subordinateLastName\n",
    "    ,employees.firstName AS subordinateFirstName\n",
    "FROM\n",
    "    employees\n",
    "    LEFT JOIN employees AS leaders\n",
    "        ON employees.employeeNumber = leaders.reportsTo\n",
    "'''\n",
    "\n",
    "new_df = v.sql_to_df(leader_query)\n",
    "new_df.head()"
   ]
  },
  {
   "cell_type": "code",
   "execution_count": null,
   "metadata": {
    "ExecuteTime": {
     "end_time": "2019-09-18T16:57:30.892073Z",
     "start_time": "2019-09-18T16:57:30.883500Z"
    },
    "hidden": true
   },
   "outputs": [],
   "source": [
    "combined_query = f'''\n",
    "SELECT \n",
    "    leaders.leaderLastName AS LastName\n",
    "    ,leaders.subordinateLastName as SubordinateLastName\n",
    "FROM\n",
    "    -- Subquery\n",
    "    ({leader_query}) AS leaders\n",
    "    LEFT JOIN customers\n",
    "        ON customers.salesRepEmployeeNumber = leaders.leaderNumber\n",
    "'''\n",
    "\n",
    "new_df = v.sql_to_df(combined_query)\n",
    "new_df.head()"
   ]
  }
 ],
 "metadata": {
  "kernelspec": {
   "display_name": "Python 3",
   "language": "python",
   "name": "python3"
  },
  "language_info": {
   "codemirror_mode": {
    "name": "ipython",
    "version": 3
   },
   "file_extension": ".py",
   "mimetype": "text/x-python",
   "name": "python",
   "nbconvert_exporter": "python",
   "pygments_lexer": "ipython3",
   "version": "3.8.5"
  },
  "toc": {
   "base_numbering": 1,
   "nav_menu": {},
   "number_sections": true,
   "sideBar": false,
   "skip_h1_title": false,
   "title_cell": "Table of Contents",
   "title_sidebar": "Contents",
   "toc_cell": true,
   "toc_position": {},
   "toc_section_display": false,
   "toc_window_display": false
  },
  "varInspector": {
   "cols": {
    "lenName": 16,
    "lenType": 16,
    "lenVar": 40
   },
   "kernels_config": {
    "python": {
     "delete_cmd_postfix": "",
     "delete_cmd_prefix": "del ",
     "library": "var_list.py",
     "varRefreshCmd": "print(var_dic_list())"
    },
    "r": {
     "delete_cmd_postfix": ") ",
     "delete_cmd_prefix": "rm(",
     "library": "var_list.r",
     "varRefreshCmd": "cat(var_dic_list()) "
    }
   },
   "types_to_exclude": [
    "module",
    "function",
    "builtin_function_or_method",
    "instance",
    "_Feature"
   ],
   "window_display": false
  }
 },
 "nbformat": 4,
 "nbformat_minor": 2
}
