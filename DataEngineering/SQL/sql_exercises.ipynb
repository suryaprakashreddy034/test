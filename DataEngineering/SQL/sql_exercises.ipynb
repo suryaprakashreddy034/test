{
 "cells": [
  {
   "cell_type": "markdown",
   "metadata": {
    "toc": true
   },
   "source": [
    "<h1>Table of Contents<span class=\"tocSkip\"></span></h1>\n",
    "<div class=\"toc\"><ul class=\"toc-item\"><li><span><a href=\"#Exercises\" data-toc-modified-id=\"Exercises-1\"><span class=\"toc-item-num\">1&nbsp;&nbsp;</span>Exercises</a></span><ul class=\"toc-item\"><li><span><a href=\"#Query-Exercise-1\" data-toc-modified-id=\"Query-Exercise-1-1.1\"><span class=\"toc-item-num\">1.1&nbsp;&nbsp;</span>Query Exercise 1</a></span></li><li><span><a href=\"#Query-Exercise-2\" data-toc-modified-id=\"Query-Exercise-2-1.2\"><span class=\"toc-item-num\">1.2&nbsp;&nbsp;</span>Query Exercise 2</a></span></li><li><span><a href=\"#Query-Exercise-3---Students-to-do-on-their-own\" data-toc-modified-id=\"Query-Exercise-3---Students-to-do-on-their-own-1.3\"><span class=\"toc-item-num\">1.3&nbsp;&nbsp;</span>Query Exercise 3 - Students to do on their own</a></span></li><li><span><a href=\"#Query-Exercise-4\" data-toc-modified-id=\"Query-Exercise-4-1.4\"><span class=\"toc-item-num\">1.4&nbsp;&nbsp;</span>Query Exercise 4</a></span></li><li><span><a href=\"#Query-Exercise-5\" data-toc-modified-id=\"Query-Exercise-5-1.5\"><span class=\"toc-item-num\">1.5&nbsp;&nbsp;</span>Query Exercise 5</a></span></li><li><span><a href=\"#Great!-It's-working.-Let's-add-some-group-by-to-remove-duplicates!\" data-toc-modified-id=\"Great!-It's-working.-Let's-add-some-group-by-to-remove-duplicates!-1.6\"><span class=\"toc-item-num\">1.6&nbsp;&nbsp;</span>Great! It's working. Let's add some group by to remove duplicates!</a></span></li></ul></li></ul></div>"
   ]
  },
  {
   "cell_type": "markdown",
   "metadata": {
    "heading_collapsed": true
   },
   "source": [
    "# Exercises"
   ]
  },
  {
   "cell_type": "markdown",
   "metadata": {
    "hidden": true
   },
   "source": [
    "We'll walk through some of these and aim to have you all do them yourself!"
   ]
  },
  {
   "cell_type": "markdown",
   "metadata": {
    "heading_collapsed": true,
    "hidden": true
   },
   "source": [
    "## Query Exercise 1"
   ]
  },
  {
   "cell_type": "markdown",
   "metadata": {
    "hidden": true
   },
   "source": [
    "Create the following table using the customers table and the orders table\n",
    "\n",
    "<img src=\"images/query1.png\" width=\"500\"/>"
   ]
  },
  {
   "cell_type": "code",
   "execution_count": null,
   "metadata": {
    "hidden": true
   },
   "outputs": [],
   "source": [
    "sql_to_df('''\n",
    "SELECT * \n",
    "FROM customers\n",
    "LIMIT 2\n",
    "''')"
   ]
  },
  {
   "cell_type": "code",
   "execution_count": null,
   "metadata": {
    "hidden": true
   },
   "outputs": [],
   "source": [
    "sql_to_df('''\n",
    "SELECT * \n",
    "FROM orders\n",
    "LIMIT 2\n",
    "''')"
   ]
  },
  {
   "cell_type": "code",
   "execution_count": null,
   "metadata": {
    "hidden": true
   },
   "outputs": [],
   "source": [
    "query = '''\n",
    "SELECT c.customerName, c.phone, c.state, o.orderDate\n",
    "FROM customers as c\n",
    "JOIN orders as o\n",
    "USING (customerNumber)\n",
    "'''"
   ]
  },
  {
   "cell_type": "code",
   "execution_count": null,
   "metadata": {
    "hidden": true
   },
   "outputs": [],
   "source": [
    "sql_to_df(query).head()"
   ]
  },
  {
   "cell_type": "code",
   "execution_count": null,
   "metadata": {
    "hidden": true
   },
   "outputs": [],
   "source": [
    "# First look at the customers dataframe \n",
    "\n",
    "\n",
    "# Then look at the orders dataframe"
   ]
  },
  {
   "cell_type": "markdown",
   "metadata": {
    "hidden": true
   },
   "source": [
    "<details>\n",
    "    <summary>Query 1 - Solution</summary>\n",
    "    Query:\n",
    "    \n",
    "```SQL\n",
    "SELECT c.customerName, c.phone, c.state, o.orderDate FROM\n",
    "customers as c\n",
    "JOIN orders as o using (customerNumber);\n",
    "```\n",
    "</details>"
   ]
  },
  {
   "cell_type": "code",
   "execution_count": null,
   "metadata": {
    "hidden": true
   },
   "outputs": [],
   "source": [
    "query = \"\"\"SELECT\n",
    "        \"\"\""
   ]
  },
  {
   "cell_type": "code",
   "execution_count": null,
   "metadata": {
    "hidden": true
   },
   "outputs": [],
   "source": [
    "join_1 = pd.read_sql(query, conn)\n",
    "join_1.head()"
   ]
  },
  {
   "cell_type": "markdown",
   "metadata": {
    "heading_collapsed": true,
    "hidden": true
   },
   "source": [
    "## Query Exercise 2"
   ]
  },
  {
   "cell_type": "markdown",
   "metadata": {
    "hidden": true
   },
   "source": [
    "Create a query that results in a table with the every customer number for an employee along with the employee name and number.\n",
    "\n",
    "Ex:\n",
    "\n",
    "<img src=\"images/query2.png\" width=\"500\"/>"
   ]
  },
  {
   "cell_type": "code",
   "execution_count": null,
   "metadata": {
    "hidden": true
   },
   "outputs": [],
   "source": [
    "# Work here\n",
    "sql_to_df('''\n",
    "SELECT\n",
    "    *\n",
    "From \n",
    "    customers\n",
    "''')"
   ]
  },
  {
   "cell_type": "code",
   "execution_count": null,
   "metadata": {
    "hidden": true
   },
   "outputs": [],
   "source": [
    "sql_to_df('''\n",
    "SELECT *\n",
    "from employees\n",
    "''')"
   ]
  },
  {
   "cell_type": "code",
   "execution_count": null,
   "metadata": {
    "hidden": true
   },
   "outputs": [],
   "source": [
    "query = \"\"\"\n",
    "SELECT\n",
    "    e.firstName\n",
    "    ,e.lastName\n",
    "    ,e.employeeNumber\n",
    "    ,c.customerNumber\n",
    "FROM\n",
    "    employees as e\n",
    "    join customers as c\n",
    "        on e.employeeNumber = c.salesRepEmployeeNumber\n",
    "        \"\"\"\n",
    "\n",
    "# pd.read_sql(query, conn).head()\n",
    "sql_to_df(query).head()"
   ]
  },
  {
   "cell_type": "markdown",
   "metadata": {
    "hidden": true
   },
   "source": [
    "<details>\n",
    "    <summary> Query 2 - Solution</summary>\n",
    "    Query:\n",
    "    \n",
    "```SQL\n",
    "select e.firstname, e.lastname, e.employeenumber, c.customerNumber\n",
    "from employees as e\n",
    "join customers as c\n",
    "on e.employeenumber = c.salesrepemployeenumber;\n",
    "```\n",
    "    \n",
    "</details>"
   ]
  },
  {
   "cell_type": "code",
   "execution_count": null,
   "metadata": {
    "hidden": true
   },
   "outputs": [],
   "source": [
    "# Now let's take this and incorporate the next table orders\n",
    "orders_df.head(1)"
   ]
  },
  {
   "cell_type": "markdown",
   "metadata": {
    "heading_collapsed": true,
    "hidden": true
   },
   "source": [
    "## Query Exercise 3 - Students to do on their own"
   ]
  },
  {
   "cell_type": "markdown",
   "metadata": {
    "hidden": true
   },
   "source": [
    "Create a query that results in a table with every customer name, order date, where status is disputed (you will need the customers and orders table to complete this task)\n",
    "\n",
    "Ex:\n",
    "\n",
    "<img src=\"images/query_3.png\" width=\"500\"/>"
   ]
  },
  {
   "cell_type": "code",
   "execution_count": null,
   "metadata": {
    "hidden": true
   },
   "outputs": [],
   "source": [
    "# Work here"
   ]
  },
  {
   "cell_type": "code",
   "execution_count": null,
   "metadata": {
    "hidden": true
   },
   "outputs": [],
   "source": [
    "query = \"\"\"\n",
    "        SELECT\n",
    "        \"\"\"\n",
    "\n",
    "pd.read_sql(query, conn).head()"
   ]
  },
  {
   "cell_type": "markdown",
   "metadata": {
    "hidden": true
   },
   "source": [
    "<details>\n",
    "    <summary> Query 3 - Solution</summary>\n",
    "    Query:\n",
    "    \n",
    "```SQL\n",
    "SELECT c.customerName, o.status, o.orderDate\n",
    "FROM customers c\n",
    "JOIN orders o\n",
    "USING (customerNumber)\n",
    "WHERE status = \"Disputed\"\n",
    "```\n",
    "    \n",
    "</details>"
   ]
  },
  {
   "cell_type": "markdown",
   "metadata": {
    "heading_collapsed": true,
    "hidden": true
   },
   "source": [
    "## Query Exercise 4"
   ]
  },
  {
   "cell_type": "markdown",
   "metadata": {
    "hidden": true
   },
   "source": [
    "Write a query that results in the following:\n",
    "\n",
    "Employee First and Last Name, order number and each product code for that order. \n",
    "\n",
    "*There should be a row for each product code*\n",
    "\n",
    "Screenshot:\n",
    "\n",
    "<img src=\"images/query4.png\" width=\"500\"/>"
   ]
  },
  {
   "cell_type": "code",
   "execution_count": null,
   "metadata": {
    "hidden": true
   },
   "outputs": [],
   "source": [
    "# work here\n",
    "query = \"\"\"\n",
    "        select\n",
    "        \"\"\"\n",
    "\n",
    "pd.read_sql(query, conn).head(2)"
   ]
  },
  {
   "cell_type": "markdown",
   "metadata": {
    "hidden": true
   },
   "source": [
    "<details>\n",
    "    <summary>Query 4 Solution</summary>\n",
    "    \n",
    "    Query:\n",
    "    \n",
    "```SQL\n",
    "    select e.firstname, e.lastname, o.orderNumber, od.productCode\n",
    "    from employees as e\n",
    "    join customers as c\n",
    "    on e.employeenumber = c.salesrepemployeenumber\n",
    "    join orders as o\n",
    "    on o.customerNumber = c.customerNumber\n",
    "    join orderdetails as od\n",
    "    on od.orderNumber = o.orderNumber;\n",
    "```\n",
    "        \n",
    "</details>"
   ]
  },
  {
   "cell_type": "markdown",
   "metadata": {
    "heading_collapsed": true,
    "hidden": true
   },
   "source": [
    "## Query Exercise 5"
   ]
  },
  {
   "cell_type": "markdown",
   "metadata": {
    "hidden": true
   },
   "source": [
    "Write a query that results in the following:\n",
    "\n",
    "Employee First and Last Name and each product name they sold, add an alias to match the image below\n",
    "\n",
    "*There should be a row for each product name*\n",
    "\n",
    "Screenshot:\n",
    "\n",
    "<img src=\"images/query5.png\" width=\"500\"/>"
   ]
  },
  {
   "cell_type": "code",
   "execution_count": null,
   "metadata": {
    "hidden": true
   },
   "outputs": [],
   "source": [
    "# work here\n",
    "query = \"\"\"\n",
    "        select\n",
    "        \"\"\"\n",
    "\n",
    "pd.read_sql(query, conn).head(2)"
   ]
  },
  {
   "cell_type": "markdown",
   "metadata": {
    "hidden": true
   },
   "source": [
    "<details>\n",
    "    <summary>Query 5 Solution</summary>\n",
    "    \n",
    "    Query:\n",
    "    \n",
    "```SQL\n",
    "select e.firstname, e.lastname, p.productName\n",
    "from employees as e\n",
    "join customers as c\n",
    "on e.employeenumber = c.salesrepemployeenumber\n",
    "join orders as o\n",
    "on o.customerNumber = c.customerNumber\n",
    "join orderdetails as od\n",
    "on od.orderNumber = o.orderNumber\n",
    "join products as p\n",
    "on p.productCode = od.productCode;\n",
    "```\n",
    "        \n",
    "</details>"
   ]
  },
  {
   "cell_type": "markdown",
   "metadata": {
    "heading_collapsed": true,
    "hidden": true
   },
   "source": [
    "## Great! It's working. Let's add some group by to remove duplicates!"
   ]
  },
  {
   "cell_type": "markdown",
   "metadata": {
    "hidden": true
   },
   "source": [
    "**Add aliases to result in the following**\n",
    "\n",
    "<img src=\"images/query5.png\" width=\"500\"/>"
   ]
  },
  {
   "cell_type": "code",
   "execution_count": null,
   "metadata": {
    "hidden": true
   },
   "outputs": [],
   "source": [
    "# remember the alias' from above\n",
    "\n",
    "query = '''SELECT ...'''\n",
    "\n",
    "final_df = pd.read_sql(query, conn)\n",
    "final_df.head(2)"
   ]
  },
  {
   "cell_type": "markdown",
   "metadata": {
    "hidden": true
   },
   "source": [
    "<details>\n",
    "<summary>Final Query Solution</summary>\n",
    "\n",
    "    Query:\n",
    "    \n",
    "```SQL\n",
    "select e.firstname as fn, e.lastname as ln, p.productName as pn\n",
    "from employees as e\n",
    "join customers as c\n",
    "on e.employeenumber = c.salesrepemployeenumber\n",
    "join orders as o\n",
    "on o.customerNumber = c.customerNumber\n",
    "join orderdetails as od\n",
    "on od.orderNumber = o.orderNumber\n",
    "join products as p\n",
    "on p.productCode = od.productCode\n",
    "group by fn, ln, pn;\n",
    "\n",
    "```\n",
    "\n",
    "</details>"
   ]
  }
 ],
 "metadata": {
  "kernelspec": {
   "display_name": "Python 3",
   "language": "python",
   "name": "python3"
  },
  "language_info": {
   "codemirror_mode": {
    "name": "ipython",
    "version": 3
   },
   "file_extension": ".py",
   "mimetype": "text/x-python",
   "name": "python",
   "nbconvert_exporter": "python",
   "pygments_lexer": "ipython3",
   "version": "3.8.5"
  },
  "toc": {
   "base_numbering": 1,
   "nav_menu": {},
   "number_sections": true,
   "sideBar": false,
   "skip_h1_title": false,
   "title_cell": "Table of Contents",
   "title_sidebar": "Contents",
   "toc_cell": true,
   "toc_position": {
    "height": "47px",
    "left": "1210px",
    "top": "110px",
    "width": "210px"
   },
   "toc_section_display": false,
   "toc_window_display": true
  },
  "varInspector": {
   "cols": {
    "lenName": 16,
    "lenType": 16,
    "lenVar": 40
   },
   "kernels_config": {
    "python": {
     "delete_cmd_postfix": "",
     "delete_cmd_prefix": "del ",
     "library": "var_list.py",
     "varRefreshCmd": "print(var_dic_list())"
    },
    "r": {
     "delete_cmd_postfix": ") ",
     "delete_cmd_prefix": "rm(",
     "library": "var_list.r",
     "varRefreshCmd": "cat(var_dic_list()) "
    }
   },
   "types_to_exclude": [
    "module",
    "function",
    "builtin_function_or_method",
    "instance",
    "_Feature"
   ],
   "window_display": false
  }
 },
 "nbformat": 4,
 "nbformat_minor": 2
}
