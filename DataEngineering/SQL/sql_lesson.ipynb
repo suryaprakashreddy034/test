{
 "cells": [
  {
   "cell_type": "markdown",
   "metadata": {
    "toc": true
   },
   "source": [
    "<h1>Table of Contents<span class=\"tocSkip\"></span></h1>\n",
    "<div class=\"toc\"><ul class=\"toc-item\"><li><span><a href=\"#Lesson-Structure\" data-toc-modified-id=\"Lesson-Structure-1\"><span class=\"toc-item-num\">1&nbsp;&nbsp;</span>Lesson Structure</a></span><ul class=\"toc-item\"><li><span><a href=\"#Questions\" data-toc-modified-id=\"Questions-1.1\"><span class=\"toc-item-num\">1.1&nbsp;&nbsp;</span>Questions</a></span></li><li><span><a href=\"#Outcomes\" data-toc-modified-id=\"Outcomes-1.2\"><span class=\"toc-item-num\">1.2&nbsp;&nbsp;</span>Outcomes</a></span></li><li><span><a href=\"#Objectives\" data-toc-modified-id=\"Objectives-1.3\"><span class=\"toc-item-num\">1.3&nbsp;&nbsp;</span>Objectives</a></span></li><li><span><a href=\"#Outline\" data-toc-modified-id=\"Outline-1.4\"><span class=\"toc-item-num\">1.4&nbsp;&nbsp;</span>Outline</a></span></li></ul></li><li><span><a href=\"#Introduction-SQL\" data-toc-modified-id=\"Introduction-SQL-2\"><span class=\"toc-item-num\">2&nbsp;&nbsp;</span>Introduction SQL</a></span></li><li><span><a href=\"#Demonstrating-SQLite-&amp;-Python\" data-toc-modified-id=\"Demonstrating-SQLite-&amp;-Python-3\"><span class=\"toc-item-num\">3&nbsp;&nbsp;</span>Demonstrating SQLite &amp; Python</a></span><ul class=\"toc-item\"><li><span><a href=\"#Connecting-to-our-sqlite-db-using-sqlite3\" data-toc-modified-id=\"Connecting-to-our-sqlite-db-using-sqlite3-3.1\"><span class=\"toc-item-num\">3.1&nbsp;&nbsp;</span>Connecting to our sqlite db using sqlite3</a></span></li><li><span><a href=\"#Listing-the-tables-in-our-db\" data-toc-modified-id=\"Listing-the-tables-in-our-db-3.2\"><span class=\"toc-item-num\">3.2&nbsp;&nbsp;</span>Listing the tables in our db</a></span></li><li><span><a href=\"#Now--select-everything-from-the-employees-table-just-to-get-a-feel-for-it\" data-toc-modified-id=\"Now--select-everything-from-the-employees-table-just-to-get-a-feel-for-it-3.3\"><span class=\"toc-item-num\">3.3&nbsp;&nbsp;</span>Now  select everything from the employees table just to get a feel for it</a></span></li></ul></li><li><span><a href=\"#More-Complexity\" data-toc-modified-id=\"More-Complexity-4\"><span class=\"toc-item-num\">4&nbsp;&nbsp;</span>More Complexity</a></span><ul class=\"toc-item\"><li><span><a href=\"#I'm-pretty-lazy-and-I-don't-want-to-type...\" data-toc-modified-id=\"I'm-pretty-lazy-and-I-don't-want-to-type...-4.1\"><span class=\"toc-item-num\">4.1&nbsp;&nbsp;</span>I'm pretty lazy and I don't want to type...</a></span></li><li><span><a href=\"#Why-not-just-load-the-full-results-directly-into-a-DataFrame?\" data-toc-modified-id=\"Why-not-just-load-the-full-results-directly-into-a-DataFrame?-4.2\"><span class=\"toc-item-num\">4.2&nbsp;&nbsp;</span>Why not just load the full results directly into a DataFrame?</a></span></li><li><span><a href=\"#Specific-results-(and-order)-from-query\" data-toc-modified-id=\"Specific-results-(and-order)-from-query-4.3\"><span class=\"toc-item-num\">4.3&nbsp;&nbsp;</span>Specific results (and order) from query</a></span></li><li><span><a href=\"#Queries-with-joins\" data-toc-modified-id=\"Queries-with-joins-4.4\"><span class=\"toc-item-num\">4.4&nbsp;&nbsp;</span>Queries with joins</a></span></li><li><span><a href=\"#Want-More-Joins?\" data-toc-modified-id=\"Want-More-Joins?-4.5\"><span class=\"toc-item-num\">4.5&nbsp;&nbsp;</span>Want More Joins?</a></span></li></ul></li><li><span><a href=\"#Exercises\" data-toc-modified-id=\"Exercises-5\"><span class=\"toc-item-num\">5&nbsp;&nbsp;</span>Exercises</a></span></li></ul></div>"
   ]
  },
  {
   "cell_type": "markdown",
   "metadata": {
    "heading_collapsed": true
   },
   "source": [
    "# Lesson Structure"
   ]
  },
  {
   "cell_type": "markdown",
   "metadata": {
    "heading_collapsed": true,
    "hidden": true
   },
   "source": [
    "## Questions"
   ]
  },
  {
   "cell_type": "markdown",
   "metadata": {
    "heading_collapsed": true,
    "hidden": true
   },
   "source": [
    "## Outcomes"
   ]
  },
  {
   "cell_type": "markdown",
   "metadata": {
    "hidden": true
   },
   "source": [
    "YWBAT\n",
    "- build functions to perform queries\n",
    "- execute a query using multiple joins"
   ]
  },
  {
   "cell_type": "markdown",
   "metadata": {
    "heading_collapsed": true,
    "hidden": true
   },
   "source": [
    "## Objectives"
   ]
  },
  {
   "cell_type": "markdown",
   "metadata": {
    "hidden": true
   },
   "source": [
    "- create a Pandas DataFrame from a query using sqlite3\n",
    "- compare and contrast using a dataframe vs using the results from a query\n",
    "- write a single join query\n",
    "- write a multiple join query"
   ]
  },
  {
   "cell_type": "markdown",
   "metadata": {
    "heading_collapsed": true,
    "hidden": true
   },
   "source": [
    "## Outline"
   ]
  },
  {
   "cell_type": "markdown",
   "metadata": {
    "hidden": true
   },
   "source": [
    "* Take Questions\n",
    "* Intro to SQL\n",
    "* Connect to our sqlite db\n",
    "* Discussion on reading SQL database as a dataframe\n",
    "* More complex queries (joins)\n",
    "* Practice various queries\n",
    "* Complete a query with a join\n",
    "* Complete a query using multiple joins\n",
    "* Wrap up"
   ]
  },
  {
   "cell_type": "markdown",
   "metadata": {
    "heading_collapsed": true
   },
   "source": [
    "# Introduction SQL"
   ]
  },
  {
   "cell_type": "markdown",
   "metadata": {
    "hidden": true
   },
   "source": [
    "[An Introduction to SQL](intro_to_sql.ipynb)"
   ]
  },
  {
   "cell_type": "markdown",
   "metadata": {
    "heading_collapsed": true
   },
   "source": [
    "# Demonstrating SQLite & Python"
   ]
  },
  {
   "cell_type": "code",
   "execution_count": null,
   "metadata": {
    "hidden": true
   },
   "outputs": [],
   "source": [
    "import pandas as pd\n",
    "import sqlite3"
   ]
  },
  {
   "cell_type": "code",
   "execution_count": null,
   "metadata": {
    "hidden": true
   },
   "outputs": [],
   "source": [
    "ls"
   ]
  },
  {
   "cell_type": "markdown",
   "metadata": {
    "heading_collapsed": true,
    "hidden": true
   },
   "source": [
    "## Connecting to our sqlite db using sqlite3"
   ]
  },
  {
   "cell_type": "code",
   "execution_count": null,
   "metadata": {
    "hidden": true
   },
   "outputs": [],
   "source": [
    "conn = sqlite3.connect('data.sqlite')\n",
    "cursor = conn.cursor()"
   ]
  },
  {
   "cell_type": "markdown",
   "metadata": {
    "heading_collapsed": true,
    "hidden": true
   },
   "source": [
    "## Listing the tables in our db"
   ]
  },
  {
   "cell_type": "code",
   "execution_count": null,
   "metadata": {
    "hidden": true
   },
   "outputs": [],
   "source": [
    "# table_names to be a list of my table_names\n",
    "query = \"SELECT name FROM sqlite_master WHERE type='table';\"\n",
    "res = cursor.execute(query).fetchall()\n",
    "print(res) # Notice these are tuples, let's extract only the names in the next cell"
   ]
  },
  {
   "cell_type": "code",
   "execution_count": null,
   "metadata": {
    "hidden": true
   },
   "outputs": [],
   "source": [
    "res[0]"
   ]
  },
  {
   "cell_type": "code",
   "execution_count": null,
   "metadata": {
    "hidden": true
   },
   "outputs": [],
   "source": [
    "table_names = [r[0] for r in res]\n",
    "table_names"
   ]
  },
  {
   "cell_type": "markdown",
   "metadata": {
    "heading_collapsed": true,
    "hidden": true
   },
   "source": [
    "## Now  select everything from the employees table just to get a feel for it"
   ]
  },
  {
   "cell_type": "code",
   "execution_count": null,
   "metadata": {
    "hidden": true,
    "scrolled": true
   },
   "outputs": [],
   "source": [
    "query = 'select * from employees limit 5;'\n",
    "res = cursor.execute(query).fetchall()\n",
    "res"
   ]
  },
  {
   "cell_type": "markdown",
   "metadata": {
    "heading_collapsed": true
   },
   "source": [
    "# More Complexity"
   ]
  },
  {
   "cell_type": "markdown",
   "metadata": {
    "heading_collapsed": true,
    "hidden": true
   },
   "source": [
    "## I'm pretty lazy and I don't want to type..."
   ]
  },
  {
   "cell_type": "markdown",
   "metadata": {
    "hidden": true
   },
   "source": [
    "Think how much you have to type to get relevant info from the results of a new query"
   ]
  },
  {
   "cell_type": "code",
   "execution_count": null,
   "metadata": {
    "hidden": true
   },
   "outputs": [],
   "source": [
    "# Write the query\n",
    "query = 'select * from offices;'\n",
    "\n",
    "# Execute the query\n",
    "cursor.execute(query)\n",
    "\n",
    "# fetch one or all results\n",
    "# result = cursor.fetchone()\n",
    "results = cursor.fetchall()"
   ]
  },
  {
   "cell_type": "code",
   "execution_count": null,
   "metadata": {
    "hidden": true,
    "scrolled": true
   },
   "outputs": [],
   "source": [
    "display(results)"
   ]
  },
  {
   "cell_type": "code",
   "execution_count": null,
   "metadata": {
    "hidden": true
   },
   "outputs": [],
   "source": [
    "# And if we want to see the descriptions\n",
    "cursor.description"
   ]
  },
  {
   "cell_type": "markdown",
   "metadata": {
    "hidden": true
   },
   "source": [
    "If only there was a better way!"
   ]
  },
  {
   "cell_type": "markdown",
   "metadata": {
    "hidden": true
   },
   "source": [
    "Wait, we have **functions**!!! → If you have to do it more than once, make a function!"
   ]
  },
  {
   "cell_type": "code",
   "execution_count": null,
   "metadata": {
    "hidden": true
   },
   "outputs": [],
   "source": [
    "def sql_with_cols(query, cursor=cursor):\n",
    "  '''\n",
    "  Gives me the full result (with columns)\n",
    "  '''\n",
    "  result = cursor.execute(query).fetchall()\n",
    "  cols = tuple([description[0] for description in cursor.description])\n",
    "  \n",
    "  full_result = [cols] + result[:] \n",
    "  return full_result"
   ]
  },
  {
   "cell_type": "code",
   "execution_count": null,
   "metadata": {
    "hidden": true
   },
   "outputs": [],
   "source": [
    "results = sql_with_cols(\n",
    "    'select * from employees'\n",
    ")"
   ]
  },
  {
   "cell_type": "code",
   "execution_count": null,
   "metadata": {
    "hidden": true
   },
   "outputs": [],
   "source": [
    "results"
   ]
  },
  {
   "cell_type": "code",
   "execution_count": null,
   "metadata": {
    "hidden": true
   },
   "outputs": [],
   "source": [
    "display(\"Description: \", results[0])"
   ]
  },
  {
   "cell_type": "code",
   "execution_count": null,
   "metadata": {
    "hidden": true,
    "scrolled": true
   },
   "outputs": [],
   "source": [
    "display(\"Items: \", results[1:])"
   ]
  },
  {
   "cell_type": "code",
   "execution_count": null,
   "metadata": {
    "hidden": true
   },
   "outputs": [],
   "source": [
    "# Now we can put these results into a DataFrame\n",
    "def sql_to_df(query, cursor=cursor):\n",
    "    '''\n",
    "    Create a DataFrame directly from a SQL query.\n",
    "    '''\n",
    "    results = sql_with_cols(query, cursor)\n",
    "    return pd.DataFrame(columns=results[0], data=results[1:])"
   ]
  },
  {
   "cell_type": "code",
   "execution_count": null,
   "metadata": {
    "hidden": true
   },
   "outputs": [],
   "source": [
    "df = sql_to_df('select * from employees')\n",
    "df.head()"
   ]
  },
  {
   "cell_type": "markdown",
   "metadata": {
    "heading_collapsed": true,
    "hidden": true
   },
   "source": [
    "## Why not just load the full results directly into a DataFrame?"
   ]
  },
  {
   "cell_type": "markdown",
   "metadata": {
    "hidden": true
   },
   "source": [
    "> What are the pros and cons of loading a results from a SQL query into a DataFrame?"
   ]
  },
  {
   "cell_type": "markdown",
   "metadata": {
    "hidden": true
   },
   "source": [
    "- Pros\n",
    "    - Easier look at & manipulate\n",
    "\n",
    "- Cons\n",
    "    - too much data "
   ]
  },
  {
   "cell_type": "markdown",
   "metadata": {
    "heading_collapsed": true,
    "hidden": true
   },
   "source": [
    "## Specific results (and order) from query"
   ]
  },
  {
   "cell_type": "code",
   "execution_count": null,
   "metadata": {
    "hidden": true
   },
   "outputs": [],
   "source": [
    "# Select specific columns from a table\n",
    "df = sql_to_df('''\n",
    "    SELECT\n",
    "        firstName as 'First Name',\n",
    "        lastName as 'Last Name',\n",
    "        jobTitle as 'Position',\n",
    "        email\n",
    "    FROM\n",
    "        employees\n",
    "''')\n",
    "\n",
    "df.head()"
   ]
  },
  {
   "cell_type": "markdown",
   "metadata": {
    "heading_collapsed": true,
    "hidden": true
   },
   "source": [
    "##  Queries with joins"
   ]
  },
  {
   "cell_type": "markdown",
   "metadata": {
    "hidden": true
   },
   "source": [
    "Let's look at a couple tables that are related."
   ]
  },
  {
   "cell_type": "code",
   "execution_count": null,
   "metadata": {
    "hidden": true
   },
   "outputs": [],
   "source": [
    "df_orderdetails = sql_to_df('''\n",
    "    select\n",
    "        *\n",
    "    from\n",
    "        orderdetails\n",
    "''')\n",
    "df_orderdetails.head()"
   ]
  },
  {
   "cell_type": "code",
   "execution_count": null,
   "metadata": {
    "hidden": true
   },
   "outputs": [],
   "source": [
    "df_products = sql_to_df('''\n",
    "    select\n",
    "        *\n",
    "    from\n",
    "        products\n",
    "''')\n",
    "\n",
    "df_products.head()"
   ]
  },
  {
   "cell_type": "markdown",
   "metadata": {
    "hidden": true
   },
   "source": [
    "What if we want to get results from multiple tables?\n",
    "\n",
    "Imagine we want to include the product info with the order details"
   ]
  },
  {
   "cell_type": "code",
   "execution_count": null,
   "metadata": {
    "hidden": true
   },
   "outputs": [],
   "source": [
    "df_combo = sql_to_df('''\n",
    "    select\n",
    "        *\n",
    "    from\n",
    "        orderdetails\n",
    "        JOIN products \n",
    "            on orderdetails.productCode = products.productCode\n",
    "''')\n",
    "\n",
    "df_combo.head()"
   ]
  },
  {
   "cell_type": "markdown",
   "metadata": {
    "hidden": true
   },
   "source": [
    "What if we wanted specific columns from the row? \n",
    "\n",
    "We can add some new\n",
    "\n",
    "We also can make it easier to read."
   ]
  },
  {
   "cell_type": "markdown",
   "metadata": {
    "hidden": true
   },
   "source": [
    "```SQL\n",
    "SELECT\n",
    "    -- We can add custom names to for reference (\"alias\")\n",
    "    od.orderNumber AS 'Order',\n",
    "    p.productName AS Product,\n",
    "    p.productCode AS Code,\n",
    "    od.quantityOrdered AS Quantity,\n",
    "    od.priceEach AS 'Price per Unit',\n",
    "\n",
    "    -- We can do some math to make a new column too\n",
    "    (od.priceEach * od.quantityOrdered) AS 'Total'\n",
    "FROM\n",
    "    -- We can also use aliases for table names\n",
    "    orderdetails AS od\n",
    "    JOIN products AS p\n",
    "        ON od.productCode = p.productCode\n",
    "```"
   ]
  },
  {
   "cell_type": "code",
   "execution_count": null,
   "metadata": {
    "hidden": true
   },
   "outputs": [],
   "source": [
    "df_combo = sql_to_df('''\n",
    "    SELECT\n",
    "        -- We can add custom names to for reference (\"alias\")\n",
    "        od.orderNumber AS 'Order',\n",
    "        p.productName AS Product,\n",
    "        p.productCode AS Code,\n",
    "        od.quantityOrdered AS Quantity,\n",
    "        od.priceEach AS 'Price per Unit',\n",
    "        \n",
    "        -- We can do some math to make a new column too\n",
    "        (od.priceEach * od.quantityOrdered) AS 'Total'\n",
    "    FROM\n",
    "        -- We can also use aliases for table names\n",
    "        orderdetails AS od\n",
    "        JOIN products AS p\n",
    "            ON od.productCode = p.productCode;\n",
    "''')\n",
    "\n",
    "df_combo.head()"
   ]
  },
  {
   "cell_type": "markdown",
   "metadata": {
    "heading_collapsed": true,
    "hidden": true
   },
   "source": [
    "## Want More Joins?"
   ]
  },
  {
   "cell_type": "markdown",
   "metadata": {
    "hidden": true
   },
   "source": [
    "Here's another notebook with some more info & practice on doing joins\n",
    "\n",
    "[DataEngineering/SQL/joins.ipynb](joins.ipynb)"
   ]
  },
  {
   "cell_type": "markdown",
   "metadata": {
    "heading_collapsed": true
   },
   "source": [
    "# Exercises"
   ]
  },
  {
   "cell_type": "markdown",
   "metadata": {
    "hidden": true
   },
   "source": [
    "[DataEngineering/SQL/sql_exercises.ipynb](sql_exercises.ipynb)"
   ]
  }
 ],
 "metadata": {
  "kernelspec": {
   "display_name": "Python 3",
   "language": "python",
   "name": "python3"
  },
  "language_info": {
   "codemirror_mode": {
    "name": "ipython",
    "version": 3
   },
   "file_extension": ".py",
   "mimetype": "text/x-python",
   "name": "python",
   "nbconvert_exporter": "python",
   "pygments_lexer": "ipython3",
   "version": "3.8.5"
  },
  "toc": {
   "base_numbering": 1,
   "nav_menu": {},
   "number_sections": true,
   "sideBar": false,
   "skip_h1_title": false,
   "title_cell": "Table of Contents",
   "title_sidebar": "Contents",
   "toc_cell": true,
   "toc_position": {
    "height": "47px",
    "left": "1210px",
    "top": "110px",
    "width": "210px"
   },
   "toc_section_display": false,
   "toc_window_display": true
  },
  "varInspector": {
   "cols": {
    "lenName": 16,
    "lenType": 16,
    "lenVar": 40
   },
   "kernels_config": {
    "python": {
     "delete_cmd_postfix": "",
     "delete_cmd_prefix": "del ",
     "library": "var_list.py",
     "varRefreshCmd": "print(var_dic_list())"
    },
    "r": {
     "delete_cmd_postfix": ") ",
     "delete_cmd_prefix": "rm(",
     "library": "var_list.r",
     "varRefreshCmd": "cat(var_dic_list()) "
    }
   },
   "types_to_exclude": [
    "module",
    "function",
    "builtin_function_or_method",
    "instance",
    "_Feature"
   ],
   "window_display": false
  }
 },
 "nbformat": 4,
 "nbformat_minor": 2
}
